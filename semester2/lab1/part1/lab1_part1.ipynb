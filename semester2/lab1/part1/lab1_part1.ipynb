{
  "cells": [
    {
      "cell_type": "code",
      "source": [
        "import warnings\n",
        "warnings.filterwarnings('ignore')"
      ],
      "metadata": {
        "id": "0cz1oi2FlARa"
      },
      "execution_count": null,
      "outputs": []
    },
    {
      "cell_type": "markdown",
      "metadata": {
        "id": "eulvfJWl7ueY"
      },
      "source": [
        "# Lab 1\n",
        "\n",
        "\n",
        "## Part 1: Bilingual dictionary induction and unsupervised embedding-based MT (30%)\n",
        "*Note: this homework is based on materials from yandexdataschool [NLP course](https://github.com/yandexdataschool/nlp_course/). Feel free to check this awesome course if you wish to dig deeper.*\n",
        "\n",
        "*Refined by [Nikolay Karpachev](https://www.linkedin.com/in/nikolay-karpachev-b0146a104/)*"
      ]
    },
    {
      "cell_type": "markdown",
      "metadata": {
        "id": "fV4rIjxa7uei"
      },
      "source": [
        "**In this homework** **<font color='red'>YOU</font>** will make machine translation system without using parallel corpora, alignment, attention, 100500 depth super-cool recurrent neural network and all that kind superstuff.\n",
        "\n",
        "But even without parallel corpora this system can be good enough (hopefully), in particular for similar languages, e.g. Ukrainian and Russian. "
      ]
    },
    {
      "cell_type": "markdown",
      "metadata": {
        "id": "idSYq2GU7uew"
      },
      "source": [
        "### Frament of the Swadesh list for some slavic languages\n",
        "\n",
        "The Swadesh list is a lexicostatistical stuff. It's named after American linguist Morris Swadesh and contains basic lexis. This list are used to define subgroupings of languages, its relatedness.\n",
        "\n",
        "So we can see some kind of word invariance for different Slavic languages.\n",
        "\n",
        "\n",
        "| Russian         | Belorussian              | Ukrainian               | Polish             | Czech                         | Bulgarian            |\n",
        "|-----------------|--------------------------|-------------------------|--------------------|-------------------------------|-----------------------|\n",
        "| женщина         | жанчына, кабета, баба    | жінка                   | kobieta            | žena                          | жена                  |\n",
        "| мужчина         | мужчына                  | чоловік, мужчина        | mężczyzna          | muž                           | мъж                   |\n",
        "| человек         | чалавек                  | людина, чоловік         | człowiek           | člověk                        | човек                 |\n",
        "| ребёнок, дитя   | дзіця, дзіцёнак, немаўля | дитина, дитя            | dziecko            | dítě                          | дете                  |\n",
        "| жена            | жонка                    | дружина, жінка          | żona               | žena, manželka, choť          | съпруга, жена         |\n",
        "| муж             | муж, гаспадар            | чоловiк, муж            | mąż                | muž, manžel, choť             | съпруг, мъж           |\n",
        "| мать, мама      | маці, матка              | мати, матір, неня, мама | matka              | matka, máma, 'стар.' mateř    | майка                 |\n",
        "| отец, тятя      | бацька, тата             | батько, тато, татусь    | ojciec             | otec                          | баща, татко           |\n",
        "| много           | шмат, багата             | багато                  | wiele              | mnoho, hodně                  | много                 |\n",
        "| несколько       | некалькі, колькі         | декілька, кілька        | kilka              | několik, pár, trocha          | няколко               |\n",
        "| другой, иной    | іншы                     | інший                   | inny               | druhý, jiný                   | друг                  |\n",
        "| зверь, животное | жывёла, звер, істота     | тварина, звір           | zwierzę            | zvíře                         | животно               |\n",
        "| рыба            | рыба                     | риба                    | ryba               | ryba                          | риба                  |\n",
        "| птица           | птушка                   | птах, птиця             | ptak               | pták                          | птица                 |\n",
        "| собака, пёс     | сабака                   | собака, пес             | pies               | pes                           | куче, пес             |\n",
        "| вошь            | вош                      | воша                    | wesz               | veš                           | въшка                 |\n",
        "| змея, гад       | змяя                     | змія, гад               | wąż                | had                           | змия                  |\n",
        "| червь, червяк   | чарвяк                   | хробак, черв'як         | robak              | červ                          | червей                |\n",
        "| дерево          | дрэва                    | дерево                  | drzewo             | strom, dřevo                  | дърво                 |\n",
        "| лес             | лес                      | ліс                     | las                | les                           | гора, лес             |\n",
        "| палка           | кій, палка               | палиця                  | patyk, pręt, pałka | hůl, klacek, prut, kůl, pálka | палка, пръчка, бастун |"
      ]
    },
    {
      "cell_type": "markdown",
      "metadata": {
        "id": "cNM3_fjr7ue2"
      },
      "source": [
        "But the context distribution of these languages demonstrates even more invariance. And we can use this fact for our for our purposes."
      ]
    },
    {
      "cell_type": "markdown",
      "metadata": {
        "id": "YLppwa527ue6"
      },
      "source": [
        "## Data"
      ]
    },
    {
      "cell_type": "markdown",
      "metadata": {
        "id": "MwGoVhRA7ufP"
      },
      "source": [
        "In this notebook we're going to use pretrained word vectors - FastText (original paper - https://arxiv.org/abs/1607.04606).\n",
        "\n",
        "You can download them from the official [website](https://fasttext.cc/docs/en/crawl-vectors.html). We're going to need embeddings for Russian and Ukrainian languages."
      ]
    },
    {
      "cell_type": "code",
      "execution_count": null,
      "metadata": {
        "id": "KV2-MpR-ugq-",
        "colab": {
          "base_uri": "https://localhost:8080/"
        },
        "outputId": "f232799c-2695-46a8-af78-47b05cbf427b"
      },
      "outputs": [
        {
          "output_type": "stream",
          "name": "stdout",
          "text": [
            "--2022-04-11 21:47:50--  https://dl.fbaipublicfiles.com/fasttext/vectors-crawl/cc.ru.300.vec.gz\n",
            "Resolving dl.fbaipublicfiles.com (dl.fbaipublicfiles.com)... 104.22.75.142, 172.67.9.4, 104.22.74.142, ...\n",
            "Connecting to dl.fbaipublicfiles.com (dl.fbaipublicfiles.com)|104.22.75.142|:443... connected.\n",
            "HTTP request sent, awaiting response... 200 OK\n",
            "Length: 1306357571 (1.2G) [binary/octet-stream]\n",
            "Saving to: ‘cc.ru.300.vec.gz’\n",
            "\n",
            "cc.ru.300.vec.gz    100%[===================>]   1.22G  25.0MB/s    in 52s     \n",
            "\n",
            "2022-04-11 21:48:42 (24.2 MB/s) - ‘cc.ru.300.vec.gz’ saved [1306357571/1306357571]\n",
            "\n",
            "gzip: cc.ru.300.vec already exists; do you wish to overwrite (y or n)? n\n",
            "\tnot overwritten\n",
            "--2022-04-11 21:50:46--  https://dl.fbaipublicfiles.com/fasttext/vectors-crawl/cc.uk.300.vec.gz\n",
            "Resolving dl.fbaipublicfiles.com (dl.fbaipublicfiles.com)... 104.22.74.142, 172.67.9.4, 104.22.75.142, ...\n",
            "Connecting to dl.fbaipublicfiles.com (dl.fbaipublicfiles.com)|104.22.74.142|:443... connected.\n",
            "HTTP request sent, awaiting response... 200 OK\n",
            "Length: 1257595219 (1.2G) [binary/octet-stream]\n",
            "Saving to: ‘cc.uk.300.vec.gz’\n",
            "\n",
            "cc.uk.300.vec.gz    100%[===================>]   1.17G  25.1MB/s    in 50s     \n",
            "\n",
            "2022-04-11 21:51:37 (23.8 MB/s) - ‘cc.uk.300.vec.gz’ saved [1257595219/1257595219]\n",
            "\n",
            "gzip: cc.uk.300.vec already exists; do you wish to overwrite (y or n)? n\n",
            "\tnot overwritten\n"
          ]
        }
      ],
      "source": [
        "!wget -nc https://dl.fbaipublicfiles.com/fasttext/vectors-crawl/cc.ru.300.vec.gzn\n",
        "!gzip -d cc.ru.300.vec.gz\n",
        "\n",
        "!wget -nc https://dl.fbaipublicfiles.com/fasttext/vectors-crawl/cc.uk.300.vec.gz\n",
        "!gzip -d cc.uk.300.vec.gz"
      ]
    },
    {
      "cell_type": "markdown",
      "metadata": {
        "id": "Kwg26PKLv88U"
      },
      "source": [
        "After downloading and extracting the vectors, we should be able to load them using the [gensim](https://radimrehurek.com/gensim/) library:"
      ]
    },
    {
      "cell_type": "code",
      "execution_count": null,
      "metadata": {
        "id": "u1JjQv_97ufT"
      },
      "outputs": [],
      "source": [
        "from gensim.models import KeyedVectors\n",
        "\n",
        "\n",
        "uk_emb = KeyedVectors.load_word2vec_format(\"cc.uk.300.vec\")\n",
        "ru_emb = KeyedVectors.load_word2vec_format(\"cc.ru.300.vec\")"
      ]
    },
    {
      "cell_type": "markdown",
      "metadata": {
        "id": "Sqb_XJhkMyHM"
      },
      "source": [
        "Once you've loaded the vectors, you can use the `KeyedVectors` interface to get word embeddings and/or query most similar words by embedding:"
      ]
    },
    {
      "cell_type": "code",
      "execution_count": null,
      "metadata": {
        "id": "nTkXfT0W7ufk",
        "colab": {
          "base_uri": "https://localhost:8080/"
        },
        "outputId": "fb640a6f-9b5a-484b-daec-cd1335d6fcbd"
      },
      "outputs": [
        {
          "output_type": "execute_result",
          "data": {
            "text/plain": [
              "((300,), array([ 0.0033, -0.0322, -0.0519, -0.0808, -0.0131], dtype=float32))"
            ]
          },
          "metadata": {},
          "execution_count": 4
        }
      ],
      "source": [
        "august_embedding = ru_emb[\"август\"]\n",
        "august_embedding.shape, august_embedding[:5]"
      ]
    },
    {
      "cell_type": "code",
      "execution_count": null,
      "metadata": {
        "id": "oQ2kCq-7NQPn",
        "colab": {
          "base_uri": "https://localhost:8080/"
        },
        "outputId": "4544fc45-7704-40db-fe6c-c0936da7064a"
      },
      "outputs": [
        {
          "output_type": "execute_result",
          "data": {
            "text/plain": [
              "[('август', 1.0),\n",
              " ('июль', 0.9383153915405273),\n",
              " ('сентябрь', 0.9240028858184814),\n",
              " ('июнь', 0.9222575426101685),\n",
              " ('октябрь', 0.9095538854598999),\n",
              " ('ноябрь', 0.8930036425590515),\n",
              " ('апрель', 0.8729087114334106),\n",
              " ('декабрь', 0.8652557730674744),\n",
              " ('март', 0.8545796275138855),\n",
              " ('февраль', 0.8401416540145874)]"
            ]
          },
          "metadata": {},
          "execution_count": 5
        }
      ],
      "source": [
        "ru_emb.most_similar([august_embedding])"
      ]
    },
    {
      "cell_type": "markdown",
      "metadata": {
        "id": "t5EcMMI6pxzL"
      },
      "source": [
        "The latter function also allows you to vary the amount of closest words via the `topn` argument:"
      ]
    },
    {
      "cell_type": "code",
      "execution_count": null,
      "metadata": {
        "id": "bi6AF3z0p9Oo",
        "colab": {
          "base_uri": "https://localhost:8080/"
        },
        "outputId": "378b1a4e-49eb-4aab-820d-a063b98f6320"
      },
      "outputs": [
        {
          "output_type": "execute_result",
          "data": {
            "text/plain": [
              "[('август', 1.0),\n",
              " ('июль', 0.9383153915405273),\n",
              " ('сентябрь', 0.9240028858184814)]"
            ]
          },
          "metadata": {},
          "execution_count": 6
        }
      ],
      "source": [
        "ru_emb.most_similar([august_embedding], topn=3)"
      ]
    },
    {
      "cell_type": "markdown",
      "metadata": {
        "id": "xw345NRXov4p"
      },
      "source": [
        "Another feature of `KeyedVectors` is that it allows to compute embeddings for multiple words simultaneously:"
      ]
    },
    {
      "cell_type": "code",
      "execution_count": null,
      "metadata": {
        "id": "86OuYeLYow0C",
        "colab": {
          "base_uri": "https://localhost:8080/"
        },
        "outputId": "cf94c151-a37c-4744-b035-74eb71116495"
      },
      "outputs": [
        {
          "output_type": "execute_result",
          "data": {
            "text/plain": [
              "(2, 300)"
            ]
          },
          "metadata": {},
          "execution_count": 7
        }
      ],
      "source": [
        "ru_emb[[\"август\", \"сентябрь\"]].shape"
      ]
    },
    {
      "cell_type": "markdown",
      "metadata": {
        "id": "3uGx5zHXQtfo"
      },
      "source": [
        "Everything above is true for the embeddings for Ukrainian language."
      ]
    },
    {
      "cell_type": "code",
      "execution_count": null,
      "metadata": {
        "id": "vdBA8lcg7ufs",
        "colab": {
          "base_uri": "https://localhost:8080/"
        },
        "outputId": "2b219e57-f3da-48b4-aa1e-fc24dcd72f68"
      },
      "outputs": [
        {
          "output_type": "execute_result",
          "data": {
            "text/plain": [
              "[('серпень', 0.9999999403953552),\n",
              " ('липень', 0.9096440076828003),\n",
              " ('вересень', 0.901697039604187),\n",
              " ('червень', 0.8992519378662109),\n",
              " ('жовтень', 0.8810408711433411),\n",
              " ('листопад', 0.8787633776664734),\n",
              " ('квітень', 0.8592804670333862),\n",
              " ('грудень', 0.8586863279342651),\n",
              " ('травень', 0.8408110737800598),\n",
              " ('лютий', 0.8256431818008423)]"
            ]
          },
          "metadata": {},
          "execution_count": 8
        }
      ],
      "source": [
        "uk_emb.most_similar([uk_emb[\"серпень\"]])"
      ]
    },
    {
      "cell_type": "markdown",
      "metadata": {
        "id": "F1Dkka5uQ37-"
      },
      "source": [
        "However, russian and ukrainian embeddings were trained independently of each other. This means, that there is no obvious connection between values in embeddings for similar words in Russian and Ukrainian:"
      ]
    },
    {
      "cell_type": "code",
      "execution_count": null,
      "metadata": {
        "id": "_yJvcKXO7uf0",
        "colab": {
          "base_uri": "https://localhost:8080/"
        },
        "outputId": "38e4237f-d707-46c4-84ad-3217866596b6"
      },
      "outputs": [
        {
          "output_type": "execute_result",
          "data": {
            "text/plain": [
              "[('Stepashka.com', 0.2757962942123413),\n",
              " ('ЖИЗНИВадим', 0.25203436613082886),\n",
              " ('2Дмитрий', 0.25048112869262695),\n",
              " ('2012Дмитрий', 0.24829231202602386),\n",
              " ('Ведущий-Алексей', 0.2443869560956955),\n",
              " ('Недопустимость', 0.24435284733772278),\n",
              " ('2Михаил', 0.23981399834156036),\n",
              " ('лексей', 0.23740756511688232),\n",
              " ('комплексн', 0.23695150017738342),\n",
              " ('персональ', 0.2368222028017044)]"
            ]
          },
          "metadata": {},
          "execution_count": 9
        }
      ],
      "source": [
        "ru_emb.most_similar([uk_emb[\"серпень\"]])"
      ]
    },
    {
      "cell_type": "markdown",
      "metadata": {
        "id": "Lia_h7W2qL8C"
      },
      "source": [
        "## Translation"
      ]
    },
    {
      "cell_type": "markdown",
      "metadata": {
        "id": "pNdYAR1q7uf6"
      },
      "source": [
        "We'll build a simple translator, which will try to predict the russian embedding from the ukrainian one. For this we'll need a dataset of word pairs."
      ]
    },
    {
      "cell_type": "code",
      "execution_count": null,
      "metadata": {
        "id": "Kon7ZH6wUYdN",
        "colab": {
          "base_uri": "https://localhost:8080/",
          "height": 241
        },
        "outputId": "4bee310e-2968-4d1a-e749-1b57cb523b82"
      },
      "outputs": [
        {
          "output_type": "stream",
          "name": "stdout",
          "text": [
            "Train dataset size: 1927\n",
            "Test dataset size: 400\n"
          ]
        },
        {
          "output_type": "execute_result",
          "data": {
            "text/plain": [
              "         uk          ru\n",
              "0  iмовірно    вероятно\n",
              "1     iснує  существует\n",
              "2     iспит     экзамен\n",
              "3     абияк  как-нибудь\n",
              "4       або         или"
            ],
            "text/html": [
              "\n",
              "  <div id=\"df-2dd46c63-2dad-4e6a-ae67-c1749079b965\">\n",
              "    <div class=\"colab-df-container\">\n",
              "      <div>\n",
              "<style scoped>\n",
              "    .dataframe tbody tr th:only-of-type {\n",
              "        vertical-align: middle;\n",
              "    }\n",
              "\n",
              "    .dataframe tbody tr th {\n",
              "        vertical-align: top;\n",
              "    }\n",
              "\n",
              "    .dataframe thead th {\n",
              "        text-align: right;\n",
              "    }\n",
              "</style>\n",
              "<table border=\"1\" class=\"dataframe\">\n",
              "  <thead>\n",
              "    <tr style=\"text-align: right;\">\n",
              "      <th></th>\n",
              "      <th>uk</th>\n",
              "      <th>ru</th>\n",
              "    </tr>\n",
              "  </thead>\n",
              "  <tbody>\n",
              "    <tr>\n",
              "      <th>0</th>\n",
              "      <td>iмовірно</td>\n",
              "      <td>вероятно</td>\n",
              "    </tr>\n",
              "    <tr>\n",
              "      <th>1</th>\n",
              "      <td>iснує</td>\n",
              "      <td>существует</td>\n",
              "    </tr>\n",
              "    <tr>\n",
              "      <th>2</th>\n",
              "      <td>iспит</td>\n",
              "      <td>экзамен</td>\n",
              "    </tr>\n",
              "    <tr>\n",
              "      <th>3</th>\n",
              "      <td>абияк</td>\n",
              "      <td>как-нибудь</td>\n",
              "    </tr>\n",
              "    <tr>\n",
              "      <th>4</th>\n",
              "      <td>або</td>\n",
              "      <td>или</td>\n",
              "    </tr>\n",
              "  </tbody>\n",
              "</table>\n",
              "</div>\n",
              "      <button class=\"colab-df-convert\" onclick=\"convertToInteractive('df-2dd46c63-2dad-4e6a-ae67-c1749079b965')\"\n",
              "              title=\"Convert this dataframe to an interactive table.\"\n",
              "              style=\"display:none;\">\n",
              "        \n",
              "  <svg xmlns=\"http://www.w3.org/2000/svg\" height=\"24px\"viewBox=\"0 0 24 24\"\n",
              "       width=\"24px\">\n",
              "    <path d=\"M0 0h24v24H0V0z\" fill=\"none\"/>\n",
              "    <path d=\"M18.56 5.44l.94 2.06.94-2.06 2.06-.94-2.06-.94-.94-2.06-.94 2.06-2.06.94zm-11 1L8.5 8.5l.94-2.06 2.06-.94-2.06-.94L8.5 2.5l-.94 2.06-2.06.94zm10 10l.94 2.06.94-2.06 2.06-.94-2.06-.94-.94-2.06-.94 2.06-2.06.94z\"/><path d=\"M17.41 7.96l-1.37-1.37c-.4-.4-.92-.59-1.43-.59-.52 0-1.04.2-1.43.59L10.3 9.45l-7.72 7.72c-.78.78-.78 2.05 0 2.83L4 21.41c.39.39.9.59 1.41.59.51 0 1.02-.2 1.41-.59l7.78-7.78 2.81-2.81c.8-.78.8-2.07 0-2.86zM5.41 20L4 18.59l7.72-7.72 1.47 1.35L5.41 20z\"/>\n",
              "  </svg>\n",
              "      </button>\n",
              "      \n",
              "  <style>\n",
              "    .colab-df-container {\n",
              "      display:flex;\n",
              "      flex-wrap:wrap;\n",
              "      gap: 12px;\n",
              "    }\n",
              "\n",
              "    .colab-df-convert {\n",
              "      background-color: #E8F0FE;\n",
              "      border: none;\n",
              "      border-radius: 50%;\n",
              "      cursor: pointer;\n",
              "      display: none;\n",
              "      fill: #1967D2;\n",
              "      height: 32px;\n",
              "      padding: 0 0 0 0;\n",
              "      width: 32px;\n",
              "    }\n",
              "\n",
              "    .colab-df-convert:hover {\n",
              "      background-color: #E2EBFA;\n",
              "      box-shadow: 0px 1px 2px rgba(60, 64, 67, 0.3), 0px 1px 3px 1px rgba(60, 64, 67, 0.15);\n",
              "      fill: #174EA6;\n",
              "    }\n",
              "\n",
              "    [theme=dark] .colab-df-convert {\n",
              "      background-color: #3B4455;\n",
              "      fill: #D2E3FC;\n",
              "    }\n",
              "\n",
              "    [theme=dark] .colab-df-convert:hover {\n",
              "      background-color: #434B5C;\n",
              "      box-shadow: 0px 1px 3px 1px rgba(0, 0, 0, 0.15);\n",
              "      filter: drop-shadow(0px 1px 2px rgba(0, 0, 0, 0.3));\n",
              "      fill: #FFFFFF;\n",
              "    }\n",
              "  </style>\n",
              "\n",
              "      <script>\n",
              "        const buttonEl =\n",
              "          document.querySelector('#df-2dd46c63-2dad-4e6a-ae67-c1749079b965 button.colab-df-convert');\n",
              "        buttonEl.style.display =\n",
              "          google.colab.kernel.accessAllowed ? 'block' : 'none';\n",
              "\n",
              "        async function convertToInteractive(key) {\n",
              "          const element = document.querySelector('#df-2dd46c63-2dad-4e6a-ae67-c1749079b965');\n",
              "          const dataTable =\n",
              "            await google.colab.kernel.invokeFunction('convertToInteractive',\n",
              "                                                     [key], {});\n",
              "          if (!dataTable) return;\n",
              "\n",
              "          const docLinkHtml = 'Like what you see? Visit the ' +\n",
              "            '<a target=\"_blank\" href=https://colab.research.google.com/notebooks/data_table.ipynb>data table notebook</a>'\n",
              "            + ' to learn more about interactive tables.';\n",
              "          element.innerHTML = '';\n",
              "          dataTable['output_type'] = 'display_data';\n",
              "          await google.colab.output.renderOutput(dataTable, element);\n",
              "          const docLink = document.createElement('div');\n",
              "          docLink.innerHTML = docLinkHtml;\n",
              "          element.appendChild(docLink);\n",
              "        }\n",
              "      </script>\n",
              "    </div>\n",
              "  </div>\n",
              "  "
            ]
          },
          "metadata": {},
          "execution_count": 10
        }
      ],
      "source": [
        "import pandas as pd\n",
        "\n",
        "\n",
        "train_data_url = \"https://raw.githubusercontent.com/girafe-ai/ml-mipt/22s_advanced/homeworks_advanced/Lab1_NLP/uk_ru.train.tsv\"\n",
        "train_data = pd.read_csv(train_data_url, sep=\"\\t\", header=None)\n",
        "train_data.columns = [\"uk\", \"ru\"]\n",
        "print(f\"Train dataset size: {len(train_data)}\")\n",
        "\n",
        "test_data_url = \"https://raw.githubusercontent.com/girafe-ai/ml-mipt/22s_advanced/homeworks_advanced/Lab1_NLP/uk_ru.test.tsv\"\n",
        "test_data = pd.read_csv(test_data_url, sep=\"\\t\", header=None)\n",
        "test_data.columns = [\"uk\", \"ru\"]\n",
        "print(f\"Test dataset size: {len(test_data)}\")\n",
        "\n",
        "train_data.head()"
      ]
    },
    {
      "cell_type": "markdown",
      "metadata": {
        "id": "DYoXmFPanrwo"
      },
      "source": [
        "Our method won't work with unknown words, so let's filter them out:"
      ]
    },
    {
      "cell_type": "code",
      "execution_count": null,
      "metadata": {
        "id": "Ls4h2PrplJID",
        "colab": {
          "base_uri": "https://localhost:8080/"
        },
        "outputId": "fd026ba4-532e-470b-9a2d-a5d3143db5ba"
      },
      "outputs": [
        {
          "output_type": "stream",
          "name": "stdout",
          "text": [
            "Train dataset size: 1880\n",
            "Test dataset size: 393\n"
          ]
        }
      ],
      "source": [
        "rows = []\n",
        "for _, row in train_data.iterrows():\n",
        "    if row[\"uk\"] not in uk_emb or row[\"ru\"] not in ru_emb:\n",
        "        continue\n",
        "\n",
        "    rows.append(row)\n",
        "\n",
        "train_data = pd.DataFrame(rows)\n",
        "print(f\"Train dataset size: {len(train_data)}\")\n",
        "\n",
        "rows = []\n",
        "for _, row in test_data.iterrows():\n",
        "    if row[\"uk\"] not in uk_emb or row[\"ru\"] not in ru_emb:\n",
        "        continue\n",
        "\n",
        "    rows.append(row)\n",
        "\n",
        "test_data = pd.DataFrame(rows)\n",
        "print(f\"Test dataset size: {len(test_data)}\")"
      ]
    },
    {
      "cell_type": "markdown",
      "metadata": {
        "id": "wwjYGFE7Ui0N"
      },
      "source": [
        "We will train our model to predict embedding for the russian word from embedding of its ukrainian counterpart. For this reason we split our train and test data into ukrainian and russian words and compute corresponding embeddings to obtain `X` (ukrainian embeddings) and `y` (russian embeddings)."
      ]
    },
    {
      "cell_type": "code",
      "execution_count": null,
      "metadata": {
        "id": "WR7v7lvFYWYy"
      },
      "outputs": [],
      "source": [
        "X_train, Y_train = uk_emb[train_data[\"uk\"].values], ru_emb[train_data[\"ru\"].values]\n",
        "X_test, Y_test = uk_emb[test_data[\"uk\"].values], ru_emb[test_data[\"ru\"].values]"
      ]
    },
    {
      "cell_type": "markdown",
      "metadata": {
        "id": "-ZBBNvpz7ugQ"
      },
      "source": [
        "## Embedding space mapping (0.3 pts)"
      ]
    },
    {
      "cell_type": "markdown",
      "metadata": {
        "id": "x_Dhk5gL7ugS"
      },
      "source": [
        "Let $x_i \\in \\mathrm{R}^d$ be the distributed representation of word $i$ in the source language, and $y_i \\in \\mathrm{R}^d$ is the vector representation of its translation. Our purpose is to learn such linear transform $W$ that minimizes euclidian distance between $Wx_i$ and $y_i$ for some subset of word embeddings. Thus we can formulate so-called Procrustes problem:\n",
        "\n",
        "$$W^*= \\arg\\min_W \\sum_{i=1}^n\\|Wx_i - y_i\\|_2$$\n",
        "\n",
        "or\n",
        "\n",
        "$$W^*= \\arg\\min_W \\|XW^T - Y\\|_F$$\n",
        "\n",
        "where $\\|\\cdot\\|_F$ denotes Frobenius norm.\n",
        "\n",
        "> **Note:** in second formula, $W$ and $x$ seem to have switched places. This happens because the $X$ matrix is composed of objects $x_i$ in *rows* not *columns*, i.e. it is kind of composed of $x_i^T$. This means that $X \\in \\mathbb{R}^{N \\times D}$, where $N$ is the number of items and $D$ is the embedding dimensionality. The same is true for the $Y$."
      ]
    },
    {
      "cell_type": "markdown",
      "metadata": {
        "id": "acOjDdtL7ugY"
      },
      "source": [
        "$W^*= \\arg\\min_W \\sum_{i=1}^n\\|Wx_i - y_i\\|_2$ looks like simple multiple linear regression without bias. The `sklearn` allows you to turn off the bias in `LinearRegression` via the `fit_intercept` argument (in fact they simply call bias the intercept). So let's code."
      ]
    },
    {
      "cell_type": "code",
      "execution_count": null,
      "metadata": {
        "id": "Lb-KN1be7uga",
        "colab": {
          "base_uri": "https://localhost:8080/"
        },
        "outputId": "80b446a9-f097-4b13-f5ec-b46da1ce323a"
      },
      "outputs": [
        {
          "output_type": "execute_result",
          "data": {
            "text/plain": [
              "LinearRegression(normalize=True)"
            ]
          },
          "metadata": {},
          "execution_count": 13
        }
      ],
      "source": [
        "from sklearn.linear_model import LinearRegression\n",
        "\n",
        "mapping = LinearRegression(normalize=True, copy_X=True)\n",
        "mapping.fit(X_train, Y_train)"
      ]
    },
    {
      "cell_type": "markdown",
      "metadata": {
        "id": "X7tqJwoY7ugf"
      },
      "source": [
        "Let's take a look at neigbours of the vector of word _\"серпень\"_ (_\"август\"_ in Russian) after linear transform."
      ]
    },
    {
      "cell_type": "code",
      "execution_count": null,
      "metadata": {
        "id": "31SrFSbn7ugi",
        "colab": {
          "base_uri": "https://localhost:8080/"
        },
        "outputId": "7cdb8dae-3803-449a-c22e-615498d568fb"
      },
      "outputs": [
        {
          "output_type": "execute_result",
          "data": {
            "text/plain": [
              "[('апрель', 0.8531402349472046),\n",
              " ('июнь', 0.8402305841445923),\n",
              " ('март', 0.8385773301124573),\n",
              " ('сентябрь', 0.8331866264343262),\n",
              " ('февраль', 0.8311493396759033),\n",
              " ('октябрь', 0.8278170824050903),\n",
              " ('ноябрь', 0.8244149684906006),\n",
              " ('июль', 0.8228994607925415),\n",
              " ('август', 0.8112361431121826),\n",
              " ('январь', 0.80228590965271)]"
            ]
          },
          "metadata": {},
          "execution_count": 14
        }
      ],
      "source": [
        "august = mapping.predict(uk_emb[\"серпень\"].reshape(1, -1))\n",
        "ru_emb.most_similar(august)"
      ]
    },
    {
      "cell_type": "markdown",
      "metadata": {
        "id": "okSkjk597ugo"
      },
      "source": [
        "We can see that neighbourhood of this embedding cosists of different months, but right variant is on the ninth place."
      ]
    },
    {
      "cell_type": "markdown",
      "metadata": {
        "id": "o2uY6Y9B7ugt"
      },
      "source": [
        "As quality measure we will use precision top-1, top-5 and top-10 (for each transformed ukrainian embedding we count how many right target pairs are found in top N nearest neighbours in russian embedding space)."
      ]
    },
    {
      "cell_type": "code",
      "execution_count": null,
      "metadata": {
        "id": "zptuho8LAfIE"
      },
      "outputs": [],
      "source": [
        "def precision(pairs, mapped_vectors, topn=1):\n",
        "    \"\"\"\n",
        "    :args:\n",
        "        pairs = list of right word pairs [(uk_word_0, ru_word_0), ...]\n",
        "        mapped_vectors = list of embeddings after mapping from source embedding space to destination embedding space\n",
        "        topn = the number of nearest neighbours in destination embedding space to choose from\n",
        "    :returns:\n",
        "        precision_val, float number, total number of words for those we can find right translation at top K.\n",
        "    \"\"\"\n",
        "    assert len(pairs) == len(mapped_vectors)\n",
        "    total = len(pairs)\n",
        "    correct = 0\n",
        "    for i in range(total):\n",
        "        pair = pairs[i]\n",
        "        predicted_vector = mapped_vectors[i]\n",
        "\n",
        "        word_metrcis = ru_emb.most_similar(predicted_vector.reshape(1, -1), topn=topn)\n",
        "        lst = [word for word, metric in word_metrcis]\n",
        "        if pair[1] in lst:\n",
        "            correct += 1\n",
        "\n",
        "    return correct / total"
      ]
    },
    {
      "cell_type": "code",
      "execution_count": null,
      "metadata": {
        "id": "duhj9hpv7ugy"
      },
      "outputs": [],
      "source": [
        "assert precision([(\"серпень\", \"август\")], august, topn=5) == 0.0\n",
        "assert precision([(\"серпень\", \"август\")], august, topn=9) == 1.0\n",
        "assert precision([(\"серпень\", \"август\")], august, topn=10) == 1.0"
      ]
    },
    {
      "cell_type": "markdown",
      "metadata": {
        "id": "z5A9tWtnuFx3"
      },
      "source": [
        "Note that our `precision` function accepts lists of pairs of words, whereas we have dataframes. However, it is not a problem: we can get a list (actually, numpy array) of pairs via the `values` property."
      ]
    },
    {
      "cell_type": "code",
      "execution_count": null,
      "metadata": {
        "id": "0-iyd5gP7ug5"
      },
      "outputs": [],
      "source": [
        "assert precision(test_data.values, X_test) == 0.0\n",
        "assert precision(test_data.values, Y_test) == 1.0"
      ]
    },
    {
      "cell_type": "markdown",
      "metadata": {
        "id": "7DVV5lqrua_O"
      },
      "source": [
        "Let's see how well our model is doing."
      ]
    },
    {
      "cell_type": "code",
      "execution_count": null,
      "metadata": {
        "id": "U-ssEJ3x7uhA",
        "colab": {
          "base_uri": "https://localhost:8080/"
        },
        "outputId": "b7eec629-a741-4536-ea8e-fa4b7b5a30bb"
      },
      "outputs": [
        {
          "output_type": "stream",
          "name": "stdout",
          "text": [
            "Top-1 precision 62.6%\n",
            "Top-5 precision 79.1%\n"
          ]
        }
      ],
      "source": [
        "top1 = precision(test_data.values, mapping.predict(X_test), 1)\n",
        "print(f\"Top-1 precision {100 * top1:.1f}%\")\n",
        "\n",
        "top5 = precision(test_data.values, mapping.predict(X_test), 5)\n",
        "print(f\"Top-5 precision {100 * top5:.1f}%\")"
      ]
    },
    {
      "cell_type": "markdown",
      "metadata": {
        "id": "hf6Ou8bx7uhH"
      },
      "source": [
        "## Making it better (orthogonal Procrustean problem) (0.3 pts)"
      ]
    },
    {
      "cell_type": "markdown",
      "metadata": {
        "id": "4oLs-drN7uhK"
      },
      "source": [
        "It can be shown that a self-consistent linear mapping between semantic spaces should be orthogonal. \n",
        "We can restrict transform $W$ to be orthogonal. Then we will solve next problem:\n",
        "\n",
        "$$(W^T)^*= \\arg\\min_{W^T} \\|XW^T - Y\\|_F \\text{, where: } W^TW = I$$\n",
        "\n",
        "$$I \\text{- identity matrix}$$\n",
        "\n",
        "Instead of making yet another regression problem we can find optimal orthogonal transformation using singular value decomposition. It turns out that optimal transformation $W^*$ can be expressed via SVD components:\n",
        "$$X^TY=U\\Sigma V^T\\text{, singular value decompostion}$$\n",
        "$$(W^T)^*=UV^T$$"
      ]
    },
    {
      "cell_type": "code",
      "execution_count": null,
      "metadata": {
        "id": "DdFQ7qti7uhL"
      },
      "outputs": [],
      "source": [
        "import numpy as np\n",
        "\n",
        "u, _, vt = np.linalg.svd(X_train.T @ Y_train)\n",
        "mapping = u @ vt"
      ]
    },
    {
      "cell_type": "markdown",
      "metadata": {
        "id": "sehLFmlBysc-"
      },
      "source": [
        "Now our `mapping` is just a numpy array, meaning that it has no `predict` method. However, from the formulae above we know, that prediction is done using the matrix multiplication:"
      ]
    },
    {
      "cell_type": "code",
      "execution_count": null,
      "metadata": {
        "id": "OVOFYYa37uhX",
        "colab": {
          "base_uri": "https://localhost:8080/"
        },
        "outputId": "25a20689-7d70-4ac9-8167-71576c427e1d"
      },
      "outputs": [
        {
          "output_type": "execute_result",
          "data": {
            "text/plain": [
              "[('апрель', 0.8245131969451904),\n",
              " ('июнь', 0.805662989616394),\n",
              " ('сентябрь', 0.8055761456489563),\n",
              " ('март', 0.8032935261726379),\n",
              " ('октябрь', 0.7987102270126343),\n",
              " ('июль', 0.7946797013282776),\n",
              " ('ноябрь', 0.7939636707305908),\n",
              " ('август', 0.7938189506530762),\n",
              " ('февраль', 0.7923861145973206),\n",
              " ('декабрь', 0.7715375423431396)]"
            ]
          },
          "metadata": {},
          "execution_count": 20
        }
      ],
      "source": [
        "august = uk_emb[\"серпень\"] @ mapping\n",
        "ru_emb.most_similar([august])"
      ]
    },
    {
      "cell_type": "markdown",
      "metadata": {
        "id": "h4qKCmq7zJDK"
      },
      "source": [
        "Now let's compute our precision values and see, whether our trick did improve the results."
      ]
    },
    {
      "cell_type": "code",
      "execution_count": null,
      "metadata": {
        "id": "r297sYP37uhb",
        "colab": {
          "base_uri": "https://localhost:8080/"
        },
        "outputId": "7334d400-2801-442c-ce07-88311729e530"
      },
      "outputs": [
        {
          "output_type": "stream",
          "name": "stdout",
          "text": [
            "Top-1 precision 64.4%\n",
            "Top-5 precision 79.9%\n"
          ]
        }
      ],
      "source": [
        "top1 = precision(test_data.values, X_test @ mapping, 1)\n",
        "print(f\"Top-1 precision {100 * top1:.1f}%\")\n",
        "\n",
        "top5 = precision(test_data.values, X_test @ mapping, 5)\n",
        "print(f\"Top-5 precision {100 * top5:.1f}%\")"
      ]
    },
    {
      "cell_type": "markdown",
      "metadata": {
        "id": "hvUZ72U5AfJg"
      },
      "source": [
        "## Unsupervised embedding-based MT (0.4 pts)"
      ]
    },
    {
      "cell_type": "markdown",
      "metadata": {
        "id": "LLyuVfHBLrJn"
      },
      "source": [
        "Now, let's build our word embeddings-based translator!"
      ]
    },
    {
      "cell_type": "markdown",
      "metadata": {
        "id": "tPAURW1CMuP7"
      },
      "source": [
        "Firstly, download OPUS Tatoeba corpus."
      ]
    },
    {
      "cell_type": "code",
      "execution_count": null,
      "metadata": {
        "id": "F80kUKzQMsDu",
        "colab": {
          "base_uri": "https://localhost:8080/"
        },
        "outputId": "841bce8f-423b-4e93-d1d8-6d59d38a5186"
      },
      "outputs": [
        {
          "output_type": "stream",
          "name": "stdout",
          "text": [
            "--2022-04-11 22:09:30--  https://object.pouta.csc.fi/OPUS-Tatoeba/v20190709/mono/uk.txt.gz\n",
            "Resolving object.pouta.csc.fi (object.pouta.csc.fi)... 86.50.254.18, 86.50.254.19\n",
            "Connecting to object.pouta.csc.fi (object.pouta.csc.fi)|86.50.254.18|:443... connected.\n",
            "HTTP request sent, awaiting response... 200 OK\n",
            "Length: 1819128 (1.7M) [application/gzip]\n",
            "Saving to: ‘uk.txt.gz’\n",
            "\n",
            "uk.txt.gz           100%[===================>]   1.73M  6.84MB/s    in 0.3s    \n",
            "\n",
            "2022-04-11 22:09:30 (6.84 MB/s) - ‘uk.txt.gz’ saved [1819128/1819128]\n",
            "\n",
            "gzip: ./uk.txt already exists; do you wish to overwrite (y or n)? n\n",
            "\tnot overwritten\n"
          ]
        }
      ],
      "source": [
        "!wget https://object.pouta.csc.fi/OPUS-Tatoeba/v20190709/mono/uk.txt.gz\n",
        "!gzip -d ./uk.txt.gz"
      ]
    },
    {
      "cell_type": "code",
      "execution_count": null,
      "metadata": {
        "id": "2MV3VvoVUX5U",
        "colab": {
          "base_uri": "https://localhost:8080/"
        },
        "outputId": "84500ba9-7112-43a4-df26-9397477b8ce3"
      },
      "outputs": [
        {
          "output_type": "execute_result",
          "data": {
            "text/plain": [
              "['Я вже закінчу коледж, коли ви вернетеся з Америки.\\n',\n",
              " 'Він наказав мені негайно вийти з кімнати.\\n',\n",
              " 'Як би ти не намагався, ти не вивчиш англійську за два-три місяці.\\n',\n",
              " 'Поки я не подзвонив, він не прийшов.\\n',\n",
              " 'У всесвіті багато галактик.\\n']"
            ]
          },
          "metadata": {},
          "execution_count": 23
        }
      ],
      "source": [
        "with open('./uk.txt', 'r') as f:\n",
        "    uk_corpus = f.readlines()\n",
        "\n",
        "# To save your time and CPU, feel free to use first 1000 sentences of the corpus\n",
        "uk_corpus = uk_corpus[:1000]\n",
        "uk_corpus[:5]"
      ]
    },
    {
      "cell_type": "markdown",
      "metadata": {
        "id": "oa3dAZHv1wjY"
      },
      "source": [
        "Now let's translate these sentences word-by-word. Before that, however, don't forget to tokenize your sentences. For that you may (or may not) find the `nltk.tokenize.WordPunctTokenizer` to be very useful."
      ]
    },
    {
      "cell_type": "code",
      "source": [
        "import nltk\n",
        "tokenizer = nltk.tokenize.WordPunctTokenizer()"
      ],
      "metadata": {
        "id": "bX-HBII0g7Zv"
      },
      "execution_count": null,
      "outputs": []
    },
    {
      "cell_type": "code",
      "execution_count": null,
      "metadata": {
        "id": "FGksC7l_NMi9"
      },
      "outputs": [],
      "source": [
        "def translate(sentence):\n",
        "    \"\"\"\n",
        "    :args:\n",
        "        sentence - sentence in Ukrainian (str)\n",
        "    :returns:\n",
        "        translation - sentence in Russian (str)\n",
        "\n",
        "    * find ukrainian embedding for each word in sentence\n",
        "    * transform ukrainian embedding vector\n",
        "    * find nearest russian word and replace\n",
        "    \"\"\"\n",
        "    translated = []\n",
        "\n",
        "    sentence = tokenizer.tokenize(sentence)\n",
        "    ukrainian_vectors = []\n",
        "    for word in sentence:\n",
        "        if word in uk_emb.vocab:\n",
        "            ukrainian_vectors.append(uk_emb[word])\n",
        "        else:\n",
        "            ukrainian_vectors.append(np.zeros(300))\n",
        "\n",
        "    ukrainian_vectors = np.array(ukrainian_vectors)\n",
        "    \n",
        "\n",
        "    for i, vector in enumerate(ukrainian_vectors):\n",
        "        ru_vector = np.matmul(vector, mapping)\n",
        "        (word, sim) = ru_emb.most_similar([ru_vector])[0]\n",
        "        if sim > 0.1:\n",
        "            translated.append(word)\n",
        "        else:\n",
        "            translated.append(sentence[i])\n",
        "\n",
        "    return \" \".join(translated)"
      ]
    },
    {
      "cell_type": "code",
      "execution_count": null,
      "metadata": {
        "id": "4hbbMy-tNxlf"
      },
      "outputs": [],
      "source": [
        "assert translate(\".\") == \".\"\n",
        "assert translate(\"1 , 3\") == \"1 , 3\"\n",
        "assert translate(\"кіт зловив мишу\") == \"кот поймал мышку\""
      ]
    },
    {
      "cell_type": "markdown",
      "metadata": {
        "id": "ia6I2ce7O_HI"
      },
      "source": [
        "Now you can play with your model and try to get as accurate translations as possible. **Note**: one big issue is out-of-vocabulary words. Try to think of various ways of handling it (you can start with translating each of them to a special **UNK** token and then move to more sophisticated approaches). Good luck!"
      ]
    },
    {
      "cell_type": "code",
      "execution_count": null,
      "metadata": {
        "id": "ap1W7ZCeOAVU",
        "colab": {
          "base_uri": "https://localhost:8080/"
        },
        "outputId": "ab9a2327-f66b-4825-da88-1f92e587a5b2"
      },
      "outputs": [
        {
          "output_type": "stream",
          "name": "stdout",
          "text": [
            "0. Перевод: Я уже закончу колледж , когда мы прибежишь со Америки . Оригинал: Я вже закінчу коледж, коли ви вернетеся з Америки.\n",
            "\n",
            "1. Перевод: Город бомбили враждебные самолеты . Оригинал: Місто бомбардували ворожі літаки.\n",
            "\n",
            "2. Перевод: Возможно , мной антисоциальный , конечно это не означает , что мной не общаюсь со людьми . Оригинал: Можливо, я антисоціальний, але це не означає, що я не спілкуюся з людьми.\n",
            "\n",
            "3. Перевод: Впрочем утра выпала роса . Оригинал: Цього ранку випала роса.\n",
            "\n",
            "4. Перевод: Беда не приходит одна . Оригинал: Біда не приходить одна.\n",
            "\n",
            "5. Перевод: Посмотри по тот дым . Оригинал: Подивися на той дим.\n",
            "\n",
            "6. Перевод: Я заказал два гамбургера . Оригинал: Я замовив два гамбургера.\n",
            "\n",
            "7. Перевод: Я не хотел никого обидеть . Оригинал: Я не хотів нікого образити.\n",
            "\n",
            "8. Перевод: Гора покрыта снегом . Оригинал: Гора вкрита снігом.\n",
            "\n",
            "9. Перевод: по фотографии во девушки корона не со золота , а со цветов . Оригинал: На фотографії в дівчини корона не з золота, а з квітів.\n",
            "\n",
            "10. Перевод: Во меня То мечта . Оригинал: У мене є мрія.\n",
            "\n",
            "11. Перевод: Я приехал во Японию со Китая . Оригинал: Я приїхав у Японію з Китаю.\n",
            "\n",
            "12. Перевод: по север находится Шотландия ; по юге — Англия ; по востоке — Уэльс ; и ещe дальше по востоке — северная Ирландия . Оригинал: На півночі знаходиться Шотландія; на півдні — Англія; на заході — Уельс; і ще далі на заході — Північна Ірландія.\n",
            "\n",
            "13. Перевод: Его родная страна — Германия . Оригинал: Його рідна країна — Німеччина.\n",
            "\n",
            "14. Перевод: Берн — столица Швейцарии . Оригинал: Берн — столиця Швейцарії.\n",
            "\n",
            "15. Перевод: Он ждал по него к десятой часа . Оригинал: Він чекав на нього до десятої години.\n",
            "\n",
            "16. Перевод: Ты можешь взять ту книгу даром . Оригинал: Ти можеш взяти цю книгу даром.\n",
            "\n",
            "17. Перевод: Такой роман сочинил известный американский писатель . Оригинал: Цей роман написав відомий американський письменник.\n",
            "\n",
            "18. Перевод: забронировать , будте ласковые , комнату возле международного аэропорта во Торонто . Оригинал: Забронюйте, будьте ласкаві, кімнату біля міжнародного аеропорту в Торонто.\n",
            "\n",
            "19. Перевод: Он знает , что ты его влюбится ? Оригинал: Він знає, що ти його кохаєш?\n",
            "\n",
            "20. Перевод: Я знаю , что ты богатый . Оригинал: Я знаю, що ти багатий.\n",
            "\n",
            "21. Перевод: Те , кто всё забывают , счастливые . Оригинал: Ті, хто все забувають, щасливі.\n",
            "\n",
            "22. Перевод: Во этой реке опасно плавать . Оригинал: В цій річці небезпечно плавати.\n",
            "\n",
            "23. Перевод: пришел , увидел , победил . Оригинал: Прийшов, побачив, переміг.\n",
            "\n",
            "24. Перевод: Я хожу к школы пешком . Оригинал: Я ходжу до школи пішки.\n",
            "\n",
            "25. Перевод: Не моя дело ! Оригинал: Не твоя справа!\n",
            "\n",
            "26. Перевод: Не забудь билет . Оригинал: Не забудь квиток.\n",
            "\n",
            "27. Перевод: Кто он ? Оригинал: Хто він?\n",
            "\n",
            "28. Перевод: Вы будете чай ли кофе ? Оригинал: Ви будете чай чи каву?\n",
            "\n",
            "29. Перевод: Он не пойдет по пикник , как и мной . Оригинал: Він не піде на пікнік, як і я.\n",
            "\n",
            "30. Перевод: Когда Вы родились ? Оригинал: Коли Ви народилися?\n",
            "\n",
            "31. Перевод: Это моя любимая песня . Оригинал: Це моя улюблена пісня.\n",
            "\n",
            "32. Перевод: мы почти семь со мной . Оригинал: Ми майже сім’я.\n",
            "\n",
            "33. Перевод: Какой красивый сегодня месяц ! Оригинал: Який гарний сьогодні місяць!\n",
            "\n",
            "34. Перевод: Я против любой – которых войны . Оригинал: Я проти будь-яких війн.\n",
            "\n",
            "35. Перевод: поверхность воздушной шары — неевклідовий пространство , потому для неё не выполняются правила симметрической геометрии . Оригинал: Поверхня повітряної кулі — неевклідовий простір, тому для неї не виконуються правила евклідової геометрії.\n",
            "\n",
            "36. Перевод: Говорят , что американцы считают количество денег , какую зарабатывает женщина , мерилом его умение . Оригинал: Кажуть, що американці вважають кількість грошей, яку заробляє людина, мірилом його уміння.\n",
            "\n",
            "37. Перевод: Можно мной примірю это платье ? Оригинал: Можна я примірю це плаття?\n",
            "\n",
            "38. Перевод: Если будет красивая погода , мы доберёмся туда завтра . Оригинал: Якщо буде гарна погода, ми доберемося туди завтра.\n",
            "\n",
            "39. Перевод: Это был злой заяц . Оригинал: Це був злий заєць.\n",
            "\n",
            "40. Перевод: Один , два , три , четыре , аш со пять , восемь , семь , восемь , девять со пять , десять . Оригинал: Один, два, три, чотири, п'ять, шість, сім, вісім, дев'ять, десять.\n",
            "\n",
            "41. Перевод: Кто во любви не знает , тот горя не знает . Оригинал: Хто в любові не знається, той горя не знає.\n",
            "\n",
            "42. Перевод: Его иметь волнуется за него . Оригинал: Його мати хвилюється за нього.\n",
            "\n",
            "43. Перевод: Я уважаю тех , кто старается со всех сил . Оригинал: Я поважаю тих, хто старається з усіх сил.\n",
            "\n",
            "44. Перевод: необычайная дружба переросла во глубокое любовь . Оригинал: Їхня дружба переросла у глибоке кохання.\n",
            "\n",
            "45. Перевод: Рейчел аш со То много молока каждый день . Оригинал: Кейт п’є багато молока кожен день.\n",
            "\n",
            "46. Перевод: Он вор . Оригинал: Він злодій.\n",
            "\n",
            "47. Перевод: Шумового загрязнение можно было бы позбігнути только если бы люди были более чувствительны к окружающей среды . Оригинал: Шумового забруднення можна було б позбігнути тільки якщо б люди були більш чутливими до навколишнього середовища.\n",
            "\n",
            "48. Перевод: чай со лимоном , будте ласковые . Оригинал: Чай з лимоном, будьте ласкаві.\n",
            "\n",
            "49. Перевод: Не путать желание со влюбленностью . Оригинал: Не плутай бажання з коханням.\n",
            "\n",
            "50. Перевод: Я бы со удовольствием сочинил сотни сложноподчинённые во Tatoeb со и , конечно во меня То дела . Оригинал: Я би з задоволенням написав сотні речень в Tatoeb’і, але в мене є справи.\n",
            "\n",
            "51. Перевод: Дайте мне чашечку кофе . Оригинал: Дайте мені філіжанку кави.\n",
            "\n",
            "52. Перевод: ведь же ты никогда мне о это не рассказывала ! Оригинал: Але ж ти ніколи мені про це не розповідала!\n",
            "\n",
            "53. Перевод: Во тебя будут проблемы , если твои родители узнают . Оригинал: У тебе будуть проблеми, якщо твої батьки довідаються.\n",
            "\n",
            "54. Перевод: Запах роз наполнил комнату . Оригинал: Запах троянд наповнив кімнату.\n",
            "\n",
            "55. Перевод: Как во тебя дела ? Оригинал: Як у тебе справи?\n",
            "\n",
            "56. Перевод: Это мои штаны . Оригинал: Це мої штани.\n",
            "\n",
            "57. Перевод: НЕт , спасибо . Оригинал: Ні, дякую.\n",
            "\n",
            "58. Перевод: Я не понимаю , почему Германия победила по Евровидении . Оригинал: Я не розумію, чому Німеччина перемогла на Євробаченні.\n",
            "\n",
            "59. Перевод: Добрый вечер . Оригинал: Добрий вечір.\n",
            "\n",
            "60. Перевод: Со юбілеєм Алексея Палашка поприветствовал президент Белоруссии Александр Лукашенко . Оригинал: З юбілеєм Олексія Дударева привітав Президент Білорусі Олександр Лукашенко.\n",
            "\n",
            "61. Перевод: Млечный путь — широкий пояс со далеких звёзд , каждая звезда — солнце , такое как наше . Оригинал: Чумацький шлях — широкий пояс із далеких зірок, кожна зірка — сонце, таке як наше.\n",
            "\n",
            "62. Перевод: удивительно видеть рок – звёзд со галстук ! Оригинал: Незвичайно бачити рок-зірок з краваткою!\n",
            "\n",
            "63. Перевод: всё печенье во форме звёзд . Оригинал: Усе печиво у формі зірок.\n",
            "\n",
            "64. Перевод: ЧТо мне одеть — штаны ли юбку ? Оригинал: Що мені вдягнути — штани чи спідницю?\n",
            "\n",
            "65. Перевод: Краусс утверждал — известный московский скульптор . Оригинал: Гартман Вітвер — відомий львівський скульптор.\n",
            "\n",
            "66. Перевод: Ой был злой кролик . Оригинал: То був злий кролик.\n",
            "\n",
            "67. Перевод: Можешь взять любой – который , что тебе к отвратиться . Оригинал: Можеш взяти будь-який, що тобі до сподоби.\n",
            "\n",
            "68. Перевод: Конечно мной пойду . Оригинал: Звичайно я піду.\n",
            "\n",
            "69. Перевод: шелковичные прядут коконы . Оригинал: Шовкопряди прядуть кокони.\n",
            "\n",
            "70. Перевод: ЧТо бы ты сделала , если бы во тебя было , замечу , десять тысяч долларов ? Оригинал: Що б ти зробила, якщо б у тебе було, скажім, десять тисяч доларів?\n",
            "\n",
            "71. Перевод: Он думает , что он кто-то , а действительно он никто . Оригинал: Він думає, що він хтось, а насправді він ніхто.\n",
            "\n",
            "72. Перевод: она очень гордится своею коллекцией марок . Оригинал: Вона дуже пишається своєю колекцією марок.\n",
            "\n",
            "73. Перевод: Он очень простой ... Оригинал: Він дуже простий...\n",
            "\n",
            "74. Перевод: Какая ты добра ! Оригинал: Яка ти добра!\n",
            "\n",
            "75. Перевод: Как мной за тобой соскучился ! Оригинал: Як я за тобою скучив!\n",
            "\n",
            "76. Перевод: Это всё , что мной знаю . Оригинал: Це все, що я знаю.\n",
            "\n",
            "77. Перевод: Ты ведёшь дневник ? Оригинал: Ти ведеш щоденник?\n",
            "\n",
            "78. Перевод: Тебе решать . Оригинал: Тобі вирішувати.\n",
            "\n",
            "79. Перевод: Это почта , а то — банк . Оригинал: Це пошта, а то — банк.\n",
            "\n",
            "80. Перевод: Это всё , что мной хочу сделать . Оригинал: Це все, що я хочу зробити.\n",
            "\n",
            "81. Перевод: Я впервые смотрю такой страшный фильм . Оригинал: Я вперше дивлюся такий страшний фільм.\n",
            "\n",
            "82. Перевод: Этa песня напоминает мне о дом . Оригинал: Ця пісня нагадує мені про дім.\n",
            "\n",
            "83. Перевод: Хироси здесь ? Оригинал: Хіросі тут?\n",
            "\n",
            "84. Перевод: Меня зовут Эдди . Оригинал: Мене звуть Джек.\n",
            "\n",
            "85. Перевод: Как женщина живет , так она и умрет . Оригинал: Як людина живе, так вона і помре.\n",
            "\n",
            "86. Перевод: Я здесь уже две часа . Оригинал: Я тут уже дві години.\n",
            "\n",
            "87. Перевод: Мне надо извиниться перед Нб . Оригинал: Мені треба вибачитись перед Ен.\n",
            "\n",
            "88. Перевод: Сегодня мной видел скворца . Оригинал: Сьогодні я бачив шпака.\n",
            "\n",
            "89. Перевод: « Сколько стоить та носовая косыночка ?» — « тринадцать со двадцать аш со пять центов ». Оригинал: «Скільки коштує ця носова хусточка?» — «Дев'яносто п'ять центів».\n",
            "\n",
            "90. Перевод: солдаты медведи , как правило , очень опасные . Оригинал: Ранені ведмеді, як правило, дуже небезпечні.\n",
            "\n",
            "91. Перевод: Он быстро устает . Оригинал: Він швидко втомлюється.\n",
            "\n",
            "92. Перевод: остальные готовы . Оригинал: Усі готові.\n",
            "\n",
            "93. Перевод: Он скучает по своей семь со мье . Оригинал: Він скучає по своїй сім'ї.\n",
            "\n",
            "94. Перевод: « Спасибо », — « по здоровье со мной ». Оригинал: «Дякую», — «На здоров'я».\n",
            "\n",
            "95. Перевод: Я ещe не знаю своего адреса , мной определенный момент буду жить во подруги . Оригинал: Я ще не знаю своєї адреси, я певний час буду жити в подруги.\n",
            "\n",
            "96. Перевод: Амазонка — вторая по длине река во мире после Нила . Оригинал: Амазонка— друга по довжині ріка в світі після Ніла.\n",
            "\n",
            "97. Перевод: А если увидишь Тима , передай ему от меня поздравления . Оригинал: А якщо побачиш Тома, передай йому від мене вітання.\n",
            "\n",
            "98. Перевод: закрой за собой дверь . Оригинал: Закрий за собою двері.\n",
            "\n",
            "99. Перевод: Держи при себе словарь . Оригинал: Тримай при собі словник.\n",
            "\n"
          ]
        }
      ],
      "source": [
        "for ind, sent in enumerate(uk_corpus[::10]):\n",
        "    print(f\"{ind}. Перевод: \" + translate(sent), \"Оригинал: \" + sent)"
      ]
    },
    {
      "cell_type": "markdown",
      "source": [
        "Немного не успеваю улучшить качество модели, отправляю в надежде получить хотя бы какие-нибудь баллы"
      ],
      "metadata": {
        "id": "vMAAhvtZJstd"
      }
    }
  ],
  "metadata": {
    "anaconda-cloud": {},
    "colab": {
      "collapsed_sections": [],
      "machine_shape": "hm",
      "name": "Lab1_NLP_part1_zudenkov.ipynb",
      "provenance": []
    },
    "kernelspec": {
      "display_name": "Python 3 (ipykernel)",
      "language": "python",
      "name": "python3"
    },
    "language_info": {
      "codemirror_mode": {
        "name": "ipython",
        "version": 3
      },
      "file_extension": ".py",
      "mimetype": "text/x-python",
      "name": "python",
      "nbconvert_exporter": "python",
      "pygments_lexer": "ipython3",
      "version": "3.9.7"
    }
  },
  "nbformat": 4,
  "nbformat_minor": 0
}