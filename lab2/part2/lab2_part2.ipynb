{
  "cells": [
    {
      "cell_type": "markdown",
      "metadata": {
        "id": "NFmOh482SyEF"
      },
      "source": [
        "## Lab 2\n",
        "### Part 2: Dealing with overfitting"
      ]
    },
    {
      "cell_type": "markdown",
      "metadata": {
        "id": "AjzAuO3oSvsI"
      },
      "source": [
        "Today we work with [Fashion-MNIST dataset](https://github.com/zalandoresearch/fashion-mnist) (*hint: it is available in `torchvision`*).\n",
        "\n",
        "Your goal for today:\n",
        "1. Train a FC (fully-connected) network that achieves >= 0.885 test accuracy.\n",
        "2. Cause considerable overfitting by modifying the network (e.g. increasing the number of network parameters and/or layers) and demonstrate in in the appropriate way (e.g. plot loss and accurasy on train and validation set w.r.t. network complexity).\n",
        "3. Try to deal with overfitting (at least partially) by using regularization techniques (Dropout/Batchnorm/...) and demonstrate the results.\n",
        "\n",
        "__Please, write a small report describing your ideas, tries and achieved results in the end of this file.__\n",
        "\n",
        "*Note*: Tasks 2 and 3 are interrelated, in task 3 your goal is to make the network from task 2 less prone to overfitting. Task 1 is independent from 2 and 3.\n",
        "\n",
        "*Note 2*: We recomment to use Google Colab or other machine with GPU acceleration."
      ]
    },
    {
      "cell_type": "code",
      "execution_count": null,
      "metadata": {
        "id": "_KBld6VOSwhW"
      },
      "outputs": [],
      "source": [
        "import torch\n",
        "import torch.nn as nn\n",
        "import torchvision\n",
        "import torchvision.transforms as transforms\n",
        "import torchsummary\n",
        "from IPython.display import clear_output\n",
        "from matplotlib import pyplot as plt\n",
        "from matplotlib.pyplot import figure\n",
        "import numpy as np\n",
        "import os\n",
        "\n",
        "device = 'cuda:0' if torch.cuda.is_available() else 'cpu'"
      ]
    },
    {
      "cell_type": "code",
      "execution_count": null,
      "metadata": {
        "colab": {
          "base_uri": "https://localhost:8080/"
        },
        "id": "EdLOG0XqS_g5",
        "outputId": "8a4f7d63-69b2-4052-9077-9d9dca7d23bd"
      },
      "outputs": [
        {
          "output_type": "stream",
          "name": "stdout",
          "text": [
            "Directory fmnist already exists!\n"
          ]
        }
      ],
      "source": [
        "# Technical function\n",
        "def mkdir(path):\n",
        "    if not os.path.exists(root_path):\n",
        "        os.mkdir(root_path)\n",
        "        print('Directory', path, 'is created!')\n",
        "    else:\n",
        "        print('Directory', path, 'already exists!')\n",
        "        \n",
        "root_path = 'fmnist'\n",
        "mkdir(root_path)"
      ]
    },
    {
      "cell_type": "code",
      "execution_count": null,
      "metadata": {
        "id": "qt6LE7XaTDT9"
      },
      "outputs": [],
      "source": [
        "download = True\n",
        "train_transform = transforms.ToTensor()\n",
        "test_transform = transforms.ToTensor()\n",
        "transforms.Compose((transforms.ToTensor()))\n",
        "\n",
        "\n",
        "fmnist_dataset_train = torchvision.datasets.FashionMNIST(root_path, train=True, transform=train_transform, target_transform=None, download=download)\n",
        "fmnist_dataset_test = torchvision.datasets.FashionMNIST(root_path, train=False, transform=test_transform, target_transform=None, download=download)"
      ]
    },
    {
      "cell_type": "code",
      "execution_count": null,
      "metadata": {
        "id": "71YP0SPwTIxD"
      },
      "outputs": [],
      "source": [
        "train_loader = torch.utils.data.DataLoader(fmnist_dataset_train, batch_size=128, shuffle=True, num_workers=2)\n",
        "test_loader = torch.utils.data.DataLoader(fmnist_dataset_test, batch_size=256, shuffle=False, num_workers=2)"
      ]
    },
    {
      "cell_type": "code",
      "execution_count": null,
      "metadata": {
        "colab": {
          "base_uri": "https://localhost:8080/"
        },
        "id": "eSoL2eIwntSb",
        "outputId": "cc59c8e1-1f4d-41e0-b86b-e3adbfada006"
      },
      "outputs": [
        {
          "output_type": "execute_result",
          "data": {
            "text/plain": [
              "10000"
            ]
          },
          "metadata": {},
          "execution_count": 27
        }
      ],
      "source": [
        "len(fmnist_dataset_test)"
      ]
    },
    {
      "cell_type": "code",
      "execution_count": null,
      "metadata": {
        "colab": {
          "base_uri": "https://localhost:8080/"
        },
        "id": "Lg9X5e2FntSe",
        "outputId": "3adb5803-7d9a-444c-e18c-d06fa031b4a0"
      },
      "outputs": [
        {
          "output_type": "stream",
          "name": "stdout",
          "text": [
            "torch.Size([128, 1, 28, 28])\n",
            "torch.Size([128])\n",
            "128\n"
          ]
        }
      ],
      "source": [
        "for img, label in train_loader:\n",
        "    print(img.shape)\n",
        "    #print(img)\n",
        "    print(label.shape)\n",
        "    print(label.size(0))\n",
        "    break"
      ]
    },
    {
      "cell_type": "markdown",
      "metadata": {
        "id": "b6OOOffHTfX5"
      },
      "source": [
        "### Task 1\n",
        "Train a network that achieves $\\geq 0.885$ test accuracy. It's fine to use only Linear (`nn.Linear`) layers and activations/dropout/batchnorm. Convolutional layers might be a great use, but we will meet them a bit later."
      ]
    },
    {
      "cell_type": "code",
      "execution_count": null,
      "metadata": {
        "id": "ftpkTjxlTcFx"
      },
      "outputs": [],
      "source": [
        "class TinyNeuralNetwork(nn.Module):\n",
        "    def __init__(self, input_shape=28*28, num_classes=10, input_channels=1):\n",
        "        super(self.__class__, self).__init__()\n",
        "        self.model = nn.Sequential(\n",
        "            nn.Flatten(), # This layer converts image into a vector to use Linear layers afterwards\n",
        "            nn.Linear(input_shape, 256),\n",
        "            nn.Tanh(),\n",
        "            nn.Linear(256, 512),\n",
        "            nn.Tanh(),\n",
        "            nn.Linear(512, num_classes),\n",
        "        )\n",
        "        \n",
        "    def forward(self, inp):       \n",
        "        out = self.model(inp)\n",
        "        return out"
      ]
    },
    {
      "cell_type": "code",
      "execution_count": null,
      "metadata": {
        "colab": {
          "base_uri": "https://localhost:8080/"
        },
        "id": "z7vP_w4-N-SQ",
        "outputId": "dae182da-5949-4816-aa15-21ecf6c1a5e2"
      },
      "outputs": [
        {
          "output_type": "stream",
          "name": "stdout",
          "text": [
            "----------------------------------------------------------------\n",
            "        Layer (type)               Output Shape         Param #\n",
            "================================================================\n",
            "           Flatten-1                  [-1, 784]               0\n",
            "            Linear-2                  [-1, 256]         200,960\n",
            "              Tanh-3                  [-1, 256]               0\n",
            "            Linear-4                  [-1, 512]         131,584\n",
            "              Tanh-5                  [-1, 512]               0\n",
            "            Linear-6                   [-1, 10]           5,130\n",
            "================================================================\n",
            "Total params: 337,674\n",
            "Trainable params: 337,674\n",
            "Non-trainable params: 0\n",
            "----------------------------------------------------------------\n",
            "Input size (MB): 0.00\n",
            "Forward/backward pass size (MB): 0.02\n",
            "Params size (MB): 1.29\n",
            "Estimated Total Size (MB): 1.31\n",
            "----------------------------------------------------------------\n"
          ]
        }
      ],
      "source": [
        "torchsummary.summary(TinyNeuralNetwork().to(device), (28*28,))"
      ]
    },
    {
      "cell_type": "markdown",
      "metadata": {
        "id": "544PGKEnjPr5"
      },
      "source": [
        "Your experiments come here:"
      ]
    },
    {
      "cell_type": "code",
      "execution_count": null,
      "metadata": {
        "id": "s834D2dqvJw1"
      },
      "outputs": [],
      "source": [
        "def train_epoch(model, device, train_loader, test_loader, criterion, optimizer): \n",
        "    torch.manual_seed(5)\n",
        "\n",
        "    model.train()\n",
        "\n",
        "    current_test_accuracy = 0\n",
        "    running_loss = 0\n",
        "    pred = 0\n",
        "    correct = 0\n",
        "    for data, label in train_loader:\n",
        "        data, label = data.to(device), label.to(device)\n",
        "        optimizer.zero_grad()\n",
        "        output = model(data)\n",
        "        loss = criterion(output, label)\n",
        "        loss.backward()\n",
        "        optimizer.step()\n",
        "        running_loss += loss.item()\n",
        "        pred = output.argmax(dim=1, keepdim=True)\n",
        "        correct += pred.eq(label.view_as(pred)).sum().item()\n",
        "    \n",
        "    current_loss = running_loss / len(train_loader.dataset)\n",
        "    print(f'train loss = {current_loss}')\n",
        "    current_train_accuracy = correct / len(train_loader.dataset)\n",
        "    print(f'train accuracy = {current_train_accuracy}')\n",
        "\n",
        "    model.eval()\n",
        "\n",
        "    current_test_loss = 0\n",
        "    current_test_accuracy = 0 \n",
        "\n",
        "    test_loss = 0\n",
        "    correct = 0   \n",
        "    running_loss = 0\n",
        "    with torch.no_grad():\n",
        "        for data, label in test_loader:\n",
        "            data, label = data.to(device), label.to(device)\n",
        "            output = model(data)\n",
        "            test_loss = criterion(output, label)\n",
        "            running_loss += test_loss.item()\n",
        "            pred = output.argmax(dim=1, keepdim=True)\n",
        "            correct += pred.eq(label.view_as(pred)).sum().item()\n",
        "\n",
        "    current_test_loss = running_loss / len(test_loader.dataset) \n",
        "    print(f'test loss = {current_test_loss}')\n",
        "    current_test_accuracy = correct / len(test_loader.dataset)\n",
        "    print(f'test accuracy = {current_test_accuracy}')\n",
        "\n",
        "    return current_loss, current_train_accuracy, current_test_loss, current_test_accuracy\n",
        "\n"
      ]
    },
    {
      "cell_type": "code",
      "execution_count": null,
      "metadata": {
        "id": "P9wcU8iE7an6"
      },
      "outputs": [],
      "source": [
        "def train_model(epochs, model, device, train_loader, test_loader, loss_func, opt):\n",
        "    test_loss_history = list()\n",
        "    train_loss_history = list()\n",
        "    test_ac_history = list()\n",
        "    train_ac_history = list()\n",
        "\n",
        "    train_loss = 0\n",
        "    test_loss = 0\n",
        "    test_ac = 0\n",
        "    train_ac = 0\n",
        "    for epoch in range(1, epochs+1):\n",
        "        \n",
        "        #print(f'epoch {epoch}')\n",
        "        train_loss, train_ac, test_loss, test_ac = train_epoch(model, device, train_loader, test_loader, loss_func, opt)\n",
        "        \n",
        "\n",
        "        train_loss_history.append(train_loss)\n",
        "        test_loss_history.append(test_loss)\n",
        "        test_ac_history.append(test_ac)\n",
        "        train_ac_history.append(train_ac)\n",
        "\n",
        "    return train_loss_history, test_loss_history, train_ac_history, test_ac_history"
      ]
    },
    {
      "cell_type": "code",
      "execution_count": null,
      "metadata": {
        "id": "wS6N8tsY6wXS"
      },
      "outputs": [],
      "source": [
        "model = TinyNeuralNetwork().to(device)\n",
        "opt = torch.optim.Adam(model.parameters(), lr=0.0003)\n",
        "loss_func = nn.CrossEntropyLoss()\n",
        "epochs = 30"
      ]
    },
    {
      "cell_type": "code",
      "execution_count": null,
      "metadata": {
        "id": "lH5Sqbqv8KSr",
        "colab": {
          "base_uri": "https://localhost:8080/"
        },
        "outputId": "fac0778c-a391-483f-fae2-01cbf4376b45"
      },
      "outputs": [
        {
          "output_type": "stream",
          "name": "stdout",
          "text": [
            "train loss = 0.004719835024575392\n",
            "train accuracy = 0.7906666666666666\n",
            "test loss = 0.0019265438705682754\n",
            "test accuracy = 0.8247\n",
            "train loss = 0.0032276238265136876\n",
            "train accuracy = 0.8518333333333333\n",
            "test loss = 0.0017622313991189002\n",
            "test accuracy = 0.8375\n",
            "train loss = 0.0029655711675683656\n",
            "train accuracy = 0.8640166666666667\n",
            "test loss = 0.0016771122559905052\n",
            "test accuracy = 0.8445\n",
            "train loss = 0.0027964950256049634\n",
            "train accuracy = 0.8711833333333333\n",
            "test loss = 0.0016169463321566583\n",
            "test accuracy = 0.8497\n",
            "train loss = 0.0026671042387684187\n",
            "train accuracy = 0.8764666666666666\n",
            "test loss = 0.001570437641441822\n",
            "test accuracy = 0.8538\n",
            "train loss = 0.00256135431577762\n",
            "train accuracy = 0.88115\n",
            "test loss = 0.0015348274275660515\n",
            "test accuracy = 0.8581\n",
            "train loss = 0.0024710376272598904\n",
            "train accuracy = 0.8842166666666667\n",
            "test loss = 0.0015055309623479842\n",
            "test accuracy = 0.8611\n",
            "train loss = 0.0023911942556500434\n",
            "train accuracy = 0.88755\n",
            "test loss = 0.0014786641865968705\n",
            "test accuracy = 0.8634\n",
            "train loss = 0.002318460614234209\n",
            "train accuracy = 0.8906333333333334\n",
            "test loss = 0.0014531784474849702\n",
            "test accuracy = 0.8668\n",
            "train loss = 0.002250954158852498\n",
            "train accuracy = 0.8939\n",
            "test loss = 0.001429405462741852\n",
            "test accuracy = 0.8693\n",
            "train loss = 0.0021878008825083574\n",
            "train accuracy = 0.8965166666666666\n",
            "test loss = 0.0014078480049967766\n",
            "test accuracy = 0.8726\n",
            "train loss = 0.0021284160897135735\n",
            "train accuracy = 0.89945\n",
            "test loss = 0.0013888540655374528\n",
            "test accuracy = 0.8736\n",
            "train loss = 0.0020722475565969943\n",
            "train accuracy = 0.9017666666666667\n",
            "test loss = 0.0013724487960338593\n",
            "test accuracy = 0.874\n",
            "train loss = 0.002018793704609076\n",
            "train accuracy = 0.90405\n",
            "test loss = 0.0013582611113786697\n",
            "test accuracy = 0.8755\n",
            "train loss = 0.0019676418143014115\n",
            "train accuracy = 0.9061833333333333\n",
            "test loss = 0.001345935846865177\n",
            "test accuracy = 0.877\n",
            "train loss = 0.0019184897623956204\n",
            "train accuracy = 0.908\n",
            "test loss = 0.001335227546095848\n",
            "test accuracy = 0.8785\n",
            "train loss = 0.001871147155885895\n",
            "train accuracy = 0.91035\n",
            "test loss = 0.0013259353205561637\n",
            "test accuracy = 0.8784\n",
            "train loss = 0.0018254768268515667\n",
            "train accuracy = 0.9126166666666666\n",
            "test loss = 0.0013180974453687669\n",
            "test accuracy = 0.8802\n",
            "train loss = 0.0017813254117965698\n",
            "train accuracy = 0.9144666666666666\n",
            "test loss = 0.0013120024487376213\n",
            "test accuracy = 0.8816\n",
            "train loss = 0.0017385285781075558\n",
            "train accuracy = 0.9169666666666667\n",
            "test loss = 0.0013077652633190155\n",
            "test accuracy = 0.883\n",
            "train loss = 0.0016969830205043157\n",
            "train accuracy = 0.9190666666666667\n",
            "test loss = 0.0013052603423595428\n",
            "test accuracy = 0.8832\n",
            "train loss = 0.0016566641500840584\n",
            "train accuracy = 0.9211\n",
            "test loss = 0.0013043697506189347\n",
            "test accuracy = 0.884\n",
            "train loss = 0.0016175627986590067\n",
            "train accuracy = 0.9231833333333334\n",
            "test loss = 0.0013049811244010925\n",
            "test accuracy = 0.8839\n",
            "train loss = 0.0015796388210107882\n",
            "train accuracy = 0.9248333333333333\n",
            "test loss = 0.0013068582102656364\n",
            "test accuracy = 0.8847\n",
            "train loss = 0.0015428232633819183\n",
            "train accuracy = 0.92665\n",
            "test loss = 0.0013096836268901824\n",
            "test accuracy = 0.8848\n",
            "train loss = 0.0015070162616670133\n",
            "train accuracy = 0.9284833333333333\n",
            "test loss = 0.0013131809830665589\n",
            "test accuracy = 0.8854\n",
            "train loss = 0.0014720652651041746\n",
            "train accuracy = 0.9303333333333333\n",
            "test loss = 0.0013171118706464767\n",
            "test accuracy = 0.8857\n",
            "train loss = 0.0014377557939539353\n",
            "train accuracy = 0.9318333333333333\n",
            "test loss = 0.001321259169280529\n",
            "test accuracy = 0.8861\n",
            "train loss = 0.001403852630034089\n",
            "train accuracy = 0.9337\n",
            "test loss = 0.0013255425125360488\n",
            "test accuracy = 0.8864\n",
            "train loss = 0.0013702447306364774\n",
            "train accuracy = 0.9354333333333333\n",
            "test loss = 0.0013301931083202362\n",
            "test accuracy = 0.8871\n",
            "final train loss = 0.0013702447306364774\n",
            "final train accuracy = 0.9354333333333333\n",
            "final test loss = 0.0013301931083202362\n",
            "final test accuracy = 0.8871\n"
          ]
        }
      ],
      "source": [
        "train_loss_history, test_loss_history, train_ac_history, test_ac_history = train_model(epochs, model, device, train_loader, test_loader, loss_func, opt)\n",
        "\n",
        "print(f'final train loss = {train_loss_history[-1]}')\n",
        "print(f'final train accuracy = {train_ac_history[-1]}')\n",
        "print(f'final test loss = {test_loss_history[-1]}')\n",
        "print(f'final test accuracy = {test_ac_history[-1]}')"
      ]
    },
    {
      "cell_type": "markdown",
      "metadata": {
        "id": "AAS1KammOIdS"
      },
      "source": [
        "##### графики:"
      ]
    },
    {
      "cell_type": "code",
      "execution_count": null,
      "metadata": {
        "id": "-Y0ZwhKCcl8g",
        "colab": {
          "base_uri": "https://localhost:8080/",
          "height": 899
        },
        "outputId": "810a663e-9f0f-4730-d5bc-a620c95ada8d"
      },
      "outputs": [
        {
          "output_type": "display_data",
          "data": {
            "image/png": "[encoded data removed]",
            "text/plain": [
              "<Figure size 1296x504 with 1 Axes>"
            ]
          },
          "metadata": {
            "needs_background": "light"
          }
        },
        {
          "output_type": "display_data",
          "data": {
            "image/png": "[encoded data removed]",
            "text/plain": [
              "<Figure size 1296x504 with 1 Axes>"
            ]
          },
          "metadata": {
            "needs_background": "light"
          }
        }
      ],
      "source": [
        "grid = np.arange(1, epochs + 1)\n",
        "\n",
        "plt.figure(figsize=(18,7))\n",
        "plt.plot(grid, train_ac_history, label='train accuracy')\n",
        "plt.plot(grid, test_ac_history, label='test accuracy')\n",
        "plt.xlabel(\"№ epoch\")\n",
        "plt.legend()\n",
        "plt.title(\"accuracy\")\n",
        "plt.show()\n",
        "\n",
        "plt.figure(figsize=(18,7))\n",
        "plt.plot(grid, train_loss_history, label='train loss')\n",
        "plt.plot(grid, test_loss_history, label='test loss')\n",
        "plt.xlabel(\"№ epoch\")\n",
        "plt.legend()\n",
        "plt.title(\"loss\")\n",
        "plt.show()"
      ]
    },
    {
      "cell_type": "markdown",
      "source": [
        "##### accuracy"
      ],
      "metadata": {
        "id": "VEysGBeOIa6x"
      }
    },
    {
      "cell_type": "code",
      "execution_count": null,
      "metadata": {
        "id": "iwBO0jNIoFa7",
        "colab": {
          "base_uri": "https://localhost:8080/"
        },
        "outputId": "0fbce86d-b148-432e-f050-3742e00dad76"
      },
      "outputs": [
        {
          "output_type": "stream",
          "name": "stdout",
          "text": [
            "Test accuracy = 0.8871\n"
          ]
        }
      ],
      "source": [
        "print(f'Test accuracy = {test_ac_history[-1]}')"
      ]
    },
    {
      "cell_type": "markdown",
      "metadata": {
        "id": "L7ISqkjmCPB1"
      },
      "source": [
        "### Task 2: Overfit it.\n",
        "Build a network that will overfit to this dataset. Demonstrate the overfitting in the appropriate way (e.g. plot loss and accurasy on train and test set w.r.t. network complexity).\n",
        "\n",
        "*Note:* you also might decrease the size of `train` dataset to enforce the overfitting and speed up the computations."
      ]
    },
    {
      "cell_type": "code",
      "execution_count": null,
      "metadata": {
        "id": "H12uAWiGBwJx"
      },
      "outputs": [],
      "source": [
        "class OverfittingNeuralNetwork(nn.Module):\n",
        "    def __init__(self, input_shape=28*28, num_classes=10, input_channels=1):\n",
        "        super(self.__class__, self).__init__()\n",
        "        self.model = nn.Sequential(\n",
        "            nn.Flatten(), # This layer converts image into a vector to use Linear layers afterwards\n",
        "            # Your network structure comes here\n",
        "            nn.Linear(input_shape, 28*28*2),\n",
        "            nn.ReLU(),\n",
        "            nn.Linear(28*28*2, 512),\n",
        "            nn.Tanh(),\n",
        "            nn.Linear(512, 256),\n",
        "            nn.ReLU(),\n",
        "            nn.Linear(256, 100),\n",
        "            nn.ReLU(),\n",
        "            nn.Linear(100, num_classes)\n",
        "        )\n",
        "        \n",
        "    def forward(self, inp):       \n",
        "        out = self.model(inp)\n",
        "        return out"
      ]
    },
    {
      "cell_type": "code",
      "execution_count": null,
      "metadata": {
        "id": "JgXAKCpvCwqH",
        "colab": {
          "base_uri": "https://localhost:8080/"
        },
        "outputId": "4469f4f7-00bc-406f-a126-7bdc58d03c09"
      },
      "outputs": [
        {
          "output_type": "stream",
          "name": "stdout",
          "text": [
            "----------------------------------------------------------------\n",
            "        Layer (type)               Output Shape         Param #\n",
            "================================================================\n",
            "           Flatten-1                  [-1, 784]               0\n",
            "            Linear-2                 [-1, 1568]       1,230,880\n",
            "              ReLU-3                 [-1, 1568]               0\n",
            "            Linear-4                  [-1, 512]         803,328\n",
            "              Tanh-5                  [-1, 512]               0\n",
            "            Linear-6                  [-1, 256]         131,328\n",
            "              ReLU-7                  [-1, 256]               0\n",
            "            Linear-8                  [-1, 100]          25,700\n",
            "              ReLU-9                  [-1, 100]               0\n",
            "           Linear-10                   [-1, 10]           1,010\n",
            "================================================================\n",
            "Total params: 2,192,246\n",
            "Trainable params: 2,192,246\n",
            "Non-trainable params: 0\n",
            "----------------------------------------------------------------\n",
            "Input size (MB): 0.00\n",
            "Forward/backward pass size (MB): 0.04\n",
            "Params size (MB): 8.36\n",
            "Estimated Total Size (MB): 8.41\n",
            "----------------------------------------------------------------\n"
          ]
        }
      ],
      "source": [
        "torchsummary.summary(OverfittingNeuralNetwork().to(device), (28*28,))"
      ]
    },
    {
      "cell_type": "code",
      "execution_count": null,
      "metadata": {
        "id": "YPynK6aMN-SR",
        "colab": {
          "base_uri": "https://localhost:8080/"
        },
        "outputId": "51892fe8-3d60-441d-8ca9-bab21d8c9050"
      },
      "outputs": [
        {
          "output_type": "stream",
          "name": "stdout",
          "text": [
            "train loss = 0.004600128472348054\n",
            "train accuracy = 0.7911\n",
            "test loss = 0.0017343159437179566\n",
            "test accuracy = 0.8412\n",
            "train loss = 0.002941726952791214\n",
            "train accuracy = 0.8638833333333333\n",
            "test loss = 0.0015783392906188966\n",
            "test accuracy = 0.8544\n",
            "train loss = 0.0026148509686191876\n",
            "train accuracy = 0.8767333333333334\n",
            "test loss = 0.001559897594153881\n",
            "test accuracy = 0.8562\n",
            "train loss = 0.002388224454969168\n",
            "train accuracy = 0.8870666666666667\n",
            "test loss = 0.001524833969771862\n",
            "test accuracy = 0.8574\n",
            "train loss = 0.0022174775717159114\n",
            "train accuracy = 0.89415\n",
            "test loss = 0.001430111199617386\n",
            "test accuracy = 0.8669\n",
            "train loss = 0.002082750142738223\n",
            "train accuracy = 0.9009333333333334\n",
            "test loss = 0.0013787547051906585\n",
            "test accuracy = 0.8727\n",
            "train loss = 0.0019457893917957942\n",
            "train accuracy = 0.9075\n",
            "test loss = 0.0013726041898131371\n",
            "test accuracy = 0.8753\n",
            "train loss = 0.0018419339681665103\n",
            "train accuracy = 0.9120333333333334\n",
            "test loss = 0.0013456109911203385\n",
            "test accuracy = 0.8805\n",
            "train loss = 0.0017509325576325258\n",
            "train accuracy = 0.91635\n",
            "test loss = 0.0013287880420684815\n",
            "test accuracy = 0.8823\n",
            "train loss = 0.0016866204428176085\n",
            "train accuracy = 0.9192166666666667\n",
            "test loss = 0.001367436671257019\n",
            "test accuracy = 0.8816\n",
            "train loss = 0.0015863189180692037\n",
            "train accuracy = 0.9244333333333333\n",
            "test loss = 0.0014015742510557175\n",
            "test accuracy = 0.8819\n",
            "train loss = 0.0015193305478741726\n",
            "train accuracy = 0.9280333333333334\n",
            "test loss = 0.00151044602394104\n",
            "test accuracy = 0.8805\n",
            "train loss = 0.001472193984563152\n",
            "train accuracy = 0.9293333333333333\n",
            "test loss = 0.0015457391709089278\n",
            "test accuracy = 0.8845\n",
            "train loss = 0.001380426300317049\n",
            "train accuracy = 0.9339833333333334\n",
            "test loss = 0.0015129743844270705\n",
            "test accuracy = 0.8851\n",
            "train loss = 0.0012977892252927026\n",
            "train accuracy = 0.9375166666666667\n",
            "test loss = 0.0015503845766186714\n",
            "test accuracy = 0.8868\n",
            "train loss = 0.0012511654642721017\n",
            "train accuracy = 0.94\n",
            "test loss = 0.0016408320888876915\n",
            "test accuracy = 0.8827\n",
            "train loss = 0.0011981154196585217\n",
            "train accuracy = 0.9422333333333334\n",
            "test loss = 0.0017427449464797974\n",
            "test accuracy = 0.8836\n",
            "train loss = 0.0011487611478194595\n",
            "train accuracy = 0.945\n",
            "test loss = 0.001796052259206772\n",
            "test accuracy = 0.8837\n",
            "train loss = 0.001094830791031321\n",
            "train accuracy = 0.9476\n",
            "test loss = 0.002087634965777397\n",
            "test accuracy = 0.8726\n",
            "train loss = 0.0010708508542428413\n",
            "train accuracy = 0.9482833333333334\n",
            "test loss = 0.0019140946000814438\n",
            "test accuracy = 0.8808\n",
            "train loss = 0.0010345573610936601\n",
            "train accuracy = 0.9497833333333333\n",
            "test loss = 0.001864903450012207\n",
            "test accuracy = 0.879\n",
            "train loss = 0.0010019155645122132\n",
            "train accuracy = 0.95125\n",
            "test loss = 0.0016496118068695068\n",
            "test accuracy = 0.8891\n",
            "train loss = 0.0009900993419190247\n",
            "train accuracy = 0.9513666666666667\n",
            "test loss = 0.0016131765585392713\n",
            "test accuracy = 0.8886\n",
            "train loss = 0.000994989306665957\n",
            "train accuracy = 0.9511166666666667\n",
            "test loss = 0.0017270816951990128\n",
            "test accuracy = 0.8844\n",
            "train loss = 0.0009529094946881135\n",
            "train accuracy = 0.9526166666666667\n",
            "test loss = 0.0018694854460656644\n",
            "test accuracy = 0.8865\n",
            "train loss = 0.0009016237691044808\n",
            "train accuracy = 0.95585\n",
            "test loss = 0.001858620809018612\n",
            "test accuracy = 0.8892\n",
            "train loss = 0.0008773122843975822\n",
            "train accuracy = 0.9571333333333333\n",
            "test loss = 0.0018696070241741836\n",
            "test accuracy = 0.8884\n",
            "train loss = 0.0008720605345442891\n",
            "train accuracy = 0.95765\n",
            "test loss = 0.00196109456717968\n",
            "test accuracy = 0.8892\n",
            "train loss = 0.0008065662244024376\n",
            "train accuracy = 0.9600833333333333\n",
            "test loss = 0.0021511928409337997\n",
            "test accuracy = 0.8914\n",
            "train loss = 0.0007743660049512982\n",
            "train accuracy = 0.9616166666666667\n",
            "test loss = 0.002081324651837349\n",
            "test accuracy = 0.8827\n",
            "train loss = 0.0007827816622331739\n",
            "train accuracy = 0.96165\n",
            "test loss = 0.00209790670722723\n",
            "test accuracy = 0.8863\n",
            "train loss = 0.0007340978581768771\n",
            "train accuracy = 0.9644\n",
            "test loss = 0.0021132619865238665\n",
            "test accuracy = 0.8881\n",
            "train loss = 0.000735802541160956\n",
            "train accuracy = 0.9633333333333334\n",
            "test loss = 0.001913439754024148\n",
            "test accuracy = 0.8882\n",
            "train loss = 0.0006944666408468038\n",
            "train accuracy = 0.9654333333333334\n",
            "test loss = 0.0023603813394904136\n",
            "test accuracy = 0.8874\n",
            "train loss = 0.0007103694176611801\n",
            "train accuracy = 0.9640833333333333\n",
            "test loss = 0.0022199884563684465\n",
            "test accuracy = 0.8868\n",
            "train loss = 0.0007199310963507742\n",
            "train accuracy = 0.9634666666666667\n",
            "test loss = 0.0023583436891436577\n",
            "test accuracy = 0.8858\n",
            "train loss = 0.0006869854140095413\n",
            "train accuracy = 0.9650666666666666\n",
            "test loss = 0.002266996394994203\n",
            "test accuracy = 0.8916\n",
            "train loss = 0.0006398439028610786\n",
            "train accuracy = 0.9669666666666666\n",
            "test loss = 0.0024041165836155413\n",
            "test accuracy = 0.8891\n",
            "train loss = 0.0006191657826770097\n",
            "train accuracy = 0.9690833333333333\n",
            "test loss = 0.002299442127745715\n",
            "test accuracy = 0.8953\n",
            "train loss = 0.0006115792443510145\n",
            "train accuracy = 0.9693833333333334\n",
            "test loss = 0.002457971257343888\n",
            "test accuracy = 0.8869\n",
            "train loss = 0.0005609200214656691\n",
            "train accuracy = 0.97195\n",
            "test loss = 0.0025204635735462944\n",
            "test accuracy = 0.892\n",
            "train loss = 0.0005251877860631794\n",
            "train accuracy = 0.9733166666666667\n",
            "test loss = 0.002629093549773097\n",
            "test accuracy = 0.8939\n",
            "train loss = 0.0005629631789245953\n",
            "train accuracy = 0.9715833333333334\n",
            "test loss = 0.002469794826209545\n",
            "test accuracy = 0.889\n",
            "train loss = 0.0005288594267486284\n",
            "train accuracy = 0.9730833333333333\n",
            "test loss = 0.0027263739317655565\n",
            "test accuracy = 0.8909\n",
            "train loss = 0.0005104643918884298\n",
            "train accuracy = 0.9738166666666667\n",
            "test loss = 0.002726773723959923\n",
            "test accuracy = 0.8922\n",
            "train loss = 0.00048533947474012774\n",
            "train accuracy = 0.9754666666666667\n",
            "test loss = 0.0026330503195524215\n",
            "test accuracy = 0.8962\n",
            "train loss = 0.0005268493915131936\n",
            "train accuracy = 0.9732166666666666\n",
            "test loss = 0.002541126588732004\n",
            "test accuracy = 0.8871\n",
            "train loss = 0.000492578199354466\n",
            "train accuracy = 0.9745166666666667\n",
            "test loss = 0.002825549407303333\n",
            "test accuracy = 0.8882\n",
            "train loss = 0.0005065487856045365\n",
            "train accuracy = 0.9743\n",
            "test loss = 0.002681811448931694\n",
            "test accuracy = 0.8891\n",
            "train loss = 0.00046353347022086384\n",
            "train accuracy = 0.9765\n",
            "test loss = 0.002768333505094051\n",
            "test accuracy = 0.8843\n",
            "final train loss = 0.00046353347022086384\n",
            "final train accuracy = 0.9765\n",
            "final test loss = 0.002768333505094051\n",
            "final test accuracy = 0.8843\n"
          ]
        }
      ],
      "source": [
        "model_over = OverfittingNeuralNetwork().to(device)\n",
        "opt = torch.optim.Adam(model_over.parameters(), lr=0.0003)\n",
        "loss_func = nn.CrossEntropyLoss()\n",
        "\n",
        "epochs = 50\n",
        "\n",
        "train_loss_history, test_loss_history, train_ac_history, test_ac_history = train_model(epochs, model_over, device, train_loader, test_loader, loss_func, opt)\n",
        "\n",
        "print(f'final train loss = {train_loss_history[-1]}')\n",
        "print(f'final train accuracy = {train_ac_history[-1]}')\n",
        "print(f'final test loss = {test_loss_history[-1]}')\n",
        "print(f'final test accuracy = {test_ac_history[-1]}')"
      ]
    },
    {
      "cell_type": "markdown",
      "metadata": {
        "id": "3nkLZI4nOoG6"
      },
      "source": [
        "##### графики:"
      ]
    },
    {
      "cell_type": "code",
      "execution_count": null,
      "metadata": {
        "id": "kl5hbl26A5uE",
        "colab": {
          "base_uri": "https://localhost:8080/",
          "height": 899
        },
        "outputId": "a50cda34-3ca9-413e-b7e4-06f65f975934"
      },
      "outputs": [
        {
          "output_type": "display_data",
          "data": {
            "image/png": "[encoded data removed]",
            "text/plain": [
              "<Figure size 1296x504 with 1 Axes>"
            ]
          },
          "metadata": {
            "needs_background": "light"
          }
        },
        {
          "output_type": "display_data",
          "data": {
            "image/png": "[encoded data removed]",
            "text/plain": [
              "<Figure size 1296x504 with 1 Axes>"
            ]
          },
          "metadata": {
            "needs_background": "light"
          }
        }
      ],
      "source": [
        "grid = np.arange(1, epochs + 1)\n",
        "\n",
        "plt.figure(figsize=(18,7))\n",
        "plt.plot(grid, train_ac_history, label='train accuracy')\n",
        "plt.plot(grid, test_ac_history, label='test accuracy')\n",
        "plt.xlabel(\"№ epoch\")\n",
        "plt.legend()\n",
        "plt.title(\"accuracy\")\n",
        "plt.show()\n",
        "\n",
        "plt.figure(figsize=(18,7))\n",
        "plt.plot(grid, train_loss_history, label='train loss')\n",
        "plt.plot(grid, test_loss_history, label='test loss')\n",
        "plt.xlabel(\"№ epoch\")\n",
        "plt.legend()\n",
        "plt.title(\"loss\")\n",
        "plt.show()"
      ]
    },
    {
      "cell_type": "markdown",
      "metadata": {
        "id": "DGIw2CXE0BAp"
      },
      "source": [
        "Обратив внимание на графики, заметно, что модель начинается переобучаться, т.к. test loss быстро растет, a train loss все еще уменьшается"
      ]
    },
    {
      "cell_type": "markdown",
      "metadata": {
        "id": "CqOS6T2bN-SR"
      },
      "source": [
        "### Task 3: Fix it.\n",
        "Fix the overfitted network from the previous step (at least partially) by using regularization techniques (Dropout/Batchnorm/...) and demonstrate the results. "
      ]
    },
    {
      "cell_type": "code",
      "execution_count": null,
      "metadata": {
        "id": "ZiK-4Td-N-SR"
      },
      "outputs": [],
      "source": [
        "class FixedNeuralNetwork(nn.Module):\n",
        "    def __init__(self, input_shape=28*28, num_classes=10, input_channels=1):\n",
        "        super(self.__class__, self).__init__()\n",
        "        self.model = nn.Sequential(\n",
        "            nn.Flatten(), # This layer converts image into a vector to use Linear layers afterwards\n",
        "            # Your network structure comes here\n",
        "            nn.Linear(input_shape, 28*28*2),\n",
        "            nn.BatchNorm1d(28*28*2),\n",
        "            nn.Dropout(0.8),\n",
        "            nn.ReLU(),\n",
        "            nn.Linear(28*28*2, 512),\n",
        "            nn.Dropout(0.8),\n",
        "            nn.Tanh(),\n",
        "            nn.Linear(512, 256),\n",
        "            nn.BatchNorm1d(256),\n",
        "            nn.ReLU(),\n",
        "            nn.Dropout(0.8),\n",
        "            nn.Linear(256, 100),\n",
        "            nn.Dropout(0.8),\n",
        "            nn.ReLU(),\n",
        "            nn.Linear(100, num_classes)\n",
        "        )\n",
        "        \n",
        "    def forward(self, inp):       \n",
        "        out = self.model(inp)\n",
        "        return out"
      ]
    },
    {
      "cell_type": "code",
      "execution_count": null,
      "metadata": {
        "id": "IUwgkqy0N-SR",
        "colab": {
          "base_uri": "https://localhost:8080/"
        },
        "outputId": "1488cfdb-a2e1-49a0-bb70-f113a7584b52"
      },
      "outputs": [
        {
          "output_type": "stream",
          "name": "stdout",
          "text": [
            "----------------------------------------------------------------\n",
            "        Layer (type)               Output Shape         Param #\n",
            "================================================================\n",
            "           Flatten-1                  [-1, 784]               0\n",
            "            Linear-2                 [-1, 1568]       1,230,880\n",
            "       BatchNorm1d-3                 [-1, 1568]           3,136\n",
            "           Dropout-4                 [-1, 1568]               0\n",
            "              ReLU-5                 [-1, 1568]               0\n",
            "            Linear-6                  [-1, 512]         803,328\n",
            "           Dropout-7                  [-1, 512]               0\n",
            "              Tanh-8                  [-1, 512]               0\n",
            "            Linear-9                  [-1, 256]         131,328\n",
            "      BatchNorm1d-10                  [-1, 256]             512\n",
            "             ReLU-11                  [-1, 256]               0\n",
            "          Dropout-12                  [-1, 256]               0\n",
            "           Linear-13                  [-1, 100]          25,700\n",
            "          Dropout-14                  [-1, 100]               0\n",
            "             ReLU-15                  [-1, 100]               0\n",
            "           Linear-16                   [-1, 10]           1,010\n",
            "================================================================\n",
            "Total params: 2,195,894\n",
            "Trainable params: 2,195,894\n",
            "Non-trainable params: 0\n",
            "----------------------------------------------------------------\n",
            "Input size (MB): 0.00\n",
            "Forward/backward pass size (MB): 0.08\n",
            "Params size (MB): 8.38\n",
            "Estimated Total Size (MB): 8.46\n",
            "----------------------------------------------------------------\n"
          ]
        }
      ],
      "source": [
        "torchsummary.summary(FixedNeuralNetwork().to(device), (28*28,))"
      ]
    },
    {
      "cell_type": "markdown",
      "source": [
        "выбрал 20 для лучшей сходимости"
      ],
      "metadata": {
        "id": "CJiTa6sxJrAm"
      }
    },
    {
      "cell_type": "code",
      "execution_count": null,
      "metadata": {
        "id": "e-aVcPIoN-SR",
        "colab": {
          "base_uri": "https://localhost:8080/"
        },
        "outputId": "e3285e0b-b5f0-49ba-d8a0-2ab5a545f450"
      },
      "outputs": [
        {
          "output_type": "stream",
          "name": "stdout",
          "text": [
            "train loss = 0.016005729005734125\n",
            "train accuracy = 0.22343333333333334\n",
            "test loss = 0.004474602794647217\n",
            "test accuracy = 0.5223\n",
            "train loss = 0.009619362425804138\n",
            "train accuracy = 0.4988\n",
            "test loss = 0.003759285497665405\n",
            "test accuracy = 0.6585\n",
            "train loss = 0.0071320000449816385\n",
            "train accuracy = 0.6261833333333333\n",
            "test loss = 0.0033419230341911314\n",
            "test accuracy = 0.7343\n",
            "train loss = 0.005790106228987376\n",
            "train accuracy = 0.7102833333333334\n",
            "test loss = 0.0032244672298431397\n",
            "test accuracy = 0.752\n",
            "train loss = 0.004896122578283151\n",
            "train accuracy = 0.76805\n",
            "test loss = 0.002944491362571716\n",
            "test accuracy = 0.7748\n",
            "train loss = 0.004159890933831533\n",
            "train accuracy = 0.8157166666666666\n",
            "test loss = 0.002647546628117561\n",
            "test accuracy = 0.7835\n",
            "train loss = 0.003690736283858617\n",
            "train accuracy = 0.8448166666666667\n",
            "test loss = 0.0025323122054338454\n",
            "test accuracy = 0.7888\n",
            "train loss = 0.0033200312808156014\n",
            "train accuracy = 0.8682166666666666\n",
            "test loss = 0.0024809959560632704\n",
            "test accuracy = 0.7899\n",
            "train loss = 0.0030649899919827778\n",
            "train accuracy = 0.8814666666666666\n",
            "test loss = 0.0026253147721290587\n",
            "test accuracy = 0.7866\n",
            "train loss = 0.0028636806334058442\n",
            "train accuracy = 0.8934333333333333\n",
            "test loss = 0.0025725134402513504\n",
            "test accuracy = 0.7821\n",
            "train loss = 0.0027394728064537048\n",
            "train accuracy = 0.90175\n",
            "test loss = 0.0025155886173248293\n",
            "test accuracy = 0.7938\n",
            "train loss = 0.002587090211858352\n",
            "train accuracy = 0.9095833333333333\n",
            "test loss = 0.0024736416846513746\n",
            "test accuracy = 0.7998\n",
            "train loss = 0.0025324731131394704\n",
            "train accuracy = 0.9108166666666667\n",
            "test loss = 0.002404204213619232\n",
            "test accuracy = 0.7981\n",
            "train loss = 0.0024511429799099764\n",
            "train accuracy = 0.9163333333333333\n",
            "test loss = 0.0025998412400484085\n",
            "test accuracy = 0.7855\n",
            "train loss = 0.0023919307723641397\n",
            "train accuracy = 0.9195833333333333\n",
            "test loss = 0.0024537624418735503\n",
            "test accuracy = 0.799\n",
            "train loss = 0.002347896748781204\n",
            "train accuracy = 0.9222\n",
            "test loss = 0.0023312305778265\n",
            "test accuracy = 0.8084\n",
            "train loss = 0.0022249780582884945\n",
            "train accuracy = 0.92865\n",
            "test loss = 0.0024679326951503756\n",
            "test accuracy = 0.8017\n",
            "train loss = 0.0022306326240301134\n",
            "train accuracy = 0.9265333333333333\n",
            "test loss = 0.0025030712515115737\n",
            "test accuracy = 0.8001\n",
            "train loss = 0.0021809515590469042\n",
            "train accuracy = 0.92835\n",
            "test loss = 0.0024648144662380218\n",
            "test accuracy = 0.8046\n",
            "train loss = 0.0021779082871973515\n",
            "train accuracy = 0.9311333333333334\n",
            "test loss = 0.002392279013991356\n",
            "test accuracy = 0.8049\n",
            "final train loss = 0.0021779082871973515\n",
            "final train accuracy = 0.9311333333333334\n",
            "final test loss = 0.002392279013991356\n",
            "final test accuracy = 0.8049\n"
          ]
        }
      ],
      "source": [
        "model_fix = FixedNeuralNetwork().to(device)\n",
        "opt = torch.optim.Adam(model_fix.parameters(), lr=0.0003, weight_decay=0.008)\n",
        "loss_func = nn.CrossEntropyLoss()\n",
        "\n",
        "epochs = 20\n",
        "\n",
        "train_loss_history, test_loss_history, train_ac_history, test_ac_history = train_model(epochs, model_fix, device, train_loader, test_loader, loss_func, opt)\n",
        "\n",
        "print(f'final train loss = {train_loss_history[-1]}')\n",
        "print(f'final train accuracy = {train_ac_history[-1]}')\n",
        "print(f'final test loss = {test_loss_history[-1]}')\n",
        "print(f'final test accuracy = {test_ac_history[-1]}')"
      ]
    },
    {
      "cell_type": "markdown",
      "metadata": {
        "id": "RHcL8YHLOufC"
      },
      "source": [
        "##### графики:"
      ]
    },
    {
      "cell_type": "code",
      "execution_count": null,
      "metadata": {
        "id": "o4W0xjxNAx_8",
        "colab": {
          "base_uri": "https://localhost:8080/",
          "height": 899
        },
        "outputId": "a01a6c9f-3bbc-48b2-949d-c3c68a78892d"
      },
      "outputs": [
        {
          "output_type": "display_data",
          "data": {
            "image/png": "[encoded data removed]",
            "text/plain": [
              "<Figure size 1296x504 with 1 Axes>"
            ]
          },
          "metadata": {
            "needs_background": "light"
          }
        },
        {
          "output_type": "display_data",
          "data": {
            "image/png": "[encoded data removed]",
            "text/plain": [
              "<Figure size 1296x504 with 1 Axes>"
            ]
          },
          "metadata": {
            "needs_background": "light"
          }
        }
      ],
      "source": [
        "grid = np.arange(1, epochs + 1)\n",
        "\n",
        "plt.figure(figsize=(18,7))\n",
        "plt.plot(grid, train_ac_history, label='train accuracy')\n",
        "plt.plot(grid, test_ac_history, label='test accuracy')\n",
        "plt.xlabel(\"№ epoch\")\n",
        "plt.legend()\n",
        "plt.title(\"accuracy\")\n",
        "plt.show()\n",
        "\n",
        "plt.figure(figsize=(18,7))\n",
        "plt.plot(grid, train_loss_history, label='train loss')\n",
        "plt.plot(grid, test_loss_history, label='test loss')\n",
        "plt.xlabel(\"№ epoch\")\n",
        "plt.legend()\n",
        "plt.title(\"loss\")\n",
        "plt.show()"
      ]
    },
    {
      "cell_type": "markdown",
      "metadata": {
        "id": "dMui_uLJ7G0d"
      },
      "source": [
        "### Conclusions:\n",
        "\n",
        "Подводя итоги, можно заметить, что в какой-то момент модель начала переобучаться, для борьбы с переобучением использовались: dropout, batch normalization, l2 regularization.\n",
        "\n",
        "Из этих трех методов лучшим оказался последний."
      ]
    }
  ],
  "metadata": {
    "accelerator": "GPU",
    "colab": {
      "collapsed_sections": [],
      "name": "lab2_part2.ipynb",
      "provenance": []
    },
    "kernelspec": {
      "display_name": "Python 3 (ipykernel)",
      "language": "python",
      "name": "python3"
    },
    "language_info": {
      "codemirror_mode": {
        "name": "ipython",
        "version": 3
      },
      "file_extension": ".py",
      "mimetype": "text/x-python",
      "name": "python",
      "nbconvert_exporter": "python",
      "pygments_lexer": "ipython3",
      "version": "3.9.7"
    }
  },
  "nbformat": 4,
  "nbformat_minor": 0
}