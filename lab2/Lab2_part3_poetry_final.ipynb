{
 "cells": [
  {
   "cell_type": "markdown",
   "metadata": {
    "id": "sbn-dVWtTETV"
   },
   "source": [
    "## Lab 2"
   ]
  },
  {
   "cell_type": "markdown",
   "metadata": {
    "id": "uTozRLuWTETW"
   },
   "source": [
    "### Part 3. Poetry generation\n",
    "\n",
    "Let's try to generate some poetry using RNNs. \n",
    "\n",
    "You have several choices here: \n",
    "\n",
    "* The Shakespeare sonnets, file `sonnets.txt` available in the notebook directory.\n",
    "\n",
    "* Роман в стихах \"Евгений Онегин\" Александра Сергеевича Пушкина. В предобработанном виде доступен по [ссылке](https://github.com/attatrol/data_sources/blob/master/onegin.txt).\n",
    "\n",
    "* Some other text source, if it will be approved by the course staff.\n",
    "\n",
    "Text generation can be designed in several steps:\n",
    "    \n",
    "1. Data loading.\n",
    "2. Dictionary generation.\n",
    "3. Data preprocessing.\n",
    "4. Model (neural network) training.\n",
    "5. Text generation (model evaluation).\n"
   ]
  },
  {
   "cell_type": "code",
   "execution_count": 71,
   "metadata": {
    "id": "068tYnEHTETX"
   },
   "outputs": [],
   "source": [
    "import string\n",
    "import os\n",
    "\n",
    "import numpy as np\n",
    "import torch\n",
    "import torch.nn as nn\n",
    "import torch.nn.functional as F\n",
    "\n",
    "from IPython.display import clear_output\n",
    "import matplotlib.pyplot as plt"
   ]
  },
  {
   "cell_type": "code",
   "execution_count": 72,
   "metadata": {
    "id": "i7HK3EYgWJmP"
   },
   "outputs": [],
   "source": [
    "device = torch.device(\"cuda\") if torch.cuda.is_available() else torch.device(\"cpu\")"
   ]
  },
  {
   "cell_type": "markdown",
   "metadata": {
    "id": "WjY0xcM7TETX"
   },
   "source": [
    "### Data loading: Shakespeare"
   ]
  },
  {
   "cell_type": "markdown",
   "metadata": {
    "id": "h-nrk4oMTETX"
   },
   "source": [
    "Shakespeare sonnets are awailable at this [link](http://www.gutenberg.org/ebooks/1041?msg=welcome_stranger). In addition, they are stored in the same directory as this notebook (`sonnetes.txt`). Simple preprocessing is already done for you in the next cell: all technical info is dropped."
   ]
  },
  {
   "cell_type": "code",
   "execution_count": 73,
   "metadata": {
    "collapsed": true,
    "id": "01vcY020TETX"
   },
   "outputs": [],
   "source": [
    "if not os.path.exists('sonnets.txt'):\n",
    "    !wget https://raw.githubusercontent.com/girafe-ai/ml-mipt/master/homeworks_basic/Lab2_DL/sonnets.txt\n",
    "\n",
    "with open('sonnets.txt', 'r') as iofile:\n",
    "    text = iofile.readlines()\n",
    "    \n",
    "TEXT_START = 45\n",
    "TEXT_END = -368\n",
    "text = text[TEXT_START : TEXT_END]\n",
    "assert len(text) == 2616"
   ]
  },
  {
   "cell_type": "markdown",
   "metadata": {
    "id": "5RYRc6GYTETX"
   },
   "source": [
    "In opposite to the in-class practice, this time we want to predict complex text. Let's reduce the complexity of the task and lowercase all the symbols.\n",
    "\n",
    "Now variable `text` is a list of strings. Join all the strings into one and lowercase it."
   ]
  },
  {
   "cell_type": "code",
   "execution_count": 74,
   "metadata": {
    "colab": {
     "base_uri": "https://localhost:8080/"
    },
    "id": "7Zz3Ay0bTETY",
    "outputId": "42913987-197d-4f7a-bc58-c3cbec3cca36"
   },
   "outputs": [
    {
     "name": "stdout",
     "output_type": "stream",
     "text": [
      "OK!\n"
     ]
    }
   ],
   "source": [
    "# Join all the strings into one and lowercase it\n",
    "# Put result into variable text.\n",
    "\n",
    "# Your great code here\n",
    "\n",
    "text = [phrase.lower() for phrase in text]\n",
    "text = ''.join(text).lower()\n",
    "\n",
    "assert len(text) == 100225, 'Are you sure you have concatenated all the strings?'\n",
    "assert not any([x in set(text) for x in string.ascii_uppercase]), 'Uppercase letters are present'\n",
    "print('OK!')"
   ]
  },
  {
   "cell_type": "markdown",
   "metadata": {
    "id": "gxaUTHwgTETY"
   },
   "source": [
    "### Data loading: \"Евгений Онегин\"\n"
   ]
  },
  {
   "cell_type": "code",
   "execution_count": 75,
   "metadata": {
    "colab": {
     "base_uri": "https://localhost:8080/"
    },
    "id": "ieuQgQuRTETY",
    "outputId": "28713c96-c1de-4ff7-e1ec-5cdd4fce4ce4"
   },
   "outputs": [
    {
     "name": "stdout",
     "output_type": "stream",
     "text": [
      "--2020-12-15 18:05:38--  https://raw.githubusercontent.com/attatrol/data_sources/master/onegin.txt\n",
      "Resolving raw.githubusercontent.com (raw.githubusercontent.com)... 151.101.0.133, 151.101.64.133, 151.101.128.133, ...\n",
      "Connecting to raw.githubusercontent.com (raw.githubusercontent.com)|151.101.0.133|:443... connected.\n",
      "HTTP request sent, awaiting response... 200 OK\n",
      "Length: 262521 (256K) [text/plain]\n",
      "Saving to: ‘onegin.txt.3’\n",
      "\n",
      "\r",
      "onegin.txt.3          0%[                    ]       0  --.-KB/s               \r",
      "onegin.txt.3        100%[===================>] 256.37K  --.-KB/s    in 0.02s   \n",
      "\n",
      "2020-12-15 18:05:38 (12.1 MB/s) - ‘onegin.txt.3’ saved [262521/262521]\n",
      "\n"
     ]
    }
   ],
   "source": [
    "!wget https://raw.githubusercontent.com/attatrol/data_sources/master/onegin.txt\n",
    "    \n",
    "with open('onegin.txt', 'r') as iofile:\n",
    "    text_onegin = iofile.readlines()\n",
    "    \n",
    "text_onegin = [x.replace('\\t\\t', '') for x in text_onegin]"
   ]
  },
  {
   "cell_type": "markdown",
   "metadata": {
    "id": "sswoXqQvTETZ"
   },
   "source": [
    "In opposite to the in-class practice, this time we want to predict complex text. Let's reduce the complexity of the task and lowercase all the symbols.\n",
    "\n",
    "Now variable `text` is a list of strings. Join all the strings into one and lowercase it."
   ]
  },
  {
   "cell_type": "code",
   "execution_count": 76,
   "metadata": {
    "id": "7I1lF68HTETZ"
   },
   "outputs": [],
   "source": [
    "# Join all the strings into one and lowercase it\n",
    "# Put result into variable text.\n",
    "\n",
    "# Your great code here\n",
    "text_onegin = \"\".join([x.lower() for x in text_onegin])"
   ]
  },
  {
   "cell_type": "markdown",
   "metadata": {
    "id": "WtKcSaYCTETZ"
   },
   "source": [
    "Put all the characters, that you've seen in the text, into variable `tokens`."
   ]
  },
  {
   "cell_type": "code",
   "execution_count": 77,
   "metadata": {
    "colab": {
     "base_uri": "https://localhost:8080/"
    },
    "id": "yqC4a2g-TETZ",
    "outputId": "79b38e5e-8c77-412a-8718-60742d04360a"
   },
   "outputs": [
    {
     "data": {
      "text/plain": [
       "38"
      ]
     },
     "execution_count": 77,
     "metadata": {
      "tags": []
     },
     "output_type": "execute_result"
    }
   ],
   "source": [
    "tokens = sorted(set(text))\n",
    "len(tokens)"
   ]
  },
  {
   "cell_type": "markdown",
   "metadata": {
    "id": "Oy34E2cdTETZ"
   },
   "source": [
    "Create dictionary `token_to_idx = {<char>: <index>}` and dictionary `idx_to_token = {<index>: <char>}`"
   ]
  },
  {
   "cell_type": "code",
   "execution_count": 78,
   "metadata": {
    "collapsed": true,
    "id": "2y6moe5STETa"
   },
   "outputs": [],
   "source": [
    "# dict <index>:<char>\n",
    "# Your great code here\n",
    "idx_to_token = {i: token for i, token in enumerate(tokens)}\n",
    "\n",
    "# dict <char>:<index>\n",
    "# Your great code here\n",
    "token_to_idx = {token: i for i, token in enumerate(tokens)}"
   ]
  },
  {
   "cell_type": "markdown",
   "metadata": {
    "id": "iBr6C3L6TETa"
   },
   "source": [
    "*Comment: in this task we have only 38 different tokens, so let's use one-hot encoding.*"
   ]
  },
  {
   "cell_type": "code",
   "execution_count": 79,
   "metadata": {
    "id": "kVYei6u5YLRy"
   },
   "outputs": [],
   "source": [
    "sentences = [] \n",
    "next_tokens = []\n",
    "for i in range(0, len(text) - 64, 1):\n",
    "    sentences.append(text[i : i + 64])\n",
    "    next_tokens.append(text[i + 64])\n",
    "\n",
    "x = np.zeros((len(sentences), 64, len(tokens)))\n",
    "y = np.zeros((len(sentences), len(tokens)))\n",
    "\n",
    "for i, sentence in enumerate(sentences):\n",
    "    for t, token in enumerate(sentence):\n",
    "        x[i, t, token_to_idx[token]] = 1\n",
    "    y[i, token_to_idx[next_tokens[i]]] = 1  \n"
   ]
  },
  {
   "cell_type": "code",
   "execution_count": 80,
   "metadata": {
    "colab": {
     "base_uri": "https://localhost:8080/"
    },
    "id": "DQnLhGIylIK-",
    "outputId": "36bc82ae-95ff-4a59-e19e-090ca404670c"
   },
   "outputs": [
    {
     "name": "stdout",
     "output_type": "stream",
     "text": [
      "(100161, 64, 38)\n"
     ]
    }
   ],
   "source": [
    "print(x.shape)"
   ]
  },
  {
   "cell_type": "markdown",
   "metadata": {
    "id": "aIs2TOVPTETa"
   },
   "source": [
    "### Building the model"
   ]
  },
  {
   "cell_type": "markdown",
   "metadata": {
    "id": "3WFUlhc-TETa"
   },
   "source": [
    "Now we want to build and train recurrent neural net which would be able to something similar to Shakespeare's poetry.\n",
    "\n",
    "Let's use vanilla RNN, similar to the one created during the lesson."
   ]
  },
  {
   "cell_type": "code",
   "execution_count": 85,
   "metadata": {
    "collapsed": true,
    "id": "utzYMDIKTETa"
   },
   "outputs": [],
   "source": [
    "# Your code here\n",
    "class My_RNN(nn.Module):\n",
    "    def __init__(self, n_tokens = len(tokens), hidden_dim = 128, emb_dim = 128,\n",
    "                 n_layers = 1):\n",
    "        super(My_RNN, self).__init__()\n",
    "        self.hidden_dim = hidden_dim\n",
    "        self.emb_dim = emb_dim\n",
    "        self.n_layers = n_layers\n",
    "        self.n_tokens = n_tokens\n",
    "        \n",
    "        self.embed = nn.Embedding(n_tokens, self.emb_dim)\n",
    "        self.rnn = nn.RNN(self.emb_dim, self.hidden_dim, batch_first =  True)\n",
    "        self.dropout  = nn.Dropout(.35)\n",
    "        self.hid_to_logits = nn.Linear(self.hidden_dim, n_tokens)\n",
    "    \n",
    "    def forward(self, x, h_prev):\n",
    "        h_seq, h = self.rnn(self.embed(x), h_prev)\n",
    "        h_seq = self.dropout(h_seq)\n",
    "        next_logits = self.hid_to_logits(h_seq)\n",
    "        return next_logits, h\n",
    "    \n",
    "    def initial_state(self, batch_size):\n",
    "        weight = next(self.parameters()).data\n",
    "        return weight.new(self.n_layers, batch_size, self.hidden_dim).zero_().to(device)"
   ]
  },
  {
   "cell_type": "code",
   "execution_count": 86,
   "metadata": {
    "id": "xwCiAltqdkgV"
   },
   "outputs": [],
   "source": [
    "def get_batches(x, y, device, batch_size, batch_ind):\n",
    "    x_batch = torch.argmax(torch.Tensor(x[batch_ind - batch_size : batch_ind]), dim = -1).to(device)\n",
    "    y_batch = torch.argmax(torch.Tensor(y[batch_ind - batch_size : batch_ind]), dim = -1).to(device)\n",
    "\n",
    "    return x_batch, y_batch"
   ]
  },
  {
   "cell_type": "code",
   "execution_count": 88,
   "metadata": {
    "id": "twO_cPp1blIe"
   },
   "outputs": [],
   "source": [
    "def train_model(model, epochs=800):\n",
    "    torch.manual_seed(7)\n",
    "\n",
    "    batch_size = 512\n",
    "\n",
    "    optimizer = torch.optim.Adam(model.parameters(), lr=0.001)\n",
    "    criterion = nn.CrossEntropyLoss()\n",
    "\n",
    "    loss_history = list()\n",
    "\n",
    "    model.train()\n",
    "\n",
    "    for epoch in range(epochs):\n",
    "        curr_loss = []\n",
    "        hidden_state = model.initial_state(batch_size)\n",
    "\n",
    "        for batch_ind in range(batch_size, x.shape[0], batch_size):\n",
    "            \n",
    "            optimizer.zero_grad()\n",
    "            x_batch, y_batch = get_batches(x, y, device, batch_size, batch_ind)\n",
    "\n",
    "            optimizer.zero_grad()\n",
    "        \n",
    "            seq, hidden_state = model(x_batch, hidden_state)\n",
    "            loss = criterion(seq[:, -1].contiguous(), y_batch.contiguous())  \n",
    "            \n",
    "            loss.backward()\n",
    "            optimizer.step()  \n",
    "            curr_loss.append(loss.item())\n",
    "            hidden_state = hidden_state.detach()\n",
    "\n",
    "        loss_history.append(np.mean(curr_loss))\n",
    "        \n",
    "        if (epoch + 1) % 5 == 0:\n",
    "            lear_output(True)\n",
    "            print(f'Epoch {epoch}')\n",
    "            print(f'Current loss {loss_history[-1]}')\n",
    "            \n",
    "            plt.plot(loss_history, label = 'loss')\n",
    "            plt.xlabel(\"epochs\")\n",
    "            plt.legend()\n",
    "            plt.show()"
   ]
  },
  {
   "cell_type": "markdown",
   "metadata": {
    "id": "XRV-5JiQTETb"
   },
   "source": [
    "Plot the loss function (axis X: number of epochs, axis Y: loss function)."
   ]
  },
  {
   "cell_type": "code",
   "execution_count": 91,
   "metadata": {
    "colab": {
     "base_uri": "https://localhost:8080/",
     "height": 279
    },
    "collapsed": true,
    "id": "StpnWGFNTETb",
    "outputId": "138a6f45-8c07-438b-8761-9746f13262be"
   },
   "outputs": [
    {
     "data": {
      "image/png": "[encoded data removed]",
      "text/plain": [
       "<Figure size 432x288 with 1 Axes>"
      ]
     },
     "metadata": {
      "needs_background": "light",
      "tags": []
     },
     "output_type": "display_data"
    }
   ],
   "source": [
    "# Your plot code here\n",
    "model_rnn = MyRNN()\n",
    "model_rnn.to(device)\n",
    "\n",
    "epochs = 50\n",
    "\n",
    "train_model(model_rnn, epochs)"
   ]
  },
  {
   "cell_type": "code",
   "execution_count": 102,
   "metadata": {
    "id": "sw_2qNJLTETb"
   },
   "outputs": [],
   "source": [
    "def generate_text(char_rnn, tokens = tokens, seed_phrase = 'darling, ', \n",
    "                    max_length = 100, temperature = 1., flag = False):\n",
    "  \n",
    "    x_sequence = torch.Tensor([np.array([token_to_idx[token] for token in seed_phrase.lower()])]).to(device)\n",
    "    hid_state = char_rnn.initial_state(batch_size = 1)\n",
    "\n",
    "    if flag: hid_state = tuple([each.data for each in hid_state])\n",
    "    \n",
    "    #start generating\n",
    "    for _ in range(max_length - len(seed_phrase)):\n",
    "        out, hid_state = char_rnn(torch.stack([x_sequence[:, -1].long()]), hid_state)\n",
    "        preds =  F.softmax(out / temperature, dim = -1).cpu().data.numpy().squeeze()\n",
    "        next_ix_ = np.random.choice(len(tokens), p = preds)\n",
    "        next_ix = torch.LongTensor([[next_ix_]])\n",
    "\n",
    "        x_sequence = torch.cat([x_sequence, next_ix.to(device)], dim = 1)\n",
    "    return ''.join([tokens[int(ix)] for ix in x_sequence.cpu().data.numpy()[0]])"
   ]
  },
  {
   "cell_type": "code",
   "execution_count": 105,
   "metadata": {
    "colab": {
     "base_uri": "https://localhost:8080/"
    },
    "id": "4hrQyL9hTETb",
    "outputId": "3b07cdad-e1c3-43cf-8053-1b0b19b38cd1"
   },
   "outputs": [
    {
     "name": "stdout",
     "output_type": "stream",
     "text": [
      "darling, efter,.\n",
      "  cammy?\n",
      "  so are remedpst,\n",
      "  evey megoase wells eyes art my my sins mothen manhshers hatery own breast, that with orn great,\n",
      "  and inink thou gain,\n",
      "  bur fanting to dront.\n",
      "\n",
      "  xxxlains hhats words thbourhy my slincey wendan whour my love, and he deasing thuch all my latter, lijeing.\n",
      "  thy o'picing trueg, now shall i sofeding partus of can if,n a myom, to?\n",
      "  and they plearing wist nealt, are my deos'd how it track'd hinn thee, swees your is thy deshed hrecalsen doend by arl and, \n"
     ]
    }
   ],
   "source": [
    "model_rnn.eval()\n",
    "print(generate_text(char_rnn = model_rnn,  max_length = 500, temperature = 1.))"
   ]
  },
  {
   "cell_type": "markdown",
   "metadata": {
    "id": "o1ABZ4RwTETc"
   },
   "source": [
    "### More poetic model\n",
    "\n",
    "Let's use LSTM instead of vanilla RNN and compare the results."
   ]
  },
  {
   "cell_type": "markdown",
   "metadata": {
    "id": "VEVotTuCTETc"
   },
   "source": [
    "Plot the loss function of the number of epochs. Does the final loss become better?"
   ]
  },
  {
   "cell_type": "code",
   "execution_count": 113,
   "metadata": {
    "collapsed": true,
    "id": "e74cgNR4TETc"
   },
   "outputs": [],
   "source": [
    "# Your beautiful code here\n",
    "class MyLSTM (nn.Module):\n",
    "    def __init__(self, n_tokens = len(tokens), hidden_dim = 256, emb_dim = 128,\n",
    "                 n_layers = 1):\n",
    "        super(MyLSTM, self).__init__()\n",
    "        self.hidden_dim = hidden_dim\n",
    "        self.emb_dim = emb_dim\n",
    "        self.n_layers = n_layers\n",
    "        self.n_tokens = emb_dim\n",
    "        \n",
    "        self.embed = nn.Embedding(n_tokens, self.emb_dim)\n",
    "        self.lstm = nn.LSTM(self.emb_dim, self.hidden_dim, batch_first =  True)\n",
    "        self.hid_to_logits = nn.Linear(self.hidden_dim, n_tokens)\n",
    "    \n",
    "    def forward(self, x, hidden_state):\n",
    "        out, hidden_state = self.lstm(self.embed(x), hidden_state)\n",
    "        out = self.hid_to_logits(out)\n",
    "      \n",
    "        return out, hidden_state\n",
    "    \n",
    "    def initial_state(self, batch_size):\n",
    "        weight = next(self.parameters()).data\n",
    "        hidden = (weight.new(self.n_layers, batch_size, self.hidden_dim).zero_().to(device),\n",
    "        weight.new(self.n_layers, batch_size, self.hidden_dim).zero_().to(device))\n",
    "        return hidden\n"
   ]
  },
  {
   "cell_type": "code",
   "execution_count": 125,
   "metadata": {
    "id": "p-4HlGOwl6F1"
   },
   "outputs": [],
   "source": [
    "def train_model_lstm(model, epochs=800):\n",
    "    torch.manual_seed(7)\n",
    "\n",
    "    batch_size = 512\n",
    "\n",
    "    optimizer = torch.optim.Adam(model.parameters(), lr=0.001)\n",
    "    criterion = nn.CrossEntropyLoss()\n",
    "\n",
    "    loss_history = list()\n",
    "\n",
    "    model.train()\n",
    "\n",
    "    for epoch in range(epochs):\n",
    "        curr_loss = []\n",
    "        hidden_state = model.initial_state(batch_size)\n",
    "\n",
    "        for batch_ind in range(batch_size, x.shape[0], batch_size):\n",
    "\n",
    "            x_batch, y_batch = get_batches(x, y, device, batch_size, batch_ind)\n",
    "\n",
    "            hidden_state = tuple([each.data for each in hidden_state])\n",
    "\n",
    "            optimizer.zero_grad()\n",
    "        \n",
    "            seq, hidden_state = model_lstm(x_batch, hidden_state)\n",
    "            loss = criterion(seq[:, -1].contiguous(), y_batch.contiguous())  \n",
    "            loss.backward()\n",
    "            optimizer.step()\n",
    "\n",
    "            curr_loss.append(loss.item())  \n",
    "\n",
    "\n",
    "        loss_history.append(np.mean(curr_loss))\n",
    "        \n",
    "        if (epoch + 1) % 5 == 0:\n",
    "            clear_output(True)\n",
    "            print(f'Epoch {epoch}')\n",
    "            print(f'Current loss {loss_history[-1]}')\n",
    "            \n",
    "            plt.plot(loss_history, label = 'loss')\n",
    "            plt.xlabel(\"epochs\")\n",
    "            plt.legend()\n",
    "            plt.show()"
   ]
  },
  {
   "cell_type": "code",
   "execution_count": 126,
   "metadata": {
    "colab": {
     "base_uri": "https://localhost:8080/",
     "height": 313
    },
    "id": "AyV20dWKpP7j",
    "outputId": "5eceb6f3-0e00-46b0-e298-718e99e1e752"
   },
   "outputs": [
    {
     "name": "stdout",
     "output_type": "stream",
     "text": [
      "Epoch 49\n",
      "Current loss 0.613425596555074\n"
     ]
    },
    {
     "data": {
      "image/png": "[encoded data removed]",
      "text/plain": [
       "<Figure size 432x288 with 1 Axes>"
      ]
     },
     "metadata": {
      "needs_background": "light",
      "tags": []
     },
     "output_type": "display_data"
    }
   ],
   "source": [
    "model_lstm = MyLSTM()\n",
    "model_lstm.to(device)\n",
    "\n",
    "epochs = 50\n",
    "\n",
    "train_model_lstm(model_lstm, epochs)"
   ]
  },
  {
   "cell_type": "markdown",
   "metadata": {
    "id": "YzOL8sQGTETc"
   },
   "source": [
    "Generate text using the trained net with different `temperature` parameter: `[0.1, 0.2, 0.5, 1.0, 2.0]`.\n",
    "\n",
    "Evaluate the results visually, try to interpret them."
   ]
  },
  {
   "cell_type": "code",
   "execution_count": 134,
   "metadata": {
    "colab": {
     "base_uri": "https://localhost:8080/"
    },
    "id": "1EUKTBSHTETc",
    "outputId": "e4652562-3edf-4307-a800-51a6d70b39d5"
   },
   "outputs": [
    {
     "name": "stdout",
     "output_type": "stream",
     "text": [
      "TEMPERATURE =  0.1\n",
      "\t darling, are show\n",
      "  hath love sometimes with thee are me proud,\n",
      "  it for i praise that i have seen dids\n",
      "  and see so dear from my mistress reeks.\n",
      "  i love to my says be thy continual hast,\n",
      "  excuse my verse is, being my desire,\n",
      "  and that she is my self in sensers had allay'd,\n",
      "  who lought thy contract of heart doth process.\n",
      "    if it fearful seeming with thee thou be disgrace.\n",
      "  what can seem lin \n",
      "\n",
      "TEMPERATURE =  0.2\n",
      "\t darling, true time,\n",
      "    those lines of thine, and i prove that i do change?\n",
      "  why should my self, though i conscarer thought\n",
      "  of thy love, and therefore in their heart\n",
      "  of thy love, and therefore i love's eyes keep,\n",
      "  and serving words, by in the same doth lies,\n",
      "  and will is best, if it say that i do comment;\n",
      "  look in the first in my saint to make thine,\n",
      "  and in my sinful earth, so still to a \n",
      "\n",
      "TEMPERATURE =  0.5\n",
      "\t darling, true thin,\n",
      "  more blessed, seeing thou are right cast commitness spee:\n",
      "    fast as thou are orn no far i come do near her,\n",
      "  i say so thou dost reture me so forstand\n",
      "  save, what i concest should to me,\n",
      "    and my fair from my mistress reeks of single and:\n",
      "  save thou dost steal thy self are to so, and true,\n",
      "  my version in that says i am a dearance\n",
      "    to wit to faults come with thine ea \n",
      "\n",
      "TEMPERATURE =  1.0\n",
      "\t darling, skill\n",
      "  to make me then the world an endless ben,\n",
      "    and yet, love, being wanck me to are,\n",
      "  who, more it wilt, to just for my rater with thee,\n",
      "  ur say they despite thy shows you whose may:\n",
      "  thy frame not with thy chief; but which if thee,\n",
      "  wherein be fingers my bend'd from my mist;\n",
      "  if all ornam of my false-looks,\n",
      "  ainst thou should make me so thine eye hath muse,\n",
      "  strongh doth fe \n",
      "\n",
      "TEMPERATURE =  2.0\n",
      "\t darling, miral, orf!\n",
      "  no look another wantwall those lips old natume;\n",
      "  lack, merine grows of a twor'dol boas, nor dwireth still,\n",
      "    and night admeit, nor thypurvage of thisure\n",
      "  like tour past my graces be wound.\n",
      "  oly dy'd him but.\n",
      "\n",
      "  cv\n",
      "\n",
      "  i how i lay'st spiring day?\n",
      "  and swet i dougs and may\n",
      "  unageot dit false-fadone,\n",
      "    frangen not mindures set wretters turn?\n",
      "  not thou,,\n",
      "  and 'stenbit  \n",
      "\n"
     ]
    }
   ],
   "source": [
    "# Text generation with different temperature values here\n",
    "model_lstm.eval()\n",
    "\n",
    "for temperature in [0.1, 0.2, 0.5, 1.0, 2.0]:\n",
    "  print(\"TEMPERATURE = \", temperature)\n",
    "  poetry = generate_text(char_rnn = model_lstm, temperature = temperature,\n",
    "                      max_length = 400, seed_phrase = \"Darling, \")\n",
    "\n",
    "  print('\\t', poetry, '\\n')"
   ]
  },
  {
   "cell_type": "markdown",
   "metadata": {},
   "source": [
    "При значении teperature = 0,2 - 0,5 тексты получились более красивые"
   ]
  },
  {
   "cell_type": "markdown",
   "metadata": {
    "id": "F4GJlbNxTETc"
   },
   "source": [
    "### Saving and loading models"
   ]
  },
  {
   "cell_type": "markdown",
   "metadata": {
    "id": "8jhJdBDhTETd"
   },
   "source": [
    "Save the model to the disk, then load it and generate text. Examples are available [here](https://pytorch.org/tutorials/beginner/saving_loading_models.html])."
   ]
  },
  {
   "cell_type": "code",
   "execution_count": 128,
   "metadata": {
    "collapsed": true,
    "id": "U4XPJrNJTETd"
   },
   "outputs": [],
   "source": [
    "# Saving and loading code here\n",
    "def save_net(net, name: str, opt):\n",
    "    checkpoint = {'state_dict': net.state_dict(),\n",
    "                  'opt_state_dict': opt.state_dict()}\n",
    "\n",
    "    with open(name, 'wb') as f:\n",
    "        torch.save(checkpoint, f)"
   ]
  },
  {
   "cell_type": "code",
   "execution_count": 133,
   "metadata": {
    "colab": {
     "base_uri": "https://localhost:8080/"
    },
    "id": "yN5NGg-CqqBu",
    "outputId": "edaa4a6f-e8de-4fb3-83b2-344194c0de1e"
   },
   "outputs": [
    {
     "name": "stdout",
     "output_type": "stream",
     "text": [
      "darling! blesson is'd prove\n",
      "    that fair, swear it thoughts confoundly thin,\n",
      "  summer's meturn than 'tis lived saw a fear roses dear'd,\n",
      "  all men rankslating thy poor love in lost;\n",
      "  lest is this worthes outworn, a doting sing:\n",
      "    fanger sin walls, and love i for love?\n",
      "  or, if it wersings to canstal like.\n",
      "    but why rebeit and i delight'd thou shouldst assing,\n",
      "  pitter in joyst thou know'st i think me wills of though rame:\n",
      "  o! love, my mistr\n"
     ]
    }
   ],
   "source": [
    "optimizer = torch.optim.Adam(model_lstm.parameters(), lr=0.001)\n",
    "save_net(model_lstm, \"LSTM.net\", optimizer)\n",
    "\n",
    "checkpoint = torch.load(\"LSTM.net\")\n",
    "model_lstm.load_state_dict(checkpoint['state_dict'])\n",
    "optimizer.load_state_dict(checkpoint['opt_state_dict'])\n",
    "model_lstm.eval()\n",
    "print(generate_text(char_rnn = model_lstm, temperature = 1.,\n",
    "                      max_length = 450, seed_phrase = \"Darling! \"))"
   ]
  },
  {
   "cell_type": "markdown",
   "metadata": {
    "id": "D41F-bebTETd"
   },
   "source": [
    "### References\n",
    "1. <a href='http://karpathy.github.io/2015/05/21/rnn-effectiveness/'> Andrew Karpathy blog post about RNN. </a> \n",
    "There are several examples of genration: Shakespeare texts, Latex formulas, Linux Sourse Code and children names.\n",
    "2. <a href='https://github.com/karpathy/char-rnn'> Repo with char-rnn code </a>\n",
    "3. Cool repo with PyTorch examples: [link](https://github.com/spro/practical-pytorch`)"
   ]
  }
 ],
 "metadata": {
  "accelerator": "GPU",
  "anaconda-cloud": {},
  "colab": {
   "name": "Копия блокнота \"Lab2_DL_part3_poetry.ipynb\"",
   "provenance": []
  },
  "kernelspec": {
   "display_name": "Python 3",
   "language": "python",
   "name": "python3"
  },
  "language_info": {
   "codemirror_mode": {
    "name": "ipython",
    "version": 3
   },
   "file_extension": ".py",
   "mimetype": "text/x-python",
   "name": "python",
   "nbconvert_exporter": "python",
   "pygments_lexer": "ipython3",
   "version": "3.7.6"
  }
 },
 "nbformat": 4,
 "nbformat_minor": 1
}
