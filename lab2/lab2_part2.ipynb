{
 "cells": [
  {
   "cell_type": "markdown",
   "metadata": {
    "id": "NFmOh482SyEF"
   },
   "source": [
    "## Lab 2\n",
    "### Part 2: Dealing with overfitting"
   ]
  },
  {
   "cell_type": "markdown",
   "metadata": {
    "id": "AjzAuO3oSvsI"
   },
   "source": [
    "Today we work with [Fashion-MNIST dataset](https://github.com/zalandoresearch/fashion-mnist) (*hint: it is available in `torchvision`*).\n",
    "\n",
    "Your goal for today:\n",
    "1. Train a FC (fully-connected) network that achieves >= 0.885 test accuracy.\n",
    "2. Cause considerable overfitting by modifying the network (e.g. increasing the number of network parameters and/or layers) and demonstrate in in the appropriate way (e.g. plot loss and accurasy on train and validation set w.r.t. network complexity).\n",
    "3. Try to deal with overfitting (at least partially) by using regularization techniques (Dropout/Batchnorm/...) and demonstrate the results.\n",
    "\n",
    "__Please, write a small report describing your ideas, tries and achieved results in the end of this file.__\n",
    "\n",
    "*Note*: Tasks 2 and 3 are interrelated, in task 3 your goal is to make the network from task 2 less prone to overfitting. Task 1 is independent from 2 and 3.\n",
    "\n",
    "*Note 2*: We recomment to use Google Colab or other machine with GPU acceleration."
   ]
  },
  {
   "cell_type": "code",
   "execution_count": 1,
   "metadata": {
    "id": "_KBld6VOSwhW"
   },
   "outputs": [],
   "source": [
    "import torch\n",
    "import torch.nn as nn\n",
    "import torchvision\n",
    "import torchvision.transforms as transforms\n",
    "import torchsummary\n",
    "from IPython.display import clear_output\n",
    "from matplotlib import pyplot as plt\n",
    "from matplotlib.pyplot import figure\n",
    "import numpy as np\n",
    "import os\n",
    "\n",
    "\n",
    "device = 'cuda:0' if torch.cuda.is_available() else 'cpu'"
   ]
  },
  {
   "cell_type": "code",
   "execution_count": 2,
   "metadata": {
    "colab": {
     "base_uri": "https://localhost:8080/"
    },
    "id": "EdLOG0XqS_g5",
    "outputId": "caa0b7c7-7e1f-46c7-a5ad-62a7d8697034"
   },
   "outputs": [
    {
     "name": "stdout",
     "output_type": "stream",
     "text": [
      "Directory fmnist is created!\n"
     ]
    }
   ],
   "source": [
    "# Technical function\n",
    "def mkdir(path):\n",
    "    if not os.path.exists(root_path):\n",
    "        os.mkdir(root_path)\n",
    "        print('Directory', path, 'is created!')\n",
    "    else:\n",
    "        print('Directory', path, 'already exists!')\n",
    "        \n",
    "root_path = 'fmnist'\n",
    "mkdir(root_path)"
   ]
  },
  {
   "cell_type": "code",
   "execution_count": 3,
   "metadata": {
    "colab": {
     "base_uri": "https://localhost:8080/",
     "height": 369,
     "referenced_widgets": [
      "5e86b7aafa114689a6caed9339af8c95",
      "0ec452a834834c478a6b2e48c2da6ce6",
      "672288829831472ea39ef3910e908da3",
      "0b33792c95dd4aaf9597523594ebbe30",
      "856e88a25e614dfb82fcf46528e3e3a5",
      "41d14a3eac7c454ea46b9092136ca015",
      "4405a811ea7841f19a4585fc361bdbfe",
      "2cbdaa614ba9401fb8608c96de13b41b",
      "210194f8955c44ca9896ccd6b9166b5d",
      "fb11d31444f147e6b7d0134dfe8a6f24",
      "110eef5c10f24821ad56cf0bf275b434",
      "41e225a4d4274cb7a4b6d45e698f97be",
      "d264d5f99af540f386b186160e42abc3",
      "bea71cd748c8496397dfde08d633066f",
      "fb3ca83d29f347c7a76df4c6d512eeb9",
      "b884a827c58947ff953f2392a4fd4298",
      "fdc1de6736a0436bbcf7101708180c3b",
      "b2d93b8798404243862686e5f1594565",
      "a2abcc2bac8840a086292ce8c08953ff",
      "e226848672e7404db6368663c448f8fe",
      "e2c4fea149b345afa4a05801446f84e9",
      "3eee50394fab48fbb587e9bd882342ba",
      "2e857b624fc4474a8b2da990b2ff2b17",
      "373d16750ab641c09f12e8d69b5bf9f7",
      "298b6e5987e04c71a5e7037da598445c",
      "f57a4a2481e54547abe204b1b3555a79",
      "ebaca1051d0a47298d7c3dfbdd1e6be0",
      "ea0daa500d094338a0af4ad2ed4d4155",
      "b7433a149d2a43a6ab2924b73ab97387",
      "51fc90114c4048c0a1ba5d81ab371f3c",
      "95e153d7cd3f476abdea83dfb2b36a58",
      "381edbc0145b4cd082715fde5abf9e81"
     ]
    },
    "id": "qt6LE7XaTDT9",
    "outputId": "9567d3f0-1abf-4087-a5b9-6fdc0b161589"
   },
   "outputs": [
    {
     "name": "stdout",
     "output_type": "stream",
     "text": [
      "Downloading http://fashion-mnist.s3-website.eu-central-1.amazonaws.com/train-images-idx3-ubyte.gz to fmnist/FashionMNIST/raw/train-images-idx3-ubyte.gz\n"
     ]
    },
    {
     "data": {
      "application/vnd.jupyter.widget-view+json": {
       "model_id": "5e86b7aafa114689a6caed9339af8c95",
       "version_major": 2,
       "version_minor": 0
      },
      "text/plain": [
       "HBox(children=(FloatProgress(value=1.0, bar_style='info', max=1.0), HTML(value='')))"
      ]
     },
     "metadata": {
      "tags": []
     },
     "output_type": "display_data"
    },
    {
     "name": "stdout",
     "output_type": "stream",
     "text": [
      "Extracting fmnist/FashionMNIST/raw/train-images-idx3-ubyte.gz to fmnist/FashionMNIST/raw\n",
      "Downloading http://fashion-mnist.s3-website.eu-central-1.amazonaws.com/train-labels-idx1-ubyte.gz to fmnist/FashionMNIST/raw/train-labels-idx1-ubyte.gz\n"
     ]
    },
    {
     "data": {
      "application/vnd.jupyter.widget-view+json": {
       "model_id": "210194f8955c44ca9896ccd6b9166b5d",
       "version_major": 2,
       "version_minor": 0
      },
      "text/plain": [
       "HBox(children=(FloatProgress(value=1.0, bar_style='info', max=1.0), HTML(value='')))"
      ]
     },
     "metadata": {
      "tags": []
     },
     "output_type": "display_data"
    },
    {
     "name": "stdout",
     "output_type": "stream",
     "text": [
      "Extracting fmnist/FashionMNIST/raw/train-labels-idx1-ubyte.gz to fmnist/FashionMNIST/raw\n",
      "Downloading http://fashion-mnist.s3-website.eu-central-1.amazonaws.com/t10k-images-idx3-ubyte.gz to fmnist/FashionMNIST/raw/t10k-images-idx3-ubyte.gz\n"
     ]
    },
    {
     "data": {
      "application/vnd.jupyter.widget-view+json": {
       "model_id": "fdc1de6736a0436bbcf7101708180c3b",
       "version_major": 2,
       "version_minor": 0
      },
      "text/plain": [
       "HBox(children=(FloatProgress(value=1.0, bar_style='info', max=1.0), HTML(value='')))"
      ]
     },
     "metadata": {
      "tags": []
     },
     "output_type": "display_data"
    },
    {
     "name": "stdout",
     "output_type": "stream",
     "text": [
      "Extracting fmnist/FashionMNIST/raw/t10k-images-idx3-ubyte.gz to fmnist/FashionMNIST/raw\n",
      "Downloading http://fashion-mnist.s3-website.eu-central-1.amazonaws.com/t10k-labels-idx1-ubyte.gz to fmnist/FashionMNIST/raw/t10k-labels-idx1-ubyte.gz\n"
     ]
    },
    {
     "data": {
      "application/vnd.jupyter.widget-view+json": {
       "model_id": "298b6e5987e04c71a5e7037da598445c",
       "version_major": 2,
       "version_minor": 0
      },
      "text/plain": [
       "HBox(children=(FloatProgress(value=1.0, bar_style='info', max=1.0), HTML(value='')))"
      ]
     },
     "metadata": {
      "tags": []
     },
     "output_type": "display_data"
    },
    {
     "name": "stdout",
     "output_type": "stream",
     "text": [
      "Extracting fmnist/FashionMNIST/raw/t10k-labels-idx1-ubyte.gz to fmnist/FashionMNIST/raw\n",
      "Processing...\n",
      "Done!\n"
     ]
    },
    {
     "name": "stderr",
     "output_type": "stream",
     "text": [
      "/usr/local/lib/python3.6/dist-packages/torchvision/datasets/mnist.py:480: UserWarning: The given NumPy array is not writeable, and PyTorch does not support non-writeable tensors. This means you can write to the underlying (supposedly non-writeable) NumPy array using the tensor. You may want to copy the array to protect its data or make it writeable before converting it to a tensor. This type of warning will be suppressed for the rest of this program. (Triggered internally at  /pytorch/torch/csrc/utils/tensor_numpy.cpp:141.)\n",
      "  return torch.from_numpy(parsed.astype(m[2], copy=False)).view(*s)\n"
     ]
    }
   ],
   "source": [
    "download = True\n",
    "train_transform = transforms.ToTensor()\n",
    "test_transform = transforms.ToTensor()\n",
    "transforms.Compose((transforms.ToTensor()))\n",
    "\n",
    "\n",
    "fmnist_dataset_train = torchvision.datasets.FashionMNIST(root_path, \n",
    "                                                        train=True, \n",
    "                                                        transform=train_transform,\n",
    "                                                        target_transform=None,\n",
    "                                                        download=download)\n",
    "fmnist_dataset_test = torchvision.datasets.FashionMNIST(root_path, \n",
    "                                                       train=False, \n",
    "                                                       transform=test_transform,\n",
    "                                                       target_transform=None,\n",
    "                                                       download=download)"
   ]
  },
  {
   "cell_type": "code",
   "execution_count": 4,
   "metadata": {
    "id": "71YP0SPwTIxD"
   },
   "outputs": [],
   "source": [
    "train_loader = torch.utils.data.DataLoader(fmnist_dataset_train, \n",
    "                                           batch_size=128,\n",
    "                                           shuffle=True,\n",
    "                                           num_workers=2)\n",
    "test_loader = torch.utils.data.DataLoader(fmnist_dataset_test,\n",
    "                                          batch_size=256,\n",
    "                                          shuffle=False,\n",
    "                                          num_workers=2)"
   ]
  },
  {
   "cell_type": "markdown",
   "metadata": {
    "id": "b6OOOffHTfX5"
   },
   "source": [
    "### Task 1\n",
    "Train a network that achieves $\\geq 0.885$ test accuracy. It's fine to use only Linear (`nn.Linear`) layers and activations/dropout/batchnorm. Convolutional layers might be a great use, but we will meet them a bit later."
   ]
  },
  {
   "cell_type": "code",
   "execution_count": 32,
   "metadata": {
    "id": "ftpkTjxlTcFx"
   },
   "outputs": [],
   "source": [
    "class TinyNeuralNetwork(nn.Module):\n",
    "    def __init__(self, input_shape=28*28, num_classes=10, input_channels=1):\n",
    "        super(self.__class__, self).__init__()\n",
    "        self.model = nn.Sequential(\n",
    "            nn.Flatten(), # This layer converts image into a vector to use Linear layers afterwards\n",
    "            # Your network structure comes here\n",
    "            nn.Linear(input_shape, 256),\n",
    "            nn.Tanh(),\n",
    "            nn.Linear(256, 512),\n",
    "            nn.Tanh(),\n",
    "            nn.Linear(512, num_classes),\n",
    "        )\n",
    "        \n",
    "    def forward(self, inp):       \n",
    "        out = self.model(inp)\n",
    "        return out"
   ]
  },
  {
   "cell_type": "code",
   "execution_count": 33,
   "metadata": {
    "colab": {
     "base_uri": "https://localhost:8080/"
    },
    "id": "z7vP_w4-N-SQ",
    "outputId": "d9d73866-4da5-4d32-c32b-a11f06bb81fd"
   },
   "outputs": [
    {
     "name": "stdout",
     "output_type": "stream",
     "text": [
      "----------------------------------------------------------------\n",
      "        Layer (type)               Output Shape         Param #\n",
      "================================================================\n",
      "           Flatten-1                  [-1, 784]               0\n",
      "            Linear-2                  [-1, 256]         200,960\n",
      "              Tanh-3                  [-1, 256]               0\n",
      "            Linear-4                  [-1, 512]         131,584\n",
      "              Tanh-5                  [-1, 512]               0\n",
      "            Linear-6                   [-1, 10]           5,130\n",
      "================================================================\n",
      "Total params: 337,674\n",
      "Trainable params: 337,674\n",
      "Non-trainable params: 0\n",
      "----------------------------------------------------------------\n",
      "Input size (MB): 0.00\n",
      "Forward/backward pass size (MB): 0.02\n",
      "Params size (MB): 1.29\n",
      "Estimated Total Size (MB): 1.31\n",
      "----------------------------------------------------------------\n"
     ]
    }
   ],
   "source": [
    "torchsummary.summary(TinyNeuralNetwork().to(device), (28*28,))"
   ]
  },
  {
   "cell_type": "markdown",
   "metadata": {
    "id": "544PGKEnjPr5"
   },
   "source": [
    "Your experiments come here:"
   ]
  },
  {
   "cell_type": "code",
   "execution_count": 18,
   "metadata": {
    "id": "i3POFj90Ti-6"
   },
   "outputs": [],
   "source": [
    "\n",
    "# Your experiments, training and validation loops here"
   ]
  },
  {
   "cell_type": "code",
   "execution_count": 34,
   "metadata": {
    "id": "s834D2dqvJw1"
   },
   "outputs": [],
   "source": [
    "def train_epoch(model, device, train_loader, test_loader, criterion, optimizer): \n",
    "    torch.manual_seed(5)\n",
    "\n",
    "    model.train()\n",
    "\n",
    "    current_test_accuracy = 0\n",
    "    running_loss = 0\n",
    "    pred = 0\n",
    "    correct = 0\n",
    "    for data, label in train_loader:\n",
    "        data, label = data.to(device), label.to(device)\n",
    "\n",
    "        optimizer.zero_grad()\n",
    "        output = model(data)\n",
    "\n",
    "        loss = criterion(output, label)\n",
    "        loss.backward()\n",
    "        optimizer.step()\n",
    "\n",
    "        running_loss += loss.item()\n",
    "\n",
    "        pred = output.argmax(dim=1, keepdim=True)\n",
    "        correct += pred.eq(label.view_as(pred)).sum().item()\n",
    "    \n",
    "    current_loss = running_loss / len(train_loader.dataset)\n",
    "    print(f'Current train loss = {current_loss}')\n",
    "\n",
    "    current_train_accuracy = correct / len(train_loader.dataset)\n",
    "    print(f'Current train accuracy = {current_train_accuracy}')\n",
    "\n",
    "    model.eval()\n",
    "\n",
    "    current_test_loss = 0\n",
    "    current_test_accuracy = 0 \n",
    "\n",
    "    test_loss = 0\n",
    "    correct = 0   \n",
    "    running_loss = 0\n",
    "    with torch.no_grad():\n",
    "        for data, label in test_loader:\n",
    "            data, label = data.to(device), label.to(device)\n",
    "            output = model(data)\n",
    "\n",
    "            test_loss = criterion(output, label)\n",
    "            running_loss += test_loss.item()\n",
    "\n",
    "            pred = output.argmax(dim=1, keepdim=True)\n",
    "            correct += pred.eq(label.view_as(pred)).sum().item()\n",
    "\n",
    "    current_test_loss = running_loss / len(test_loader.dataset) \n",
    "    print(f'Current test loss = {current_test_loss}')\n",
    "\n",
    "    current_test_accuracy = correct / len(test_loader.dataset)\n",
    "    print(f'Current test accuracy = {current_test_accuracy}')\n",
    "\n",
    "    return current_loss, current_train_accuracy, current_test_loss, current_test_accuracy\n",
    "\n"
   ]
  },
  {
   "cell_type": "code",
   "execution_count": 35,
   "metadata": {
    "id": "P9wcU8iE7an6"
   },
   "outputs": [],
   "source": [
    "def train_model(epochs, model, device, train_loader, test_loader, loss_func, opt):\n",
    "    test_loss_history = list()\n",
    "    train_loss_history = list()\n",
    "    test_ac_history = list()\n",
    "    train_ac_history = list()\n",
    "\n",
    "    train_loss = 0\n",
    "    test_loss = 0\n",
    "    test_ac = 0\n",
    "    train_ac = 0\n",
    "    for epoch in range(1, epochs+1):\n",
    "        \n",
    "        print(f'Training Epoch {epoch}')\n",
    "        train_loss, train_ac, test_loss, test_ac = train_epoch(model, device, train_loader, test_loader, loss_func, opt)\n",
    "        \n",
    "\n",
    "        train_loss_history.append(train_loss)\n",
    "        test_loss_history.append(test_loss)\n",
    "        test_ac_history.append(test_ac)\n",
    "        train_ac_history.append(train_ac)\n",
    "\n",
    "    return train_loss_history, test_loss_history, train_ac_history, test_ac_history"
   ]
  },
  {
   "cell_type": "code",
   "execution_count": 41,
   "metadata": {
    "id": "wS6N8tsY6wXS"
   },
   "outputs": [],
   "source": [
    "model = TinyNeuralNetwork().to(device)\n",
    "opt = torch.optim.Adam(model.parameters(), lr=0.0003) # YOUR CODE HERE\n",
    "loss_func = nn.CrossEntropyLoss() # YOUR CODE HERE\n",
    "epochs = 30"
   ]
  },
  {
   "cell_type": "code",
   "execution_count": 42,
   "metadata": {
    "colab": {
     "base_uri": "https://localhost:8080/"
    },
    "id": "lH5Sqbqv8KSr",
    "outputId": "6c6d9686-1a31-4d22-c620-b419b70e6828"
   },
   "outputs": [
    {
     "name": "stdout",
     "output_type": "stream",
     "text": [
      "Training Epoch 1\n",
      "Current train loss = 0.004759866812328498\n",
      "Current train accuracy = 0.7862\n",
      "Current test loss = 0.0018318826407194137\n",
      "Current test accuracy = 0.8322\n",
      "Training Epoch 2\n",
      "Current train loss = 0.003241500719388326\n",
      "Current train accuracy = 0.8512666666666666\n",
      "Current test loss = 0.00167291699051857\n",
      "Current test accuracy = 0.8469\n",
      "Training Epoch 3\n",
      "Current train loss = 0.0029880516124268374\n",
      "Current train accuracy = 0.86215\n",
      "Current test loss = 0.0015954020753502845\n",
      "Current test accuracy = 0.8524\n",
      "Training Epoch 4\n",
      "Current train loss = 0.002824353574216366\n",
      "Current train accuracy = 0.8695333333333334\n",
      "Current test loss = 0.0015422032609581947\n",
      "Current test accuracy = 0.8576\n",
      "Training Epoch 5\n",
      "Current train loss = 0.0026977650245030723\n",
      "Current train accuracy = 0.8746666666666667\n",
      "Current test loss = 0.0015006742268800736\n",
      "Current test accuracy = 0.8615\n",
      "Training Epoch 6\n",
      "Current train loss = 0.002591597560048103\n",
      "Current train accuracy = 0.8787833333333334\n",
      "Current test loss = 0.0014657451570034028\n",
      "Current test accuracy = 0.8652\n",
      "Training Epoch 7\n",
      "Current train loss = 0.0024981725486616295\n",
      "Current train accuracy = 0.8833833333333333\n",
      "Current test loss = 0.0014360789895057678\n",
      "Current test accuracy = 0.8674\n",
      "Training Epoch 8\n",
      "Current train loss = 0.0024140186578035356\n",
      "Current train accuracy = 0.8870166666666667\n",
      "Current test loss = 0.0014108553305268287\n",
      "Current test accuracy = 0.8708\n",
      "Training Epoch 9\n",
      "Current train loss = 0.0023373010995487373\n",
      "Current train accuracy = 0.89045\n",
      "Current test loss = 0.0013894139960408212\n",
      "Current test accuracy = 0.8723\n",
      "Training Epoch 10\n",
      "Current train loss = 0.002266790843506654\n",
      "Current train accuracy = 0.89355\n",
      "Current test loss = 0.0013711038455367088\n",
      "Current test accuracy = 0.8753\n",
      "Training Epoch 11\n",
      "Current train loss = 0.0022015009162326656\n",
      "Current train accuracy = 0.8962666666666667\n",
      "Current test loss = 0.001355336268246174\n",
      "Current test accuracy = 0.8759\n",
      "Training Epoch 12\n",
      "Current train loss = 0.0021405103436360757\n",
      "Current train accuracy = 0.8987833333333334\n",
      "Current test loss = 0.001341638332605362\n",
      "Current test accuracy = 0.876\n",
      "Training Epoch 13\n",
      "Current train loss = 0.0020829911475380262\n",
      "Current train accuracy = 0.9011666666666667\n",
      "Current test loss = 0.0013297236889600753\n",
      "Current test accuracy = 0.8783\n",
      "Training Epoch 14\n",
      "Current train loss = 0.002028314921632409\n",
      "Current train accuracy = 0.9039\n",
      "Current test loss = 0.0013195481419563293\n",
      "Current test accuracy = 0.8798\n",
      "Training Epoch 15\n",
      "Current train loss = 0.001976100827753544\n",
      "Current train accuracy = 0.9065333333333333\n",
      "Current test loss = 0.001311118184030056\n",
      "Current test accuracy = 0.8811\n",
      "Training Epoch 16\n",
      "Current train loss = 0.0019261052658160528\n",
      "Current train accuracy = 0.9086\n",
      "Current test loss = 0.0013043719947338104\n",
      "Current test accuracy = 0.8825\n",
      "Training Epoch 17\n",
      "Current train loss = 0.0018781226944178343\n",
      "Current train accuracy = 0.9105333333333333\n",
      "Current test loss = 0.0012992598921060562\n",
      "Current test accuracy = 0.883\n",
      "Training Epoch 18\n",
      "Current train loss = 0.0018320037173728148\n",
      "Current train accuracy = 0.9127833333333333\n",
      "Current test loss = 0.0012957348570227622\n",
      "Current test accuracy = 0.8829\n",
      "Training Epoch 19\n",
      "Current train loss = 0.0017875911223391692\n",
      "Current train accuracy = 0.9150833333333334\n",
      "Current test loss = 0.0012936534836888313\n",
      "Current test accuracy = 0.8834\n",
      "Training Epoch 20\n",
      "Current train loss = 0.0017447159551084042\n",
      "Current train accuracy = 0.9172\n",
      "Current test loss = 0.0012927749007940292\n",
      "Current test accuracy = 0.8848\n",
      "Training Epoch 21\n",
      "Current train loss = 0.0017032259280482928\n",
      "Current train accuracy = 0.9194166666666667\n",
      "Current test loss = 0.0012928646340966226\n",
      "Current test accuracy = 0.8844\n",
      "Training Epoch 22\n",
      "Current train loss = 0.0016630072547743717\n",
      "Current train accuracy = 0.9210666666666667\n",
      "Current test loss = 0.0012937829211354256\n",
      "Current test accuracy = 0.8842\n",
      "Training Epoch 23\n",
      "Current train loss = 0.001623994258667032\n",
      "Current train accuracy = 0.923\n",
      "Current test loss = 0.0012954942524433135\n",
      "Current test accuracy = 0.8838\n",
      "Training Epoch 24\n",
      "Current train loss = 0.0015861109635482231\n",
      "Current train accuracy = 0.925\n",
      "Current test loss = 0.00129803998619318\n",
      "Current test accuracy = 0.8842\n",
      "Training Epoch 25\n",
      "Current train loss = 0.0015492654131104549\n",
      "Current train accuracy = 0.9268333333333333\n",
      "Current test loss = 0.0013014805167913437\n",
      "Current test accuracy = 0.8845\n",
      "Training Epoch 26\n",
      "Current train loss = 0.0015133666499207417\n",
      "Current train accuracy = 0.9287\n",
      "Current test loss = 0.0013058510392904281\n",
      "Current test accuracy = 0.8851\n",
      "Training Epoch 27\n",
      "Current train loss = 0.0014782930354277292\n",
      "Current train accuracy = 0.9311\n",
      "Current test loss = 0.0013112147770822048\n",
      "Current test accuracy = 0.8849\n",
      "Training Epoch 28\n",
      "Current train loss = 0.0014439362778017918\n",
      "Current train accuracy = 0.9329\n",
      "Current test loss = 0.0013177213437855244\n",
      "Current test accuracy = 0.8855\n",
      "Training Epoch 29\n",
      "Current train loss = 0.0014102350814888874\n",
      "Current train accuracy = 0.93485\n",
      "Current test loss = 0.0013255809359252453\n",
      "Current test accuracy = 0.8858\n",
      "Training Epoch 30\n",
      "Current train loss = 0.0013771579840530953\n",
      "Current train accuracy = 0.9364\n",
      "Current test loss = 0.0013351239033043384\n",
      "Current test accuracy = 0.8852\n"
     ]
    }
   ],
   "source": [
    "train_loss_history, test_loss_history, train_ac_history, test_ac_history = train_model(epochs, model, device, train_loader, test_loader, loss_func, opt)"
   ]
  },
  {
   "cell_type": "code",
   "execution_count": 43,
   "metadata": {
    "colab": {
     "base_uri": "https://localhost:8080/",
     "height": 557
    },
    "id": "-Y0ZwhKCcl8g",
    "outputId": "b2ec9b4b-46b5-44a5-aadf-8b0bcb69d87c"
   },
   "outputs": [
    {
     "data": {
      "image/png": "[encoded data removed]",
      "text/plain": [
       "<Figure size 432x288 with 1 Axes>"
      ]
     },
     "metadata": {
      "needs_background": "light",
      "tags": []
     },
     "output_type": "display_data"
    },
    {
     "data": {
      "image/png": "[encoded data removed]",
      "text/plain": [
       "<Figure size 432x288 with 1 Axes>"
      ]
     },
     "metadata": {
      "needs_background": "light",
      "tags": []
     },
     "output_type": "display_data"
    }
   ],
   "source": [
    "grid = np.arange(1, epochs + 1)\n",
    "\n",
    "plt.plot(grid, test_ac_history, label='test accuracy')\n",
    "plt.plot(grid, train_ac_history, label='train accuracy')\n",
    "plt.xlabel(\"epoch\")\n",
    "plt.title(\"accuracy\")\n",
    "plt.show()\n",
    "\n",
    "plt.plot(grid, train_loss_history, label='train loss')\n",
    "plt.plot(grid, test_loss_history, label='test loss')\n",
    "plt.xlabel(\"epoch\")\n",
    "plt.legend()\n",
    "plt.show()\n"
   ]
  },
  {
   "cell_type": "code",
   "execution_count": 44,
   "metadata": {
    "colab": {
     "base_uri": "https://localhost:8080/"
    },
    "id": "iwBO0jNIoFa7",
    "outputId": "e5cbc4e9-43a1-4825-9aaf-61190da0453b"
   },
   "outputs": [
    {
     "name": "stdout",
     "output_type": "stream",
     "text": [
      "Test accuracy = 0.8852\n"
     ]
    }
   ],
   "source": [
    "print(f'Test accuracy = {test_ac_history[-1]}')"
   ]
  },
  {
   "cell_type": "markdown",
   "metadata": {
    "id": "L7ISqkjmCPB1"
   },
   "source": [
    "### Task 2: Overfit it.\n",
    "Build a network that will overfit to this dataset. Demonstrate the overfitting in the appropriate way (e.g. plot loss and accurasy on train and test set w.r.t. network complexity).\n",
    "\n",
    "*Note:* you also might decrease the size of `train` dataset to enforce the overfitting and speed up the computations."
   ]
  },
  {
   "cell_type": "code",
   "execution_count": 45,
   "metadata": {
    "id": "H12uAWiGBwJx"
   },
   "outputs": [],
   "source": [
    "class OverfittingNeuralNetwork(nn.Module):\n",
    "    def __init__(self, input_shape=28*28, num_classes=10, input_channels=1):\n",
    "        super(self.__class__, self).__init__()\n",
    "        self.model = nn.Sequential(\n",
    "            nn.Flatten(), # This layer converts image into a vector to use Linear layers afterwards\n",
    "            # Your network structure comes here\n",
    "            nn.Linear(input_shape, 28*28*2),\n",
    "            nn.ReLU(),\n",
    "            nn.Linear(28*28*2, 512),\n",
    "            nn.Tanh(),\n",
    "            nn.Linear(512, 256),\n",
    "            nn.ReLU(),\n",
    "            nn.Linear(256, 100),\n",
    "            nn.ReLU(),\n",
    "            nn.Linear(100, num_classes)\n",
    "        )\n",
    "        \n",
    "    def forward(self, inp):       \n",
    "        out = self.model(inp)\n",
    "        return out"
   ]
  },
  {
   "cell_type": "code",
   "execution_count": 46,
   "metadata": {
    "colab": {
     "base_uri": "https://localhost:8080/"
    },
    "id": "JgXAKCpvCwqH",
    "outputId": "2760b2e6-8b3e-4548-e262-d212e99a36d2"
   },
   "outputs": [
    {
     "name": "stdout",
     "output_type": "stream",
     "text": [
      "----------------------------------------------------------------\n",
      "        Layer (type)               Output Shape         Param #\n",
      "================================================================\n",
      "           Flatten-1                  [-1, 784]               0\n",
      "            Linear-2                 [-1, 1568]       1,230,880\n",
      "              ReLU-3                 [-1, 1568]               0\n",
      "            Linear-4                  [-1, 512]         803,328\n",
      "              Tanh-5                  [-1, 512]               0\n",
      "            Linear-6                  [-1, 256]         131,328\n",
      "              ReLU-7                  [-1, 256]               0\n",
      "            Linear-8                  [-1, 100]          25,700\n",
      "              ReLU-9                  [-1, 100]               0\n",
      "           Linear-10                   [-1, 10]           1,010\n",
      "================================================================\n",
      "Total params: 2,192,246\n",
      "Trainable params: 2,192,246\n",
      "Non-trainable params: 0\n",
      "----------------------------------------------------------------\n",
      "Input size (MB): 0.00\n",
      "Forward/backward pass size (MB): 0.04\n",
      "Params size (MB): 8.36\n",
      "Estimated Total Size (MB): 8.41\n",
      "----------------------------------------------------------------\n"
     ]
    }
   ],
   "source": [
    "torchsummary.summary(OverfittingNeuralNetwork().to(device), (28*28,))"
   ]
  },
  {
   "cell_type": "code",
   "execution_count": 48,
   "metadata": {
    "colab": {
     "base_uri": "https://localhost:8080/",
     "height": 1000
    },
    "id": "YPynK6aMN-SR",
    "outputId": "e2bc5d97-b358-4a6a-e55b-d3eb67efbae2"
   },
   "outputs": [
    {
     "name": "stdout",
     "output_type": "stream",
     "text": [
      "Training Epoch 1\n",
      "Current train loss = 0.004620448195934296\n",
      "Current train accuracy = 0.7889166666666667\n",
      "Current test loss = 0.0017795004934072494\n",
      "Current test accuracy = 0.8395\n",
      "Training Epoch 2\n",
      "Current train loss = 0.0029722280365725357\n",
      "Current train accuracy = 0.8623\n",
      "Current test loss = 0.0015650827050209045\n",
      "Current test accuracy = 0.8563\n",
      "Training Epoch 3\n",
      "Current train loss = 0.0026290319701035817\n",
      "Current train accuracy = 0.87615\n",
      "Current test loss = 0.0014273600980639458\n",
      "Current test accuracy = 0.8685\n",
      "Training Epoch 4\n",
      "Current train loss = 0.002414798280100028\n",
      "Current train accuracy = 0.8862166666666667\n",
      "Current test loss = 0.001356926465034485\n",
      "Current test accuracy = 0.8746\n",
      "Training Epoch 5\n",
      "Current train loss = 0.002260904302323858\n",
      "Current train accuracy = 0.89335\n",
      "Current test loss = 0.0013282928586006164\n",
      "Current test accuracy = 0.8761\n",
      "Training Epoch 6\n",
      "Current train loss = 0.0021343297729889553\n",
      "Current train accuracy = 0.8981666666666667\n",
      "Current test loss = 0.001314346681535244\n",
      "Current test accuracy = 0.8784\n",
      "Training Epoch 7\n",
      "Current train loss = 0.0020241772023340066\n",
      "Current train accuracy = 0.9036333333333333\n",
      "Current test loss = 0.0013051674477756023\n",
      "Current test accuracy = 0.8808\n",
      "Training Epoch 8\n",
      "Current train loss = 0.0019092202169199784\n",
      "Current train accuracy = 0.9092333333333333\n",
      "Current test loss = 0.0013154194749891758\n",
      "Current test accuracy = 0.88\n",
      "Training Epoch 9\n",
      "Current train loss = 0.0018047264197220405\n",
      "Current train accuracy = 0.91395\n",
      "Current test loss = 0.0012934189788997173\n",
      "Current test accuracy = 0.8853\n",
      "Training Epoch 10\n",
      "Current train loss = 0.0017239151523758967\n",
      "Current train accuracy = 0.9185666666666666\n",
      "Current test loss = 0.0013087084002792835\n",
      "Current test accuracy = 0.885\n",
      "Training Epoch 11\n",
      "Current train loss = 0.0016390378203243016\n",
      "Current train accuracy = 0.9225\n",
      "Current test loss = 0.001325770651549101\n",
      "Current test accuracy = 0.8859\n",
      "Training Epoch 12\n",
      "Current train loss = 0.0015547379383196434\n",
      "Current train accuracy = 0.9269333333333334\n",
      "Current test loss = 0.0013927848502993583\n",
      "Current test accuracy = 0.8836\n",
      "Training Epoch 13\n",
      "Current train loss = 0.0014915583713601033\n",
      "Current train accuracy = 0.9292666666666667\n",
      "Current test loss = 0.0013761017367243766\n",
      "Current test accuracy = 0.8846\n",
      "Training Epoch 14\n",
      "Current train loss = 0.001427531841273109\n",
      "Current train accuracy = 0.9331833333333334\n",
      "Current test loss = 0.0013888925082981586\n",
      "Current test accuracy = 0.8837\n",
      "Training Epoch 15\n",
      "Current train loss = 0.0013822813818231226\n",
      "Current train accuracy = 0.9351833333333334\n",
      "Current test loss = 0.0013676023397594691\n",
      "Current test accuracy = 0.887\n",
      "Training Epoch 16\n",
      "Current train loss = 0.001352395838064452\n",
      "Current train accuracy = 0.9368166666666666\n",
      "Current test loss = 0.0013636141661554574\n",
      "Current test accuracy = 0.8889\n",
      "Training Epoch 17\n",
      "Current train loss = 0.0013182140978674093\n",
      "Current train accuracy = 0.9374666666666667\n",
      "Current test loss = 0.0013056740555912256\n",
      "Current test accuracy = 0.8916\n",
      "Training Epoch 18\n",
      "Current train loss = 0.0012545853597422441\n",
      "Current train accuracy = 0.9403\n",
      "Current test loss = 0.0013405652433633804\n",
      "Current test accuracy = 0.8901\n",
      "Training Epoch 19\n",
      "Current train loss = 0.0011894450673212607\n",
      "Current train accuracy = 0.9429666666666666\n",
      "Current test loss = 0.0013848652821034193\n",
      "Current test accuracy = 0.8905\n",
      "Training Epoch 20\n",
      "Current train loss = 0.0011542352048059304\n",
      "Current train accuracy = 0.9448166666666666\n",
      "Current test loss = 0.0014412962175905705\n",
      "Current test accuracy = 0.8873\n",
      "Training Epoch 21\n",
      "Current train loss = 0.0011391471482813359\n",
      "Current train accuracy = 0.9439333333333333\n",
      "Current test loss = 0.0014337853655219078\n",
      "Current test accuracy = 0.8875\n",
      "Training Epoch 22\n",
      "Current train loss = 0.0010884584187840422\n",
      "Current train accuracy = 0.9471166666666667\n",
      "Current test loss = 0.0015309151403605937\n",
      "Current test accuracy = 0.8854\n",
      "Training Epoch 23\n",
      "Current train loss = 0.001046541236465176\n",
      "Current train accuracy = 0.9484833333333333\n",
      "Current test loss = 0.00155544363707304\n",
      "Current test accuracy = 0.8848\n",
      "Training Epoch 24\n",
      "Current train loss = 0.0009924197047327956\n",
      "Current train accuracy = 0.9519166666666666\n",
      "Current test loss = 0.0016751588061451911\n",
      "Current test accuracy = 0.8825\n",
      "Training Epoch 25\n",
      "Current train loss = 0.0009632114786033829\n",
      "Current train accuracy = 0.9526333333333333\n",
      "Current test loss = 0.0017888986051082612\n",
      "Current test accuracy = 0.8828\n",
      "Training Epoch 26\n",
      "Current train loss = 0.0009497966617966692\n",
      "Current train accuracy = 0.9543833333333334\n",
      "Current test loss = 0.001724775417149067\n",
      "Current test accuracy = 0.8802\n",
      "Training Epoch 27\n",
      "Current train loss = 0.0008787572785901527\n",
      "Current train accuracy = 0.9570333333333333\n",
      "Current test loss = 0.0018186863094568253\n",
      "Current test accuracy = 0.88\n",
      "Training Epoch 28\n",
      "Current train loss = 0.0008469481886985401\n",
      "Current train accuracy = 0.9581666666666667\n",
      "Current test loss = 0.0018621043741703033\n",
      "Current test accuracy = 0.881\n",
      "Training Epoch 29\n",
      "Current train loss = 0.0008290860960880915\n",
      "Current train accuracy = 0.95935\n",
      "Current test loss = 0.0018757451631128787\n",
      "Current test accuracy = 0.883\n",
      "Training Epoch 30\n",
      "Current train loss = 0.0008436694340469937\n",
      "Current train accuracy = 0.9586166666666667\n",
      "Current test loss = 0.0019413168117403984\n",
      "Current test accuracy = 0.8851\n",
      "Training Epoch 31\n",
      "Current train loss = 0.0008355120559222996\n",
      "Current train accuracy = 0.95815\n",
      "Current test loss = 0.001744241502135992\n",
      "Current test accuracy = 0.889\n",
      "Training Epoch 32\n",
      "Current train loss = 0.0007886246221450468\n",
      "Current train accuracy = 0.9608\n",
      "Current test loss = 0.0019409248949959874\n",
      "Current test accuracy = 0.883\n",
      "Training Epoch 33\n",
      "Current train loss = 0.0007559105188896259\n",
      "Current train accuracy = 0.9614166666666667\n",
      "Current test loss = 0.0018865568270906806\n",
      "Current test accuracy = 0.8854\n",
      "Training Epoch 34\n",
      "Current train loss = 0.0007587753985387584\n",
      "Current train accuracy = 0.9619\n",
      "Current test loss = 0.002045042716152966\n",
      "Current test accuracy = 0.8833\n",
      "Training Epoch 35\n",
      "Current train loss = 0.0007058126343879848\n",
      "Current train accuracy = 0.9647666666666667\n",
      "Current test loss = 0.0019426773474551736\n",
      "Current test accuracy = 0.889\n",
      "Training Epoch 36\n",
      "Current train loss = 0.0006666428450184564\n",
      "Current train accuracy = 0.9666166666666667\n",
      "Current test loss = 0.002012431029509753\n",
      "Current test accuracy = 0.8881\n",
      "Training Epoch 37\n",
      "Current train loss = 0.0006611952589669575\n",
      "Current train accuracy = 0.96665\n",
      "Current test loss = 0.0021796881111338733\n",
      "Current test accuracy = 0.8814\n",
      "Training Epoch 38\n",
      "Current train loss = 0.0006280635441110159\n",
      "Current train accuracy = 0.96765\n",
      "Current test loss = 0.0020976946372073145\n",
      "Current test accuracy = 0.8805\n",
      "Training Epoch 39\n",
      "Current train loss = 0.0006229309925809502\n",
      "Current train accuracy = 0.9684166666666667\n",
      "Current test loss = 0.002231776718702167\n",
      "Current test accuracy = 0.8832\n",
      "Training Epoch 40\n",
      "Current train loss = 0.0006527897340711206\n",
      "Current train accuracy = 0.9672\n",
      "Current test loss = 0.0022261349774897097\n",
      "Current test accuracy = 0.8883\n",
      "Training Epoch 41\n",
      "Current train loss = 0.0006193859580283363\n",
      "Current train accuracy = 0.9689333333333333\n",
      "Current test loss = 0.0021257915182970465\n",
      "Current test accuracy = 0.8912\n",
      "Training Epoch 42\n",
      "Current train loss = 0.0005958046332933008\n",
      "Current train accuracy = 0.97015\n",
      "Current test loss = 0.002264150894805789\n",
      "Current test accuracy = 0.888\n",
      "Training Epoch 43\n",
      "Current train loss = 0.00052867228454755\n",
      "Current train accuracy = 0.9734833333333334\n",
      "Current test loss = 0.002253846036270261\n",
      "Current test accuracy = 0.8913\n",
      "Training Epoch 44\n",
      "Current train loss = 0.0005164572673772151\n",
      "Current train accuracy = 0.9746333333333334\n",
      "Current test loss = 0.002368418679072056\n",
      "Current test accuracy = 0.8885\n",
      "Training Epoch 45\n",
      "Current train loss = 0.0005219692749514555\n",
      "Current train accuracy = 0.9738166666666667\n",
      "Current test loss = 0.0023468764029908927\n",
      "Current test accuracy = 0.8854\n",
      "Training Epoch 46\n",
      "Current train loss = 0.0005251378980310013\n",
      "Current train accuracy = 0.9734333333333334\n",
      "Current test loss = 0.002411602129624225\n",
      "Current test accuracy = 0.8921\n",
      "Training Epoch 47\n",
      "Current train loss = 0.0004908491743107636\n",
      "Current train accuracy = 0.9752333333333333\n",
      "Current test loss = 0.0023653206842194777\n",
      "Current test accuracy = 0.8885\n",
      "Training Epoch 48\n",
      "Current train loss = 0.0004806921616972735\n",
      "Current train accuracy = 0.9762666666666666\n",
      "Current test loss = 0.0024945903966610786\n",
      "Current test accuracy = 0.8922\n",
      "Training Epoch 49\n",
      "Current train loss = 0.00045765967189023894\n",
      "Current train accuracy = 0.9772333333333333\n",
      "Current test loss = 0.002482144737552153\n",
      "Current test accuracy = 0.8928\n",
      "Training Epoch 50\n",
      "Current train loss = 0.00045573831799750525\n",
      "Current train accuracy = 0.9775\n",
      "Current test loss = 0.0024329636752896478\n",
      "Current test accuracy = 0.8914\n"
     ]
    },
    {
     "data": {
      "image/png": "[encoded data removed]",
      "text/plain": [
       "<Figure size 432x288 with 1 Axes>"
      ]
     },
     "metadata": {
      "needs_background": "light",
      "tags": []
     },
     "output_type": "display_data"
    },
    {
     "data": {
      "image/png": "[encoded data removed]",
      "text/plain": [
       "<Figure size 432x288 with 1 Axes>"
      ]
     },
     "metadata": {
      "needs_background": "light",
      "tags": []
     },
     "output_type": "display_data"
    }
   ],
   "source": [
    "model_over = OverfittingNeuralNetwork().to(device)\n",
    "opt = torch.optim.Adam(model_over.parameters(), lr=0.0003) # YOUR CODE HERE\n",
    "loss_func = nn.CrossEntropyLoss() # YOUR CODE HERE\n",
    "\n",
    "# Your experiments, come here\n",
    "epochs = 50\n",
    "\n",
    "train_loss_history, test_loss_history, train_ac_history, test_ac_history = train_model(epochs, model_over, device, train_loader, test_loader, loss_func, opt)\n",
    "\n",
    "grid = np.arange(1, epochs + 1)\n",
    "\n",
    "plt.plot(grid, test_ac_history, label='test accuracy')\n",
    "plt.plot(grid, train_ac_history, label='train accuracy')\n",
    "plt.xlabel(\"epoch\")\n",
    "plt.title(\"accuracy\")\n",
    "plt.show()\n",
    "\n",
    "plt.plot(grid, train_loss_history, label='train loss')\n",
    "plt.plot(grid, test_loss_history, label='test loss')\n",
    "plt.xlabel(\"epoch\")\n",
    "plt.legend()\n",
    "plt.show()\n"
   ]
  },
  {
   "cell_type": "markdown",
   "metadata": {
    "id": "DGIw2CXE0BAp"
   },
   "source": [
    "На графиках видно переобучение модели, график train loss уменьшается, а test loss начинает быстро расти"
   ]
  },
  {
   "cell_type": "markdown",
   "metadata": {
    "id": "CqOS6T2bN-SR"
   },
   "source": [
    "### Task 3: Fix it.\n",
    "Fix the overfitted network from the previous step (at least partially) by using regularization techniques (Dropout/Batchnorm/...) and demonstrate the results. "
   ]
  },
  {
   "cell_type": "code",
   "execution_count": 56,
   "metadata": {
    "id": "ZiK-4Td-N-SR"
   },
   "outputs": [],
   "source": [
    "class FixedNeuralNetwork(nn.Module):\n",
    "    def __init__(self, input_shape=28*28, num_classes=10, input_channels=1):\n",
    "        super(self.__class__, self).__init__()\n",
    "        self.model = nn.Sequential(\n",
    "            nn.Flatten(), # This layer converts image into a vector to use Linear layers afterwards\n",
    "            # Your network structure comes here\n",
    "            nn.Linear(input_shape, 28*28*2),\n",
    "            nn.BatchNorm1d(28*28*2),\n",
    "            nn.Dropout(0.8),\n",
    "            nn.ReLU(),\n",
    "            nn.Linear(28*28*2, 512),\n",
    "            nn.Dropout(0.8),\n",
    "            nn.Tanh(),\n",
    "            nn.Linear(512, 256),\n",
    "            nn.BatchNorm1d(256),\n",
    "            nn.ReLU(),\n",
    "            nn.Dropout(0.8),\n",
    "            nn.Linear(256, 100),\n",
    "            nn.Dropout(0.8),\n",
    "            nn.ReLU(),\n",
    "            nn.Linear(100, num_classes)\n",
    "        )\n",
    "        \n",
    "    def forward(self, inp):       \n",
    "        out = self.model(inp)\n",
    "        return out"
   ]
  },
  {
   "cell_type": "code",
   "execution_count": 57,
   "metadata": {
    "colab": {
     "base_uri": "https://localhost:8080/"
    },
    "id": "IUwgkqy0N-SR",
    "outputId": "74800006-1017-4596-e158-4144ece6c2c6"
   },
   "outputs": [
    {
     "name": "stdout",
     "output_type": "stream",
     "text": [
      "----------------------------------------------------------------\n",
      "        Layer (type)               Output Shape         Param #\n",
      "================================================================\n",
      "           Flatten-1                  [-1, 784]               0\n",
      "            Linear-2                 [-1, 1568]       1,230,880\n",
      "       BatchNorm1d-3                 [-1, 1568]           3,136\n",
      "           Dropout-4                 [-1, 1568]               0\n",
      "              ReLU-5                 [-1, 1568]               0\n",
      "            Linear-6                  [-1, 512]         803,328\n",
      "           Dropout-7                  [-1, 512]               0\n",
      "              Tanh-8                  [-1, 512]               0\n",
      "            Linear-9                  [-1, 256]         131,328\n",
      "      BatchNorm1d-10                  [-1, 256]             512\n",
      "             ReLU-11                  [-1, 256]               0\n",
      "          Dropout-12                  [-1, 256]               0\n",
      "           Linear-13                  [-1, 100]          25,700\n",
      "          Dropout-14                  [-1, 100]               0\n",
      "             ReLU-15                  [-1, 100]               0\n",
      "           Linear-16                   [-1, 10]           1,010\n",
      "================================================================\n",
      "Total params: 2,195,894\n",
      "Trainable params: 2,195,894\n",
      "Non-trainable params: 0\n",
      "----------------------------------------------------------------\n",
      "Input size (MB): 0.00\n",
      "Forward/backward pass size (MB): 0.08\n",
      "Params size (MB): 8.38\n",
      "Estimated Total Size (MB): 8.46\n",
      "----------------------------------------------------------------\n"
     ]
    }
   ],
   "source": [
    "torchsummary.summary(FixedNeuralNetwork().to(device), (28*28,))"
   ]
  },
  {
   "cell_type": "code",
   "execution_count": 61,
   "metadata": {
    "colab": {
     "base_uri": "https://localhost:8080/",
     "height": 1000
    },
    "id": "e-aVcPIoN-SR",
    "outputId": "468271c6-7a46-4865-8700-39a9c4f6df56"
   },
   "outputs": [
    {
     "name": "stdout",
     "output_type": "stream",
     "text": [
      "Training Epoch 1\n",
      "Current train loss = 0.01591825206875801\n",
      "Current train accuracy = 0.2212\n",
      "Current test loss = 0.004398730570077896\n",
      "Current test accuracy = 0.5366\n",
      "Training Epoch 2\n",
      "Current train loss = 0.009517483658591907\n",
      "Current train accuracy = 0.5043833333333333\n",
      "Current test loss = 0.003842064380645752\n",
      "Current test accuracy = 0.6418\n",
      "Training Epoch 3\n",
      "Current train loss = 0.007098115733265877\n",
      "Current train accuracy = 0.63585\n",
      "Current test loss = 0.003396231508255005\n",
      "Current test accuracy = 0.7379\n",
      "Training Epoch 4\n",
      "Current train loss = 0.005737675237655639\n",
      "Current train accuracy = 0.7250166666666666\n",
      "Current test loss = 0.003000459334254265\n",
      "Current test accuracy = 0.774\n",
      "Training Epoch 5\n",
      "Current train loss = 0.00477029663225015\n",
      "Current train accuracy = 0.7867333333333333\n",
      "Current test loss = 0.0028739332228899\n",
      "Current test accuracy = 0.7881\n",
      "Training Epoch 6\n",
      "Current train loss = 0.00395814641614755\n",
      "Current train accuracy = 0.8357333333333333\n",
      "Current test loss = 0.002562232083082199\n",
      "Current test accuracy = 0.8037\n",
      "Training Epoch 7\n",
      "Current train loss = 0.0034459928616881372\n",
      "Current train accuracy = 0.8634\n",
      "Current test loss = 0.002598703193664551\n",
      "Current test accuracy = 0.7973\n",
      "Training Epoch 8\n",
      "Current train loss = 0.0030793410206834473\n",
      "Current train accuracy = 0.8842\n",
      "Current test loss = 0.0024991635352373124\n",
      "Current test accuracy = 0.797\n",
      "Training Epoch 9\n",
      "Current train loss = 0.002849308384458224\n",
      "Current train accuracy = 0.8967\n",
      "Current test loss = 0.0026582422614097596\n",
      "Current test accuracy = 0.7959\n",
      "Training Epoch 10\n",
      "Current train loss = 0.0027113654330372812\n",
      "Current train accuracy = 0.9040666666666667\n",
      "Current test loss = 0.002384133833646774\n",
      "Current test accuracy = 0.8082\n",
      "Training Epoch 11\n",
      "Current train loss = 0.0025518065261344114\n",
      "Current train accuracy = 0.9127166666666666\n",
      "Current test loss = 0.0024120609402656554\n",
      "Current test accuracy = 0.7996\n",
      "Training Epoch 12\n",
      "Current train loss = 0.0024344823772708573\n",
      "Current train accuracy = 0.9177166666666666\n",
      "Current test loss = 0.002492754429578781\n",
      "Current test accuracy = 0.7962\n",
      "Training Epoch 13\n",
      "Current train loss = 0.002423120511819919\n",
      "Current train accuracy = 0.9185\n",
      "Current test loss = 0.0027382442682981492\n",
      "Current test accuracy = 0.7857\n",
      "Training Epoch 14\n",
      "Current train loss = 0.002345057131598393\n",
      "Current train accuracy = 0.922\n",
      "Current test loss = 0.002423087212443352\n",
      "Current test accuracy = 0.8003\n",
      "Training Epoch 15\n",
      "Current train loss = 0.0021862583868205547\n",
      "Current train accuracy = 0.9298833333333333\n",
      "Current test loss = 0.0027527627527713775\n",
      "Current test accuracy = 0.7931\n",
      "Training Epoch 16\n",
      "Current train loss = 0.002205198739965757\n",
      "Current train accuracy = 0.9291166666666667\n",
      "Current test loss = 0.002562311667203903\n",
      "Current test accuracy = 0.8038\n",
      "Training Epoch 17\n",
      "Current train loss = 0.00215070519198974\n",
      "Current train accuracy = 0.9322666666666667\n",
      "Current test loss = 0.0023326677784323694\n",
      "Current test accuracy = 0.8117\n",
      "Training Epoch 18\n",
      "Current train loss = 0.0021215507825215656\n",
      "Current train accuracy = 0.9326\n",
      "Current test loss = 0.002346281325817108\n",
      "Current test accuracy = 0.8084\n",
      "Training Epoch 19\n",
      "Current train loss = 0.0020640109546482565\n",
      "Current train accuracy = 0.9364166666666667\n",
      "Current test loss = 0.0024689550817012787\n",
      "Current test accuracy = 0.8042\n",
      "Training Epoch 20\n",
      "Current train loss = 0.0020003525006274383\n",
      "Current train accuracy = 0.93815\n",
      "Current test loss = 0.0025657096236944197\n",
      "Current test accuracy = 0.8027\n"
     ]
    },
    {
     "data": {
      "image/png": "[encoded data removed]",
      "text/plain": [
       "<Figure size 432x288 with 1 Axes>"
      ]
     },
     "metadata": {
      "needs_background": "light",
      "tags": []
     },
     "output_type": "display_data"
    },
    {
     "data": {
      "image/png": "[encoded data removed]",
      "text/plain": [
       "<Figure size 432x288 with 1 Axes>"
      ]
     },
     "metadata": {
      "needs_background": "light",
      "tags": []
     },
     "output_type": "display_data"
    }
   ],
   "source": [
    "model_fix = FixedNeuralNetwork().to(device)\n",
    "opt = torch.optim.Adam(model_fix.parameters(), lr=0.0003, weight_decay=0.008) # YOUR CODE HERE\n",
    "loss_func = nn.CrossEntropyLoss() # YOUR CODE HERE# YOUR CODE HERE\n",
    "\n",
    "# Your experiments, come here\n",
    "epochs = 20\n",
    "\n",
    "train_loss_history, test_loss_history, train_ac_history, test_ac_history = train_model(epochs, model_fix, device, train_loader, test_loader, loss_func, opt)\n",
    "\n",
    "grid = np.arange(1, epochs + 1)\n",
    "\n",
    "plt.plot(grid, test_ac_history, label='test accuracy')\n",
    "plt.plot(grid, train_ac_history, label='train accuracy')\n",
    "plt.xlabel(\"epoch\")\n",
    "plt.title(\"accuracy\")\n",
    "plt.show()\n",
    "\n",
    "plt.plot(grid, train_loss_history, label='train loss')\n",
    "plt.plot(grid, test_loss_history, label='test loss')\n",
    "plt.xlabel(\"epoch\")\n",
    "plt.legend()\n",
    "plt.show()"
   ]
  },
  {
   "cell_type": "markdown",
   "metadata": {
    "id": "dMui_uLJ7G0d"
   },
   "source": [
    "### Conclusions:\n",
    "_Write down small report with your conclusions and your ideas._\n",
    "\n",
    "Для борьбы с переобучением использовались Batch normalization и Dropout, но они не помогали. Дополнение L2 регулярицацией помогло.\n"
   ]
  },
  {
   "cell_type": "code",
   "execution_count": null,
   "metadata": {},
   "outputs": [],
   "source": []
  }
 ],
 "metadata": {
  "accelerator": "GPU",
  "colab": {
   "collapsed_sections": [],
   "name": "Overfit_it.ipynb",
   "provenance": []
  },
  "kernelspec": {
   "display_name": "Python 3",
   "language": "python",
   "name": "python3"
  },
  "language_info": {
   "codemirror_mode": {
    "name": "ipython",
    "version": 3
   },
   "file_extension": ".py",
   "mimetype": "text/x-python",
   "name": "python",
   "nbconvert_exporter": "python",
   "pygments_lexer": "ipython3",
   "version": "3.7.6"
  },
  "widgets": {
   "application/vnd.jupyter.widget-state+json": {
    "0b33792c95dd4aaf9597523594ebbe30": {
     "model_module": "@jupyter-widgets/controls",
     "model_name": "HTMLModel",
     "state": {
      "_dom_classes": [],
      "_model_module": "@jupyter-widgets/controls",
      "_model_module_version": "1.5.0",
      "_model_name": "HTMLModel",
      "_view_count": null,
      "_view_module": "@jupyter-widgets/controls",
      "_view_module_version": "1.5.0",
      "_view_name": "HTMLView",
      "description": "",
      "description_tooltip": null,
      "layout": "IPY_MODEL_2cbdaa614ba9401fb8608c96de13b41b",
      "placeholder": "​",
      "style": "IPY_MODEL_4405a811ea7841f19a4585fc361bdbfe",
      "value": " 26427392/? [00:20&lt;00:00, 8432053.79it/s]"
     }
    },
    "0ec452a834834c478a6b2e48c2da6ce6": {
     "model_module": "@jupyter-widgets/base",
     "model_name": "LayoutModel",
     "state": {
      "_model_module": "@jupyter-widgets/base",
      "_model_module_version": "1.2.0",
      "_model_name": "LayoutModel",
      "_view_count": null,
      "_view_module": "@jupyter-widgets/base",
      "_view_module_version": "1.2.0",
      "_view_name": "LayoutView",
      "align_content": null,
      "align_items": null,
      "align_self": null,
      "border": null,
      "bottom": null,
      "display": null,
      "flex": null,
      "flex_flow": null,
      "grid_area": null,
      "grid_auto_columns": null,
      "grid_auto_flow": null,
      "grid_auto_rows": null,
      "grid_column": null,
      "grid_gap": null,
      "grid_row": null,
      "grid_template_areas": null,
      "grid_template_columns": null,
      "grid_template_rows": null,
      "height": null,
      "justify_content": null,
      "justify_items": null,
      "left": null,
      "margin": null,
      "max_height": null,
      "max_width": null,
      "min_height": null,
      "min_width": null,
      "object_fit": null,
      "object_position": null,
      "order": null,
      "overflow": null,
      "overflow_x": null,
      "overflow_y": null,
      "padding": null,
      "right": null,
      "top": null,
      "visibility": null,
      "width": null
     }
    },
    "110eef5c10f24821ad56cf0bf275b434": {
     "model_module": "@jupyter-widgets/controls",
     "model_name": "FloatProgressModel",
     "state": {
      "_dom_classes": [],
      "_model_module": "@jupyter-widgets/controls",
      "_model_module_version": "1.5.0",
      "_model_name": "FloatProgressModel",
      "_view_count": null,
      "_view_module": "@jupyter-widgets/controls",
      "_view_module_version": "1.5.0",
      "_view_name": "ProgressView",
      "bar_style": "info",
      "description": "",
      "description_tooltip": null,
      "layout": "IPY_MODEL_bea71cd748c8496397dfde08d633066f",
      "max": 1,
      "min": 0,
      "orientation": "horizontal",
      "style": "IPY_MODEL_d264d5f99af540f386b186160e42abc3",
      "value": 1
     }
    },
    "210194f8955c44ca9896ccd6b9166b5d": {
     "model_module": "@jupyter-widgets/controls",
     "model_name": "HBoxModel",
     "state": {
      "_dom_classes": [],
      "_model_module": "@jupyter-widgets/controls",
      "_model_module_version": "1.5.0",
      "_model_name": "HBoxModel",
      "_view_count": null,
      "_view_module": "@jupyter-widgets/controls",
      "_view_module_version": "1.5.0",
      "_view_name": "HBoxView",
      "box_style": "",
      "children": [
       "IPY_MODEL_110eef5c10f24821ad56cf0bf275b434",
       "IPY_MODEL_41e225a4d4274cb7a4b6d45e698f97be"
      ],
      "layout": "IPY_MODEL_fb11d31444f147e6b7d0134dfe8a6f24"
     }
    },
    "298b6e5987e04c71a5e7037da598445c": {
     "model_module": "@jupyter-widgets/controls",
     "model_name": "HBoxModel",
     "state": {
      "_dom_classes": [],
      "_model_module": "@jupyter-widgets/controls",
      "_model_module_version": "1.5.0",
      "_model_name": "HBoxModel",
      "_view_count": null,
      "_view_module": "@jupyter-widgets/controls",
      "_view_module_version": "1.5.0",
      "_view_name": "HBoxView",
      "box_style": "",
      "children": [
       "IPY_MODEL_ebaca1051d0a47298d7c3dfbdd1e6be0",
       "IPY_MODEL_ea0daa500d094338a0af4ad2ed4d4155"
      ],
      "layout": "IPY_MODEL_f57a4a2481e54547abe204b1b3555a79"
     }
    },
    "2cbdaa614ba9401fb8608c96de13b41b": {
     "model_module": "@jupyter-widgets/base",
     "model_name": "LayoutModel",
     "state": {
      "_model_module": "@jupyter-widgets/base",
      "_model_module_version": "1.2.0",
      "_model_name": "LayoutModel",
      "_view_count": null,
      "_view_module": "@jupyter-widgets/base",
      "_view_module_version": "1.2.0",
      "_view_name": "LayoutView",
      "align_content": null,
      "align_items": null,
      "align_self": null,
      "border": null,
      "bottom": null,
      "display": null,
      "flex": null,
      "flex_flow": null,
      "grid_area": null,
      "grid_auto_columns": null,
      "grid_auto_flow": null,
      "grid_auto_rows": null,
      "grid_column": null,
      "grid_gap": null,
      "grid_row": null,
      "grid_template_areas": null,
      "grid_template_columns": null,
      "grid_template_rows": null,
      "height": null,
      "justify_content": null,
      "justify_items": null,
      "left": null,
      "margin": null,
      "max_height": null,
      "max_width": null,
      "min_height": null,
      "min_width": null,
      "object_fit": null,
      "object_position": null,
      "order": null,
      "overflow": null,
      "overflow_x": null,
      "overflow_y": null,
      "padding": null,
      "right": null,
      "top": null,
      "visibility": null,
      "width": null
     }
    },
    "2e857b624fc4474a8b2da990b2ff2b17": {
     "model_module": "@jupyter-widgets/controls",
     "model_name": "DescriptionStyleModel",
     "state": {
      "_model_module": "@jupyter-widgets/controls",
      "_model_module_version": "1.5.0",
      "_model_name": "DescriptionStyleModel",
      "_view_count": null,
      "_view_module": "@jupyter-widgets/base",
      "_view_module_version": "1.2.0",
      "_view_name": "StyleView",
      "description_width": ""
     }
    },
    "373d16750ab641c09f12e8d69b5bf9f7": {
     "model_module": "@jupyter-widgets/base",
     "model_name": "LayoutModel",
     "state": {
      "_model_module": "@jupyter-widgets/base",
      "_model_module_version": "1.2.0",
      "_model_name": "LayoutModel",
      "_view_count": null,
      "_view_module": "@jupyter-widgets/base",
      "_view_module_version": "1.2.0",
      "_view_name": "LayoutView",
      "align_content": null,
      "align_items": null,
      "align_self": null,
      "border": null,
      "bottom": null,
      "display": null,
      "flex": null,
      "flex_flow": null,
      "grid_area": null,
      "grid_auto_columns": null,
      "grid_auto_flow": null,
      "grid_auto_rows": null,
      "grid_column": null,
      "grid_gap": null,
      "grid_row": null,
      "grid_template_areas": null,
      "grid_template_columns": null,
      "grid_template_rows": null,
      "height": null,
      "justify_content": null,
      "justify_items": null,
      "left": null,
      "margin": null,
      "max_height": null,
      "max_width": null,
      "min_height": null,
      "min_width": null,
      "object_fit": null,
      "object_position": null,
      "order": null,
      "overflow": null,
      "overflow_x": null,
      "overflow_y": null,
      "padding": null,
      "right": null,
      "top": null,
      "visibility": null,
      "width": null
     }
    },
    "381edbc0145b4cd082715fde5abf9e81": {
     "model_module": "@jupyter-widgets/base",
     "model_name": "LayoutModel",
     "state": {
      "_model_module": "@jupyter-widgets/base",
      "_model_module_version": "1.2.0",
      "_model_name": "LayoutModel",
      "_view_count": null,
      "_view_module": "@jupyter-widgets/base",
      "_view_module_version": "1.2.0",
      "_view_name": "LayoutView",
      "align_content": null,
      "align_items": null,
      "align_self": null,
      "border": null,
      "bottom": null,
      "display": null,
      "flex": null,
      "flex_flow": null,
      "grid_area": null,
      "grid_auto_columns": null,
      "grid_auto_flow": null,
      "grid_auto_rows": null,
      "grid_column": null,
      "grid_gap": null,
      "grid_row": null,
      "grid_template_areas": null,
      "grid_template_columns": null,
      "grid_template_rows": null,
      "height": null,
      "justify_content": null,
      "justify_items": null,
      "left": null,
      "margin": null,
      "max_height": null,
      "max_width": null,
      "min_height": null,
      "min_width": null,
      "object_fit": null,
      "object_position": null,
      "order": null,
      "overflow": null,
      "overflow_x": null,
      "overflow_y": null,
      "padding": null,
      "right": null,
      "top": null,
      "visibility": null,
      "width": null
     }
    },
    "3eee50394fab48fbb587e9bd882342ba": {
     "model_module": "@jupyter-widgets/base",
     "model_name": "LayoutModel",
     "state": {
      "_model_module": "@jupyter-widgets/base",
      "_model_module_version": "1.2.0",
      "_model_name": "LayoutModel",
      "_view_count": null,
      "_view_module": "@jupyter-widgets/base",
      "_view_module_version": "1.2.0",
      "_view_name": "LayoutView",
      "align_content": null,
      "align_items": null,
      "align_self": null,
      "border": null,
      "bottom": null,
      "display": null,
      "flex": null,
      "flex_flow": null,
      "grid_area": null,
      "grid_auto_columns": null,
      "grid_auto_flow": null,
      "grid_auto_rows": null,
      "grid_column": null,
      "grid_gap": null,
      "grid_row": null,
      "grid_template_areas": null,
      "grid_template_columns": null,
      "grid_template_rows": null,
      "height": null,
      "justify_content": null,
      "justify_items": null,
      "left": null,
      "margin": null,
      "max_height": null,
      "max_width": null,
      "min_height": null,
      "min_width": null,
      "object_fit": null,
      "object_position": null,
      "order": null,
      "overflow": null,
      "overflow_x": null,
      "overflow_y": null,
      "padding": null,
      "right": null,
      "top": null,
      "visibility": null,
      "width": null
     }
    },
    "41d14a3eac7c454ea46b9092136ca015": {
     "model_module": "@jupyter-widgets/base",
     "model_name": "LayoutModel",
     "state": {
      "_model_module": "@jupyter-widgets/base",
      "_model_module_version": "1.2.0",
      "_model_name": "LayoutModel",
      "_view_count": null,
      "_view_module": "@jupyter-widgets/base",
      "_view_module_version": "1.2.0",
      "_view_name": "LayoutView",
      "align_content": null,
      "align_items": null,
      "align_self": null,
      "border": null,
      "bottom": null,
      "display": null,
      "flex": null,
      "flex_flow": null,
      "grid_area": null,
      "grid_auto_columns": null,
      "grid_auto_flow": null,
      "grid_auto_rows": null,
      "grid_column": null,
      "grid_gap": null,
      "grid_row": null,
      "grid_template_areas": null,
      "grid_template_columns": null,
      "grid_template_rows": null,
      "height": null,
      "justify_content": null,
      "justify_items": null,
      "left": null,
      "margin": null,
      "max_height": null,
      "max_width": null,
      "min_height": null,
      "min_width": null,
      "object_fit": null,
      "object_position": null,
      "order": null,
      "overflow": null,
      "overflow_x": null,
      "overflow_y": null,
      "padding": null,
      "right": null,
      "top": null,
      "visibility": null,
      "width": null
     }
    },
    "41e225a4d4274cb7a4b6d45e698f97be": {
     "model_module": "@jupyter-widgets/controls",
     "model_name": "HTMLModel",
     "state": {
      "_dom_classes": [],
      "_model_module": "@jupyter-widgets/controls",
      "_model_module_version": "1.5.0",
      "_model_name": "HTMLModel",
      "_view_count": null,
      "_view_module": "@jupyter-widgets/controls",
      "_view_module_version": "1.5.0",
      "_view_name": "HTMLView",
      "description": "",
      "description_tooltip": null,
      "layout": "IPY_MODEL_b884a827c58947ff953f2392a4fd4298",
      "placeholder": "​",
      "style": "IPY_MODEL_fb3ca83d29f347c7a76df4c6d512eeb9",
      "value": " 32768/? [00:16&lt;00:00, 111827.90it/s]"
     }
    },
    "4405a811ea7841f19a4585fc361bdbfe": {
     "model_module": "@jupyter-widgets/controls",
     "model_name": "DescriptionStyleModel",
     "state": {
      "_model_module": "@jupyter-widgets/controls",
      "_model_module_version": "1.5.0",
      "_model_name": "DescriptionStyleModel",
      "_view_count": null,
      "_view_module": "@jupyter-widgets/base",
      "_view_module_version": "1.2.0",
      "_view_name": "StyleView",
      "description_width": ""
     }
    },
    "51fc90114c4048c0a1ba5d81ab371f3c": {
     "model_module": "@jupyter-widgets/base",
     "model_name": "LayoutModel",
     "state": {
      "_model_module": "@jupyter-widgets/base",
      "_model_module_version": "1.2.0",
      "_model_name": "LayoutModel",
      "_view_count": null,
      "_view_module": "@jupyter-widgets/base",
      "_view_module_version": "1.2.0",
      "_view_name": "LayoutView",
      "align_content": null,
      "align_items": null,
      "align_self": null,
      "border": null,
      "bottom": null,
      "display": null,
      "flex": null,
      "flex_flow": null,
      "grid_area": null,
      "grid_auto_columns": null,
      "grid_auto_flow": null,
      "grid_auto_rows": null,
      "grid_column": null,
      "grid_gap": null,
      "grid_row": null,
      "grid_template_areas": null,
      "grid_template_columns": null,
      "grid_template_rows": null,
      "height": null,
      "justify_content": null,
      "justify_items": null,
      "left": null,
      "margin": null,
      "max_height": null,
      "max_width": null,
      "min_height": null,
      "min_width": null,
      "object_fit": null,
      "object_position": null,
      "order": null,
      "overflow": null,
      "overflow_x": null,
      "overflow_y": null,
      "padding": null,
      "right": null,
      "top": null,
      "visibility": null,
      "width": null
     }
    },
    "5e86b7aafa114689a6caed9339af8c95": {
     "model_module": "@jupyter-widgets/controls",
     "model_name": "HBoxModel",
     "state": {
      "_dom_classes": [],
      "_model_module": "@jupyter-widgets/controls",
      "_model_module_version": "1.5.0",
      "_model_name": "HBoxModel",
      "_view_count": null,
      "_view_module": "@jupyter-widgets/controls",
      "_view_module_version": "1.5.0",
      "_view_name": "HBoxView",
      "box_style": "",
      "children": [
       "IPY_MODEL_672288829831472ea39ef3910e908da3",
       "IPY_MODEL_0b33792c95dd4aaf9597523594ebbe30"
      ],
      "layout": "IPY_MODEL_0ec452a834834c478a6b2e48c2da6ce6"
     }
    },
    "672288829831472ea39ef3910e908da3": {
     "model_module": "@jupyter-widgets/controls",
     "model_name": "FloatProgressModel",
     "state": {
      "_dom_classes": [],
      "_model_module": "@jupyter-widgets/controls",
      "_model_module_version": "1.5.0",
      "_model_name": "FloatProgressModel",
      "_view_count": null,
      "_view_module": "@jupyter-widgets/controls",
      "_view_module_version": "1.5.0",
      "_view_name": "ProgressView",
      "bar_style": "info",
      "description": "",
      "description_tooltip": null,
      "layout": "IPY_MODEL_41d14a3eac7c454ea46b9092136ca015",
      "max": 1,
      "min": 0,
      "orientation": "horizontal",
      "style": "IPY_MODEL_856e88a25e614dfb82fcf46528e3e3a5",
      "value": 1
     }
    },
    "856e88a25e614dfb82fcf46528e3e3a5": {
     "model_module": "@jupyter-widgets/controls",
     "model_name": "ProgressStyleModel",
     "state": {
      "_model_module": "@jupyter-widgets/controls",
      "_model_module_version": "1.5.0",
      "_model_name": "ProgressStyleModel",
      "_view_count": null,
      "_view_module": "@jupyter-widgets/base",
      "_view_module_version": "1.2.0",
      "_view_name": "StyleView",
      "bar_color": null,
      "description_width": "initial"
     }
    },
    "95e153d7cd3f476abdea83dfb2b36a58": {
     "model_module": "@jupyter-widgets/controls",
     "model_name": "DescriptionStyleModel",
     "state": {
      "_model_module": "@jupyter-widgets/controls",
      "_model_module_version": "1.5.0",
      "_model_name": "DescriptionStyleModel",
      "_view_count": null,
      "_view_module": "@jupyter-widgets/base",
      "_view_module_version": "1.2.0",
      "_view_name": "StyleView",
      "description_width": ""
     }
    },
    "a2abcc2bac8840a086292ce8c08953ff": {
     "model_module": "@jupyter-widgets/controls",
     "model_name": "FloatProgressModel",
     "state": {
      "_dom_classes": [],
      "_model_module": "@jupyter-widgets/controls",
      "_model_module_version": "1.5.0",
      "_model_name": "FloatProgressModel",
      "_view_count": null,
      "_view_module": "@jupyter-widgets/controls",
      "_view_module_version": "1.5.0",
      "_view_name": "ProgressView",
      "bar_style": "success",
      "description": "",
      "description_tooltip": null,
      "layout": "IPY_MODEL_3eee50394fab48fbb587e9bd882342ba",
      "max": 1,
      "min": 0,
      "orientation": "horizontal",
      "style": "IPY_MODEL_e2c4fea149b345afa4a05801446f84e9",
      "value": 1
     }
    },
    "b2d93b8798404243862686e5f1594565": {
     "model_module": "@jupyter-widgets/base",
     "model_name": "LayoutModel",
     "state": {
      "_model_module": "@jupyter-widgets/base",
      "_model_module_version": "1.2.0",
      "_model_name": "LayoutModel",
      "_view_count": null,
      "_view_module": "@jupyter-widgets/base",
      "_view_module_version": "1.2.0",
      "_view_name": "LayoutView",
      "align_content": null,
      "align_items": null,
      "align_self": null,
      "border": null,
      "bottom": null,
      "display": null,
      "flex": null,
      "flex_flow": null,
      "grid_area": null,
      "grid_auto_columns": null,
      "grid_auto_flow": null,
      "grid_auto_rows": null,
      "grid_column": null,
      "grid_gap": null,
      "grid_row": null,
      "grid_template_areas": null,
      "grid_template_columns": null,
      "grid_template_rows": null,
      "height": null,
      "justify_content": null,
      "justify_items": null,
      "left": null,
      "margin": null,
      "max_height": null,
      "max_width": null,
      "min_height": null,
      "min_width": null,
      "object_fit": null,
      "object_position": null,
      "order": null,
      "overflow": null,
      "overflow_x": null,
      "overflow_y": null,
      "padding": null,
      "right": null,
      "top": null,
      "visibility": null,
      "width": null
     }
    },
    "b7433a149d2a43a6ab2924b73ab97387": {
     "model_module": "@jupyter-widgets/controls",
     "model_name": "ProgressStyleModel",
     "state": {
      "_model_module": "@jupyter-widgets/controls",
      "_model_module_version": "1.5.0",
      "_model_name": "ProgressStyleModel",
      "_view_count": null,
      "_view_module": "@jupyter-widgets/base",
      "_view_module_version": "1.2.0",
      "_view_name": "StyleView",
      "bar_color": null,
      "description_width": "initial"
     }
    },
    "b884a827c58947ff953f2392a4fd4298": {
     "model_module": "@jupyter-widgets/base",
     "model_name": "LayoutModel",
     "state": {
      "_model_module": "@jupyter-widgets/base",
      "_model_module_version": "1.2.0",
      "_model_name": "LayoutModel",
      "_view_count": null,
      "_view_module": "@jupyter-widgets/base",
      "_view_module_version": "1.2.0",
      "_view_name": "LayoutView",
      "align_content": null,
      "align_items": null,
      "align_self": null,
      "border": null,
      "bottom": null,
      "display": null,
      "flex": null,
      "flex_flow": null,
      "grid_area": null,
      "grid_auto_columns": null,
      "grid_auto_flow": null,
      "grid_auto_rows": null,
      "grid_column": null,
      "grid_gap": null,
      "grid_row": null,
      "grid_template_areas": null,
      "grid_template_columns": null,
      "grid_template_rows": null,
      "height": null,
      "justify_content": null,
      "justify_items": null,
      "left": null,
      "margin": null,
      "max_height": null,
      "max_width": null,
      "min_height": null,
      "min_width": null,
      "object_fit": null,
      "object_position": null,
      "order": null,
      "overflow": null,
      "overflow_x": null,
      "overflow_y": null,
      "padding": null,
      "right": null,
      "top": null,
      "visibility": null,
      "width": null
     }
    },
    "bea71cd748c8496397dfde08d633066f": {
     "model_module": "@jupyter-widgets/base",
     "model_name": "LayoutModel",
     "state": {
      "_model_module": "@jupyter-widgets/base",
      "_model_module_version": "1.2.0",
      "_model_name": "LayoutModel",
      "_view_count": null,
      "_view_module": "@jupyter-widgets/base",
      "_view_module_version": "1.2.0",
      "_view_name": "LayoutView",
      "align_content": null,
      "align_items": null,
      "align_self": null,
      "border": null,
      "bottom": null,
      "display": null,
      "flex": null,
      "flex_flow": null,
      "grid_area": null,
      "grid_auto_columns": null,
      "grid_auto_flow": null,
      "grid_auto_rows": null,
      "grid_column": null,
      "grid_gap": null,
      "grid_row": null,
      "grid_template_areas": null,
      "grid_template_columns": null,
      "grid_template_rows": null,
      "height": null,
      "justify_content": null,
      "justify_items": null,
      "left": null,
      "margin": null,
      "max_height": null,
      "max_width": null,
      "min_height": null,
      "min_width": null,
      "object_fit": null,
      "object_position": null,
      "order": null,
      "overflow": null,
      "overflow_x": null,
      "overflow_y": null,
      "padding": null,
      "right": null,
      "top": null,
      "visibility": null,
      "width": null
     }
    },
    "d264d5f99af540f386b186160e42abc3": {
     "model_module": "@jupyter-widgets/controls",
     "model_name": "ProgressStyleModel",
     "state": {
      "_model_module": "@jupyter-widgets/controls",
      "_model_module_version": "1.5.0",
      "_model_name": "ProgressStyleModel",
      "_view_count": null,
      "_view_module": "@jupyter-widgets/base",
      "_view_module_version": "1.2.0",
      "_view_name": "StyleView",
      "bar_color": null,
      "description_width": "initial"
     }
    },
    "e226848672e7404db6368663c448f8fe": {
     "model_module": "@jupyter-widgets/controls",
     "model_name": "HTMLModel",
     "state": {
      "_dom_classes": [],
      "_model_module": "@jupyter-widgets/controls",
      "_model_module_version": "1.5.0",
      "_model_name": "HTMLModel",
      "_view_count": null,
      "_view_module": "@jupyter-widgets/controls",
      "_view_module_version": "1.5.0",
      "_view_name": "HTMLView",
      "description": "",
      "description_tooltip": null,
      "layout": "IPY_MODEL_373d16750ab641c09f12e8d69b5bf9f7",
      "placeholder": "​",
      "style": "IPY_MODEL_2e857b624fc4474a8b2da990b2ff2b17",
      "value": " 4423680/? [00:04&lt;00:00, 923226.70it/s]"
     }
    },
    "e2c4fea149b345afa4a05801446f84e9": {
     "model_module": "@jupyter-widgets/controls",
     "model_name": "ProgressStyleModel",
     "state": {
      "_model_module": "@jupyter-widgets/controls",
      "_model_module_version": "1.5.0",
      "_model_name": "ProgressStyleModel",
      "_view_count": null,
      "_view_module": "@jupyter-widgets/base",
      "_view_module_version": "1.2.0",
      "_view_name": "StyleView",
      "bar_color": null,
      "description_width": "initial"
     }
    },
    "ea0daa500d094338a0af4ad2ed4d4155": {
     "model_module": "@jupyter-widgets/controls",
     "model_name": "HTMLModel",
     "state": {
      "_dom_classes": [],
      "_model_module": "@jupyter-widgets/controls",
      "_model_module_version": "1.5.0",
      "_model_name": "HTMLModel",
      "_view_count": null,
      "_view_module": "@jupyter-widgets/controls",
      "_view_module_version": "1.5.0",
      "_view_name": "HTMLView",
      "description": "",
      "description_tooltip": null,
      "layout": "IPY_MODEL_381edbc0145b4cd082715fde5abf9e81",
      "placeholder": "​",
      "style": "IPY_MODEL_95e153d7cd3f476abdea83dfb2b36a58",
      "value": " 8192/? [00:03&lt;00:00, 2562.51it/s]"
     }
    },
    "ebaca1051d0a47298d7c3dfbdd1e6be0": {
     "model_module": "@jupyter-widgets/controls",
     "model_name": "FloatProgressModel",
     "state": {
      "_dom_classes": [],
      "_model_module": "@jupyter-widgets/controls",
      "_model_module_version": "1.5.0",
      "_model_name": "FloatProgressModel",
      "_view_count": null,
      "_view_module": "@jupyter-widgets/controls",
      "_view_module_version": "1.5.0",
      "_view_name": "ProgressView",
      "bar_style": "success",
      "description": "",
      "description_tooltip": null,
      "layout": "IPY_MODEL_51fc90114c4048c0a1ba5d81ab371f3c",
      "max": 1,
      "min": 0,
      "orientation": "horizontal",
      "style": "IPY_MODEL_b7433a149d2a43a6ab2924b73ab97387",
      "value": 1
     }
    },
    "f57a4a2481e54547abe204b1b3555a79": {
     "model_module": "@jupyter-widgets/base",
     "model_name": "LayoutModel",
     "state": {
      "_model_module": "@jupyter-widgets/base",
      "_model_module_version": "1.2.0",
      "_model_name": "LayoutModel",
      "_view_count": null,
      "_view_module": "@jupyter-widgets/base",
      "_view_module_version": "1.2.0",
      "_view_name": "LayoutView",
      "align_content": null,
      "align_items": null,
      "align_self": null,
      "border": null,
      "bottom": null,
      "display": null,
      "flex": null,
      "flex_flow": null,
      "grid_area": null,
      "grid_auto_columns": null,
      "grid_auto_flow": null,
      "grid_auto_rows": null,
      "grid_column": null,
      "grid_gap": null,
      "grid_row": null,
      "grid_template_areas": null,
      "grid_template_columns": null,
      "grid_template_rows": null,
      "height": null,
      "justify_content": null,
      "justify_items": null,
      "left": null,
      "margin": null,
      "max_height": null,
      "max_width": null,
      "min_height": null,
      "min_width": null,
      "object_fit": null,
      "object_position": null,
      "order": null,
      "overflow": null,
      "overflow_x": null,
      "overflow_y": null,
      "padding": null,
      "right": null,
      "top": null,
      "visibility": null,
      "width": null
     }
    },
    "fb11d31444f147e6b7d0134dfe8a6f24": {
     "model_module": "@jupyter-widgets/base",
     "model_name": "LayoutModel",
     "state": {
      "_model_module": "@jupyter-widgets/base",
      "_model_module_version": "1.2.0",
      "_model_name": "LayoutModel",
      "_view_count": null,
      "_view_module": "@jupyter-widgets/base",
      "_view_module_version": "1.2.0",
      "_view_name": "LayoutView",
      "align_content": null,
      "align_items": null,
      "align_self": null,
      "border": null,
      "bottom": null,
      "display": null,
      "flex": null,
      "flex_flow": null,
      "grid_area": null,
      "grid_auto_columns": null,
      "grid_auto_flow": null,
      "grid_auto_rows": null,
      "grid_column": null,
      "grid_gap": null,
      "grid_row": null,
      "grid_template_areas": null,
      "grid_template_columns": null,
      "grid_template_rows": null,
      "height": null,
      "justify_content": null,
      "justify_items": null,
      "left": null,
      "margin": null,
      "max_height": null,
      "max_width": null,
      "min_height": null,
      "min_width": null,
      "object_fit": null,
      "object_position": null,
      "order": null,
      "overflow": null,
      "overflow_x": null,
      "overflow_y": null,
      "padding": null,
      "right": null,
      "top": null,
      "visibility": null,
      "width": null
     }
    },
    "fb3ca83d29f347c7a76df4c6d512eeb9": {
     "model_module": "@jupyter-widgets/controls",
     "model_name": "DescriptionStyleModel",
     "state": {
      "_model_module": "@jupyter-widgets/controls",
      "_model_module_version": "1.5.0",
      "_model_name": "DescriptionStyleModel",
      "_view_count": null,
      "_view_module": "@jupyter-widgets/base",
      "_view_module_version": "1.2.0",
      "_view_name": "StyleView",
      "description_width": ""
     }
    },
    "fdc1de6736a0436bbcf7101708180c3b": {
     "model_module": "@jupyter-widgets/controls",
     "model_name": "HBoxModel",
     "state": {
      "_dom_classes": [],
      "_model_module": "@jupyter-widgets/controls",
      "_model_module_version": "1.5.0",
      "_model_name": "HBoxModel",
      "_view_count": null,
      "_view_module": "@jupyter-widgets/controls",
      "_view_module_version": "1.5.0",
      "_view_name": "HBoxView",
      "box_style": "",
      "children": [
       "IPY_MODEL_a2abcc2bac8840a086292ce8c08953ff",
       "IPY_MODEL_e226848672e7404db6368663c448f8fe"
      ],
      "layout": "IPY_MODEL_b2d93b8798404243862686e5f1594565"
     }
    }
   }
  }
 },
 "nbformat": 4,
 "nbformat_minor": 1
}
