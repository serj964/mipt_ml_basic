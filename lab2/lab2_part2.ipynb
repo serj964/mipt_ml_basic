{
 "cells": [
  {
   "cell_type": "markdown",
   "metadata": {
    "id": "NFmOh482SyEF"
   },
   "source": [
    "## Lab 2\n",
    "### Part 2: Dealing with overfitting"
   ]
  },
  {
   "cell_type": "markdown",
   "metadata": {
    "id": "AjzAuO3oSvsI"
   },
   "source": [
    "Today we work with [Fashion-MNIST dataset](https://github.com/zalandoresearch/fashion-mnist) (*hint: it is available in `torchvision`*).\n",
    "\n",
    "Your goal for today:\n",
    "1. Train a FC (fully-connected) network that achieves >= 0.885 test accuracy.\n",
    "2. Cause considerable overfitting by modifying the network (e.g. increasing the number of network parameters and/or layers) and demonstrate in in the appropriate way (e.g. plot loss and accurasy on train and validation set w.r.t. network complexity).\n",
    "3. Try to deal with overfitting (at least partially) by using regularization techniques (Dropout/Batchnorm/...) and demonstrate the results.\n",
    "\n",
    "__Please, write a small report describing your ideas, tries and achieved results in the end of this file.__\n",
    "\n",
    "*Note*: Tasks 2 and 3 are interrelated, in task 3 your goal is to make the network from task 2 less prone to overfitting. Task 1 is independent from 2 and 3.\n",
    "\n",
    "*Note 2*: We recomment to use Google Colab or other machine with GPU acceleration."
   ]
  },
  {
   "cell_type": "code",
   "execution_count": 1,
   "metadata": {
    "id": "_KBld6VOSwhW"
   },
   "outputs": [],
   "source": [
    "import torch\n",
    "import torch.nn as nn\n",
    "import torchvision\n",
    "import torchvision.transforms as transforms\n",
    "import torchsummary\n",
    "from IPython.display import clear_output\n",
    "from matplotlib import pyplot as plt\n",
    "from matplotlib.pyplot import figure\n",
    "import numpy as np\n",
    "import os\n",
    "\n",
    "\n",
    "device = 'cuda:0' if torch.cuda.is_available() else 'cpu'"
   ]
  },
  {
   "cell_type": "code",
   "execution_count": 2,
   "metadata": {
    "colab": {
     "base_uri": "https://localhost:8080/"
    },
    "id": "EdLOG0XqS_g5",
    "outputId": "caa0b7c7-7e1f-46c7-a5ad-62a7d8697034"
   },
   "outputs": [
    {
     "name": "stdout",
     "output_type": "stream",
     "text": [
      "Directory fmnist already exists!\n"
     ]
    }
   ],
   "source": [
    "# Technical function\n",
    "def mkdir(path):\n",
    "    if not os.path.exists(root_path):\n",
    "        os.mkdir(root_path)\n",
    "        print('Directory', path, 'is created!')\n",
    "    else:\n",
    "        print('Directory', path, 'already exists!')\n",
    "        \n",
    "root_path = 'fmnist'\n",
    "mkdir(root_path)"
   ]
  },
  {
   "cell_type": "code",
   "execution_count": 3,
   "metadata": {
    "colab": {
     "base_uri": "https://localhost:8080/",
     "height": 369,
     "referenced_widgets": [
      "5e86b7aafa114689a6caed9339af8c95",
      "0ec452a834834c478a6b2e48c2da6ce6",
      "672288829831472ea39ef3910e908da3",
      "0b33792c95dd4aaf9597523594ebbe30",
      "856e88a25e614dfb82fcf46528e3e3a5",
      "41d14a3eac7c454ea46b9092136ca015",
      "4405a811ea7841f19a4585fc361bdbfe",
      "2cbdaa614ba9401fb8608c96de13b41b",
      "210194f8955c44ca9896ccd6b9166b5d",
      "fb11d31444f147e6b7d0134dfe8a6f24",
      "110eef5c10f24821ad56cf0bf275b434",
      "41e225a4d4274cb7a4b6d45e698f97be",
      "d264d5f99af540f386b186160e42abc3",
      "bea71cd748c8496397dfde08d633066f",
      "fb3ca83d29f347c7a76df4c6d512eeb9",
      "b884a827c58947ff953f2392a4fd4298",
      "fdc1de6736a0436bbcf7101708180c3b",
      "b2d93b8798404243862686e5f1594565",
      "a2abcc2bac8840a086292ce8c08953ff",
      "e226848672e7404db6368663c448f8fe",
      "e2c4fea149b345afa4a05801446f84e9",
      "3eee50394fab48fbb587e9bd882342ba",
      "2e857b624fc4474a8b2da990b2ff2b17",
      "373d16750ab641c09f12e8d69b5bf9f7",
      "298b6e5987e04c71a5e7037da598445c",
      "f57a4a2481e54547abe204b1b3555a79",
      "ebaca1051d0a47298d7c3dfbdd1e6be0",
      "ea0daa500d094338a0af4ad2ed4d4155",
      "b7433a149d2a43a6ab2924b73ab97387",
      "51fc90114c4048c0a1ba5d81ab371f3c",
      "95e153d7cd3f476abdea83dfb2b36a58",
      "381edbc0145b4cd082715fde5abf9e81"
     ]
    },
    "id": "qt6LE7XaTDT9",
    "outputId": "9567d3f0-1abf-4087-a5b9-6fdc0b161589"
   },
   "outputs": [],
   "source": [
    "download = True\n",
    "train_transform = transforms.ToTensor()\n",
    "test_transform = transforms.ToTensor()\n",
    "transforms.Compose((transforms.ToTensor()))\n",
    "\n",
    "\n",
    "fmnist_dataset_train = torchvision.datasets.FashionMNIST(root_path, \n",
    "                                                        train=True, \n",
    "                                                        transform=train_transform,\n",
    "                                                        target_transform=None,\n",
    "                                                        download=download)\n",
    "fmnist_dataset_test = torchvision.datasets.FashionMNIST(root_path, \n",
    "                                                       train=False, \n",
    "                                                       transform=test_transform,\n",
    "                                                       target_transform=None,\n",
    "                                                       download=download)"
   ]
  },
  {
   "cell_type": "code",
   "execution_count": 4,
   "metadata": {
    "id": "71YP0SPwTIxD"
   },
   "outputs": [],
   "source": [
    "train_loader = torch.utils.data.DataLoader(fmnist_dataset_train, batch_size=128, shuffle=True, num_workers=2)\n",
    "test_loader = torch.utils.data.DataLoader(fmnist_dataset_test, batch_size=256, shuffle=False, num_workers=2)"
   ]
  },
  {
   "cell_type": "code",
   "execution_count": 5,
   "metadata": {},
   "outputs": [
    {
     "data": {
      "text/plain": [
       "10000"
      ]
     },
     "execution_count": 5,
     "metadata": {},
     "output_type": "execute_result"
    }
   ],
   "source": [
    "len(fmnist_dataset_test)"
   ]
  },
  {
   "cell_type": "code",
   "execution_count": 6,
   "metadata": {},
   "outputs": [
    {
     "name": "stdout",
     "output_type": "stream",
     "text": [
      "torch.Size([128, 1, 28, 28])\n",
      "torch.Size([128])\n",
      "128\n"
     ]
    }
   ],
   "source": [
    "for img, label in train_loader:\n",
    "    print(img.shape)\n",
    "    #print(img)\n",
    "    print(label.shape)\n",
    "    print(label.size(0))\n",
    "    break"
   ]
  },
  {
   "cell_type": "markdown",
   "metadata": {
    "id": "b6OOOffHTfX5"
   },
   "source": [
    "### Task 1\n",
    "Train a network that achieves $\\geq 0.885$ test accuracy. It's fine to use only Linear (`nn.Linear`) layers and activations/dropout/batchnorm. Convolutional layers might be a great use, but we will meet them a bit later."
   ]
  },
  {
   "cell_type": "code",
   "execution_count": 7,
   "metadata": {
    "id": "ftpkTjxlTcFx"
   },
   "outputs": [],
   "source": [
    "class TinyNeuralNetwork(nn.Module):\n",
    "    def __init__(self, input_shape=28*28, num_classes=10, input_channels=1):\n",
    "        super(self.__class__, self).__init__()\n",
    "        self.model = nn.Sequential(\n",
    "            nn.Flatten(), # This layer converts image into a vector to use Linear layers afterwards\n",
    "            nn.Linear(input_shape, 256),\n",
    "            nn.Tanh(),\n",
    "            nn.Linear(256, 512),\n",
    "            nn.Tanh(),\n",
    "            nn.Linear(512, num_classes),\n",
    "        )\n",
    "        \n",
    "    def forward(self, inp):       \n",
    "        out = self.model(inp)\n",
    "        return out"
   ]
  },
  {
   "cell_type": "code",
   "execution_count": 8,
   "metadata": {
    "colab": {
     "base_uri": "https://localhost:8080/"
    },
    "id": "z7vP_w4-N-SQ",
    "outputId": "d9d73866-4da5-4d32-c32b-a11f06bb81fd"
   },
   "outputs": [
    {
     "name": "stdout",
     "output_type": "stream",
     "text": [
      "----------------------------------------------------------------\n",
      "        Layer (type)               Output Shape         Param #\n",
      "================================================================\n",
      "           Flatten-1                  [-1, 784]               0\n",
      "            Linear-2                  [-1, 256]         200,960\n",
      "              Tanh-3                  [-1, 256]               0\n",
      "            Linear-4                  [-1, 512]         131,584\n",
      "              Tanh-5                  [-1, 512]               0\n",
      "            Linear-6                   [-1, 10]           5,130\n",
      "================================================================\n",
      "Total params: 337,674\n",
      "Trainable params: 337,674\n",
      "Non-trainable params: 0\n",
      "----------------------------------------------------------------\n",
      "Input size (MB): 0.00\n",
      "Forward/backward pass size (MB): 0.02\n",
      "Params size (MB): 1.29\n",
      "Estimated Total Size (MB): 1.31\n",
      "----------------------------------------------------------------\n"
     ]
    }
   ],
   "source": [
    "torchsummary.summary(TinyNeuralNetwork().to(device), (28*28,))"
   ]
  },
  {
   "cell_type": "markdown",
   "metadata": {
    "id": "544PGKEnjPr5"
   },
   "source": [
    "Your experiments come here:"
   ]
  },
  {
   "cell_type": "code",
   "execution_count": 9,
   "metadata": {
    "id": "s834D2dqvJw1"
   },
   "outputs": [],
   "source": [
    "def train_epoch(model, device, train_loader, test_loader, criterion, optimizer): \n",
    "    torch.manual_seed(5)\n",
    "\n",
    "    model.train()\n",
    "\n",
    "    current_test_accuracy = 0\n",
    "    running_loss = 0\n",
    "    pred = 0\n",
    "    correct = 0\n",
    "    for data, label in train_loader:\n",
    "        data, label = data.to(device), label.to(device)\n",
    "\n",
    "        optimizer.zero_grad()\n",
    "        output = model(data)\n",
    "\n",
    "        loss = criterion(output, label)\n",
    "        loss.backward()\n",
    "        optimizer.step()\n",
    "\n",
    "        running_loss += loss.item()\n",
    "\n",
    "        pred = output.argmax(dim=1, keepdim=True)\n",
    "        correct += pred.eq(label.view_as(pred)).sum().item()\n",
    "    \n",
    "    current_loss = running_loss / len(train_loader.dataset)\n",
    "    print(f'Current train loss = {current_loss}')\n",
    "\n",
    "    current_train_accuracy = correct / len(train_loader.dataset)\n",
    "    print(f'Current train accuracy = {current_train_accuracy}')\n",
    "\n",
    "    model.eval()\n",
    "\n",
    "    current_test_loss = 0\n",
    "    current_test_accuracy = 0 \n",
    "\n",
    "    test_loss = 0\n",
    "    correct = 0   \n",
    "    running_loss = 0\n",
    "    with torch.no_grad():\n",
    "        for data, label in test_loader:\n",
    "            data, label = data.to(device), label.to(device)\n",
    "            output = model(data)\n",
    "\n",
    "            test_loss = criterion(output, label)\n",
    "            running_loss += test_loss.item()\n",
    "\n",
    "            pred = output.argmax(dim=1, keepdim=True)\n",
    "            correct += pred.eq(label.view_as(pred)).sum().item()\n",
    "\n",
    "    current_test_loss = running_loss / len(test_loader.dataset) \n",
    "    print(f'Current test loss = {current_test_loss}')\n",
    "\n",
    "    current_test_accuracy = correct / len(test_loader.dataset)\n",
    "    print(f'Current test accuracy = {current_test_accuracy}')\n",
    "\n",
    "    return current_loss, current_train_accuracy, current_test_loss, current_test_accuracy\n",
    "\n"
   ]
  },
  {
   "cell_type": "code",
   "execution_count": 10,
   "metadata": {
    "id": "P9wcU8iE7an6"
   },
   "outputs": [],
   "source": [
    "def train_model(epochs, model, device, train_loader, test_loader, loss_func, opt):\n",
    "    test_loss_history = list()\n",
    "    train_loss_history = list()\n",
    "    test_ac_history = list()\n",
    "    train_ac_history = list()\n",
    "\n",
    "    train_loss = 0\n",
    "    test_loss = 0\n",
    "    test_ac = 0\n",
    "    train_ac = 0\n",
    "    for epoch in range(1, epochs+1):\n",
    "        \n",
    "        print(f'Training Epoch {epoch}')\n",
    "        train_loss, train_ac, test_loss, test_ac = train_epoch(model, device, train_loader, test_loader, loss_func, opt)\n",
    "        \n",
    "\n",
    "        train_loss_history.append(train_loss)\n",
    "        test_loss_history.append(test_loss)\n",
    "        test_ac_history.append(test_ac)\n",
    "        train_ac_history.append(train_ac)\n",
    "\n",
    "    return train_loss_history, test_loss_history, train_ac_history, test_ac_history"
   ]
  },
  {
   "cell_type": "code",
   "execution_count": 11,
   "metadata": {
    "id": "wS6N8tsY6wXS"
   },
   "outputs": [],
   "source": [
    "model = TinyNeuralNetwork().to(device)\n",
    "opt = torch.optim.Adam(model.parameters(), lr=0.0003) # YOUR CODE HERE\n",
    "loss_func = nn.CrossEntropyLoss() # YOUR CODE HERE\n",
    "epochs = 30"
   ]
  },
  {
   "cell_type": "code",
   "execution_count": 12,
   "metadata": {
    "colab": {
     "base_uri": "https://localhost:8080/"
    },
    "id": "lH5Sqbqv8KSr",
    "outputId": "6c6d9686-1a31-4d22-c620-b419b70e6828"
   },
   "outputs": [
    {
     "name": "stdout",
     "output_type": "stream",
     "text": [
      "Training Epoch 1\n",
      "Current train loss = 0.004723517412443956\n",
      "Current train accuracy = 0.79045\n",
      "Current test loss = 0.0019249307334423065\n",
      "Current test accuracy = 0.8235\n",
      "Training Epoch 2\n",
      "Current train loss = 0.003233499656120936\n",
      "Current train accuracy = 0.8511333333333333\n",
      "Current test loss = 0.001774142238497734\n",
      "Current test accuracy = 0.838\n",
      "Training Epoch 3\n",
      "Current train loss = 0.0029774306101103625\n",
      "Current train accuracy = 0.8627833333333333\n",
      "Current test loss = 0.001687738673388958\n",
      "Current test accuracy = 0.8433\n",
      "Training Epoch 4\n",
      "Current train loss = 0.002810122769822677\n",
      "Current train accuracy = 0.8703833333333333\n",
      "Current test loss = 0.0016249188616871833\n",
      "Current test accuracy = 0.8505\n",
      "Training Epoch 5\n",
      "Current train loss = 0.0026813768977920214\n",
      "Current train accuracy = 0.8756666666666667\n",
      "Current test loss = 0.0015755114004015922\n",
      "Current test accuracy = 0.8545\n",
      "Training Epoch 6\n",
      "Current train loss = 0.0025752032237748306\n",
      "Current train accuracy = 0.8796166666666667\n",
      "Current test loss = 0.001536078742146492\n",
      "Current test accuracy = 0.8608\n",
      "Training Epoch 7\n",
      "Current train loss = 0.0024839702991147836\n",
      "Current train accuracy = 0.8839166666666667\n",
      "Current test loss = 0.0015027108371257782\n",
      "Current test accuracy = 0.8623\n",
      "Training Epoch 8\n",
      "Current train loss = 0.002403269439190626\n",
      "Current train accuracy = 0.8871333333333333\n",
      "Current test loss = 0.0014727502316236496\n",
      "Current test accuracy = 0.8662\n",
      "Training Epoch 9\n",
      "Current train loss = 0.0023299264294405777\n",
      "Current train accuracy = 0.8904666666666666\n",
      "Current test loss = 0.0014456969186663628\n",
      "Current test accuracy = 0.869\n",
      "Training Epoch 10\n",
      "Current train loss = 0.002261942564199368\n",
      "Current train accuracy = 0.8936833333333334\n",
      "Current test loss = 0.0014216986805200577\n",
      "Current test accuracy = 0.8716\n",
      "Training Epoch 11\n",
      "Current train loss = 0.0021982974072297413\n",
      "Current train accuracy = 0.8961166666666667\n",
      "Current test loss = 0.0014006207674741745\n",
      "Current test accuracy = 0.8729\n",
      "Training Epoch 12\n",
      "Current train loss = 0.002138375075906515\n",
      "Current train accuracy = 0.8983666666666666\n",
      "Current test loss = 0.0013822239324450493\n",
      "Current test accuracy = 0.8751\n",
      "Training Epoch 13\n",
      "Current train loss = 0.0020816658042371273\n",
      "Current train accuracy = 0.9009666666666667\n",
      "Current test loss = 0.001366361665725708\n",
      "Current test accuracy = 0.8764\n",
      "Training Epoch 14\n",
      "Current train loss = 0.002027703807502985\n",
      "Current train accuracy = 0.9037\n",
      "Current test loss = 0.0013528527826070786\n",
      "Current test accuracy = 0.8768\n",
      "Training Epoch 15\n",
      "Current train loss = 0.0019760694940884906\n",
      "Current train accuracy = 0.9061\n",
      "Current test loss = 0.0013413401111960412\n",
      "Current test accuracy = 0.8795\n",
      "Training Epoch 16\n",
      "Current train loss = 0.001926420493920644\n",
      "Current train accuracy = 0.90855\n",
      "Current test loss = 0.0013314508780837059\n",
      "Current test accuracy = 0.8802\n",
      "Training Epoch 17\n",
      "Current train loss = 0.0018785128522664308\n",
      "Current train accuracy = 0.9103333333333333\n",
      "Current test loss = 0.0013229811862111092\n",
      "Current test accuracy = 0.88\n",
      "Training Epoch 18\n",
      "Current train loss = 0.0018322203962753217\n",
      "Current train accuracy = 0.9128166666666667\n",
      "Current test loss = 0.0013159154981374742\n",
      "Current test accuracy = 0.8812\n",
      "Training Epoch 19\n",
      "Current train loss = 0.0017874827593564986\n",
      "Current train accuracy = 0.9151166666666667\n",
      "Current test loss = 0.0013104174703359604\n",
      "Current test accuracy = 0.8819\n",
      "Training Epoch 20\n",
      "Current train loss = 0.00174421784405907\n",
      "Current train accuracy = 0.91725\n",
      "Current test loss = 0.001306666710972786\n",
      "Current test accuracy = 0.8824\n",
      "Training Epoch 21\n",
      "Current train loss = 0.0017023517989863952\n",
      "Current train accuracy = 0.9192333333333333\n",
      "Current test loss = 0.0013045030549168586\n",
      "Current test accuracy = 0.8841\n",
      "Training Epoch 22\n",
      "Current train loss = 0.0016618344681958357\n",
      "Current train accuracy = 0.9216833333333333\n",
      "Current test loss = 0.0013036224499344826\n",
      "Current test accuracy = 0.884\n",
      "Training Epoch 23\n",
      "Current train loss = 0.0016226488288491965\n",
      "Current train accuracy = 0.9236666666666666\n",
      "Current test loss = 0.0013038294270634652\n",
      "Current test accuracy = 0.8843\n",
      "Training Epoch 24\n",
      "Current train loss = 0.0015847735702991487\n",
      "Current train accuracy = 0.9257\n",
      "Current test loss = 0.00130499417334795\n",
      "Current test accuracy = 0.8846\n",
      "Training Epoch 25\n",
      "Current train loss = 0.0015480889711529016\n",
      "Current train accuracy = 0.92765\n",
      "Current test loss = 0.0013070301830768586\n",
      "Current test accuracy = 0.8858\n",
      "Training Epoch 26\n",
      "Current train loss = 0.0015123640698691209\n",
      "Current train accuracy = 0.9296833333333333\n",
      "Current test loss = 0.0013098728477954865\n",
      "Current test accuracy = 0.8855\n",
      "Training Epoch 27\n",
      "Current train loss = 0.0014772723957896233\n",
      "Current train accuracy = 0.93115\n",
      "Current test loss = 0.0013135624572634696\n",
      "Current test accuracy = 0.8859\n",
      "Training Epoch 28\n",
      "Current train loss = 0.0014425337453683217\n",
      "Current train accuracy = 0.9326333333333333\n",
      "Current test loss = 0.001318280629813671\n",
      "Current test accuracy = 0.8861\n",
      "Training Epoch 29\n",
      "Current train loss = 0.001408092917750279\n",
      "Current train accuracy = 0.9343833333333333\n",
      "Current test loss = 0.0013242629662156104\n",
      "Current test accuracy = 0.8875\n",
      "Training Epoch 30\n",
      "Current train loss = 0.0013740091121445099\n",
      "Current train accuracy = 0.9360833333333334\n",
      "Current test loss = 0.001331727509200573\n",
      "Current test accuracy = 0.8881\n"
     ]
    }
   ],
   "source": [
    "train_loss_history, test_loss_history, train_ac_history, test_ac_history = train_model(epochs, model, device, train_loader, test_loader, loss_func, opt)"
   ]
  },
  {
   "cell_type": "code",
   "execution_count": null,
   "metadata": {
    "colab": {
     "base_uri": "https://localhost:8080/",
     "height": 557
    },
    "id": "-Y0ZwhKCcl8g",
    "outputId": "b2ec9b4b-46b5-44a5-aadf-8b0bcb69d87c"
   },
   "outputs": [],
   "source": [
    "grid = np.arange(1, epochs + 1)\n",
    "\n",
    "plt.plot(grid, test_ac_history, label='test accuracy')\n",
    "plt.plot(grid, train_ac_history, label='train accuracy')\n",
    "plt.xlabel(\"epoch\")\n",
    "plt.title(\"accuracy\")\n",
    "plt.show()\n",
    "\n",
    "plt.plot(grid, train_loss_history, label='train loss')\n",
    "plt.plot(grid, test_loss_history, label='test loss')\n",
    "plt.xlabel(\"epoch\")\n",
    "plt.legend()\n",
    "plt.show()\n"
   ]
  },
  {
   "cell_type": "code",
   "execution_count": null,
   "metadata": {
    "colab": {
     "base_uri": "https://localhost:8080/"
    },
    "id": "iwBO0jNIoFa7",
    "outputId": "e5cbc4e9-43a1-4825-9aaf-61190da0453b"
   },
   "outputs": [],
   "source": [
    "print(f'Test accuracy = {test_ac_history[-1]}')"
   ]
  },
  {
   "cell_type": "markdown",
   "metadata": {
    "id": "L7ISqkjmCPB1"
   },
   "source": [
    "### Task 2: Overfit it.\n",
    "Build a network that will overfit to this dataset. Demonstrate the overfitting in the appropriate way (e.g. plot loss and accurasy on train and test set w.r.t. network complexity).\n",
    "\n",
    "*Note:* you also might decrease the size of `train` dataset to enforce the overfitting and speed up the computations."
   ]
  },
  {
   "cell_type": "code",
   "execution_count": null,
   "metadata": {
    "id": "H12uAWiGBwJx"
   },
   "outputs": [],
   "source": [
    "class OverfittingNeuralNetwork(nn.Module):\n",
    "    def __init__(self, input_shape=28*28, num_classes=10, input_channels=1):\n",
    "        super(self.__class__, self).__init__()\n",
    "        self.model = nn.Sequential(\n",
    "            nn.Flatten(), # This layer converts image into a vector to use Linear layers afterwards\n",
    "            # Your network structure comes here\n",
    "            nn.Linear(input_shape, 28*28*2),\n",
    "            nn.ReLU(),\n",
    "            nn.Linear(28*28*2, 512),\n",
    "            nn.Tanh(),\n",
    "            nn.Linear(512, 256),\n",
    "            nn.ReLU(),\n",
    "            nn.Linear(256, 100),\n",
    "            nn.ReLU(),\n",
    "            nn.Linear(100, num_classes)\n",
    "        )\n",
    "        \n",
    "    def forward(self, inp):       \n",
    "        out = self.model(inp)\n",
    "        return out"
   ]
  },
  {
   "cell_type": "code",
   "execution_count": null,
   "metadata": {
    "colab": {
     "base_uri": "https://localhost:8080/"
    },
    "id": "JgXAKCpvCwqH",
    "outputId": "2760b2e6-8b3e-4548-e262-d212e99a36d2"
   },
   "outputs": [],
   "source": [
    "torchsummary.summary(OverfittingNeuralNetwork().to(device), (28*28,))"
   ]
  },
  {
   "cell_type": "code",
   "execution_count": null,
   "metadata": {
    "colab": {
     "base_uri": "https://localhost:8080/",
     "height": 1000
    },
    "id": "YPynK6aMN-SR",
    "outputId": "e2bc5d97-b358-4a6a-e55b-d3eb67efbae2"
   },
   "outputs": [],
   "source": [
    "model_over = OverfittingNeuralNetwork().to(device)\n",
    "opt = torch.optim.Adam(model_over.parameters(), lr=0.0003) # YOUR CODE HERE\n",
    "loss_func = nn.CrossEntropyLoss() # YOUR CODE HERE\n",
    "\n",
    "# Your experiments, come here\n",
    "epochs = 50\n",
    "\n",
    "train_loss_history, test_loss_history, train_ac_history, test_ac_history = train_model(epochs, model_over, device, train_loader, test_loader, loss_func, opt)\n",
    "\n",
    "grid = np.arange(1, epochs + 1)\n",
    "\n",
    "plt.plot(grid, test_ac_history, label='test accuracy')\n",
    "plt.plot(grid, train_ac_history, label='train accuracy')\n",
    "plt.xlabel(\"epoch\")\n",
    "plt.title(\"accuracy\")\n",
    "plt.show()\n",
    "\n",
    "plt.plot(grid, train_loss_history, label='train loss')\n",
    "plt.plot(grid, test_loss_history, label='test loss')\n",
    "plt.xlabel(\"epoch\")\n",
    "plt.legend()\n",
    "plt.show()\n"
   ]
  },
  {
   "cell_type": "markdown",
   "metadata": {
    "id": "DGIw2CXE0BAp"
   },
   "source": [
    "На графиках видно переобучение модели, график train loss уменьшается, а test loss начинает быстро расти"
   ]
  },
  {
   "cell_type": "markdown",
   "metadata": {
    "id": "CqOS6T2bN-SR"
   },
   "source": [
    "### Task 3: Fix it.\n",
    "Fix the overfitted network from the previous step (at least partially) by using regularization techniques (Dropout/Batchnorm/...) and demonstrate the results. "
   ]
  },
  {
   "cell_type": "code",
   "execution_count": null,
   "metadata": {
    "id": "ZiK-4Td-N-SR"
   },
   "outputs": [],
   "source": [
    "class FixedNeuralNetwork(nn.Module):\n",
    "    def __init__(self, input_shape=28*28, num_classes=10, input_channels=1):\n",
    "        super(self.__class__, self).__init__()\n",
    "        self.model = nn.Sequential(\n",
    "            nn.Flatten(), # This layer converts image into a vector to use Linear layers afterwards\n",
    "            # Your network structure comes here\n",
    "            nn.Linear(input_shape, 28*28*2),\n",
    "            nn.BatchNorm1d(28*28*2),\n",
    "            nn.Dropout(0.8),\n",
    "            nn.ReLU(),\n",
    "            nn.Linear(28*28*2, 512),\n",
    "            nn.Dropout(0.8),\n",
    "            nn.Tanh(),\n",
    "            nn.Linear(512, 256),\n",
    "            nn.BatchNorm1d(256),\n",
    "            nn.ReLU(),\n",
    "            nn.Dropout(0.8),\n",
    "            nn.Linear(256, 100),\n",
    "            nn.Dropout(0.8),\n",
    "            nn.ReLU(),\n",
    "            nn.Linear(100, num_classes)\n",
    "        )\n",
    "        \n",
    "    def forward(self, inp):       \n",
    "        out = self.model(inp)\n",
    "        return out"
   ]
  },
  {
   "cell_type": "code",
   "execution_count": null,
   "metadata": {
    "colab": {
     "base_uri": "https://localhost:8080/"
    },
    "id": "IUwgkqy0N-SR",
    "outputId": "74800006-1017-4596-e158-4144ece6c2c6"
   },
   "outputs": [],
   "source": [
    "torchsummary.summary(FixedNeuralNetwork().to(device), (28*28,))"
   ]
  },
  {
   "cell_type": "code",
   "execution_count": null,
   "metadata": {
    "colab": {
     "base_uri": "https://localhost:8080/",
     "height": 1000
    },
    "id": "e-aVcPIoN-SR",
    "outputId": "468271c6-7a46-4865-8700-39a9c4f6df56"
   },
   "outputs": [],
   "source": [
    "model_fix = FixedNeuralNetwork().to(device)\n",
    "opt = torch.optim.Adam(model_fix.parameters(), lr=0.0003, weight_decay=0.008) # YOUR CODE HERE\n",
    "loss_func = nn.CrossEntropyLoss() # YOUR CODE HERE# YOUR CODE HERE\n",
    "\n",
    "# Your experiments, come here\n",
    "epochs = 20\n",
    "\n",
    "train_loss_history, test_loss_history, train_ac_history, test_ac_history = train_model(epochs, model_fix, device, train_loader, test_loader, loss_func, opt)\n",
    "\n",
    "grid = np.arange(1, epochs + 1)\n",
    "\n",
    "plt.plot(grid, test_ac_history, label='test accuracy')\n",
    "plt.plot(grid, train_ac_history, label='train accuracy')\n",
    "plt.xlabel(\"epoch\")\n",
    "plt.title(\"accuracy\")\n",
    "plt.show()\n",
    "\n",
    "plt.plot(grid, train_loss_history, label='train loss')\n",
    "plt.plot(grid, test_loss_history, label='test loss')\n",
    "plt.xlabel(\"epoch\")\n",
    "plt.legend()\n",
    "plt.show()"
   ]
  },
  {
   "cell_type": "markdown",
   "metadata": {
    "id": "dMui_uLJ7G0d"
   },
   "source": [
    "### Conclusions:\n",
    "_Write down small report with your conclusions and your ideas._\n",
    "\n",
    "Для борьбы с переобучением использовались Batch normalization и Dropout, но они не помогали. Дополнение L2 регулярицацией помогло.\n"
   ]
  },
  {
   "cell_type": "code",
   "execution_count": null,
   "metadata": {},
   "outputs": [],
   "source": []
  }
 ],
 "metadata": {
  "accelerator": "GPU",
  "colab": {
   "collapsed_sections": [],
   "name": "Overfit_it.ipynb",
   "provenance": []
  },
  "kernelspec": {
   "display_name": "Python 3 (ipykernel)",
   "language": "python",
   "name": "python3"
  },
  "language_info": {
   "codemirror_mode": {
    "name": "ipython",
    "version": 3
   },
   "file_extension": ".py",
   "mimetype": "text/x-python",
   "name": "python",
   "nbconvert_exporter": "python",
   "pygments_lexer": "ipython3",
   "version": "3.9.7"
  },
  "widgets": {
   "application/vnd.jupyter.widget-state+json": {
    "0b33792c95dd4aaf9597523594ebbe30": {
     "model_module": "@jupyter-widgets/controls",
     "model_name": "HTMLModel",
     "state": {
      "_dom_classes": [],
      "_model_module": "@jupyter-widgets/controls",
      "_model_module_version": "1.5.0",
      "_model_name": "HTMLModel",
      "_view_count": null,
      "_view_module": "@jupyter-widgets/controls",
      "_view_module_version": "1.5.0",
      "_view_name": "HTMLView",
      "description": "",
      "description_tooltip": null,
      "layout": "IPY_MODEL_2cbdaa614ba9401fb8608c96de13b41b",
      "placeholder": "​",
      "style": "IPY_MODEL_4405a811ea7841f19a4585fc361bdbfe",
      "value": " 26427392/? [00:20&lt;00:00, 8432053.79it/s]"
     }
    },
    "0ec452a834834c478a6b2e48c2da6ce6": {
     "model_module": "@jupyter-widgets/base",
     "model_name": "LayoutModel",
     "state": {
      "_model_module": "@jupyter-widgets/base",
      "_model_module_version": "1.2.0",
      "_model_name": "LayoutModel",
      "_view_count": null,
      "_view_module": "@jupyter-widgets/base",
      "_view_module_version": "1.2.0",
      "_view_name": "LayoutView",
      "align_content": null,
      "align_items": null,
      "align_self": null,
      "border": null,
      "bottom": null,
      "display": null,
      "flex": null,
      "flex_flow": null,
      "grid_area": null,
      "grid_auto_columns": null,
      "grid_auto_flow": null,
      "grid_auto_rows": null,
      "grid_column": null,
      "grid_gap": null,
      "grid_row": null,
      "grid_template_areas": null,
      "grid_template_columns": null,
      "grid_template_rows": null,
      "height": null,
      "justify_content": null,
      "justify_items": null,
      "left": null,
      "margin": null,
      "max_height": null,
      "max_width": null,
      "min_height": null,
      "min_width": null,
      "object_fit": null,
      "object_position": null,
      "order": null,
      "overflow": null,
      "overflow_x": null,
      "overflow_y": null,
      "padding": null,
      "right": null,
      "top": null,
      "visibility": null,
      "width": null
     }
    },
    "110eef5c10f24821ad56cf0bf275b434": {
     "model_module": "@jupyter-widgets/controls",
     "model_name": "FloatProgressModel",
     "state": {
      "_dom_classes": [],
      "_model_module": "@jupyter-widgets/controls",
      "_model_module_version": "1.5.0",
      "_model_name": "FloatProgressModel",
      "_view_count": null,
      "_view_module": "@jupyter-widgets/controls",
      "_view_module_version": "1.5.0",
      "_view_name": "ProgressView",
      "bar_style": "info",
      "description": "",
      "description_tooltip": null,
      "layout": "IPY_MODEL_bea71cd748c8496397dfde08d633066f",
      "max": 1,
      "min": 0,
      "orientation": "horizontal",
      "style": "IPY_MODEL_d264d5f99af540f386b186160e42abc3",
      "value": 1
     }
    },
    "210194f8955c44ca9896ccd6b9166b5d": {
     "model_module": "@jupyter-widgets/controls",
     "model_name": "HBoxModel",
     "state": {
      "_dom_classes": [],
      "_model_module": "@jupyter-widgets/controls",
      "_model_module_version": "1.5.0",
      "_model_name": "HBoxModel",
      "_view_count": null,
      "_view_module": "@jupyter-widgets/controls",
      "_view_module_version": "1.5.0",
      "_view_name": "HBoxView",
      "box_style": "",
      "children": [
       "IPY_MODEL_110eef5c10f24821ad56cf0bf275b434",
       "IPY_MODEL_41e225a4d4274cb7a4b6d45e698f97be"
      ],
      "layout": "IPY_MODEL_fb11d31444f147e6b7d0134dfe8a6f24"
     }
    },
    "298b6e5987e04c71a5e7037da598445c": {
     "model_module": "@jupyter-widgets/controls",
     "model_name": "HBoxModel",
     "state": {
      "_dom_classes": [],
      "_model_module": "@jupyter-widgets/controls",
      "_model_module_version": "1.5.0",
      "_model_name": "HBoxModel",
      "_view_count": null,
      "_view_module": "@jupyter-widgets/controls",
      "_view_module_version": "1.5.0",
      "_view_name": "HBoxView",
      "box_style": "",
      "children": [
       "IPY_MODEL_ebaca1051d0a47298d7c3dfbdd1e6be0",
       "IPY_MODEL_ea0daa500d094338a0af4ad2ed4d4155"
      ],
      "layout": "IPY_MODEL_f57a4a2481e54547abe204b1b3555a79"
     }
    },
    "2cbdaa614ba9401fb8608c96de13b41b": {
     "model_module": "@jupyter-widgets/base",
     "model_name": "LayoutModel",
     "state": {
      "_model_module": "@jupyter-widgets/base",
      "_model_module_version": "1.2.0",
      "_model_name": "LayoutModel",
      "_view_count": null,
      "_view_module": "@jupyter-widgets/base",
      "_view_module_version": "1.2.0",
      "_view_name": "LayoutView",
      "align_content": null,
      "align_items": null,
      "align_self": null,
      "border": null,
      "bottom": null,
      "display": null,
      "flex": null,
      "flex_flow": null,
      "grid_area": null,
      "grid_auto_columns": null,
      "grid_auto_flow": null,
      "grid_auto_rows": null,
      "grid_column": null,
      "grid_gap": null,
      "grid_row": null,
      "grid_template_areas": null,
      "grid_template_columns": null,
      "grid_template_rows": null,
      "height": null,
      "justify_content": null,
      "justify_items": null,
      "left": null,
      "margin": null,
      "max_height": null,
      "max_width": null,
      "min_height": null,
      "min_width": null,
      "object_fit": null,
      "object_position": null,
      "order": null,
      "overflow": null,
      "overflow_x": null,
      "overflow_y": null,
      "padding": null,
      "right": null,
      "top": null,
      "visibility": null,
      "width": null
     }
    },
    "2e857b624fc4474a8b2da990b2ff2b17": {
     "model_module": "@jupyter-widgets/controls",
     "model_name": "DescriptionStyleModel",
     "state": {
      "_model_module": "@jupyter-widgets/controls",
      "_model_module_version": "1.5.0",
      "_model_name": "DescriptionStyleModel",
      "_view_count": null,
      "_view_module": "@jupyter-widgets/base",
      "_view_module_version": "1.2.0",
      "_view_name": "StyleView",
      "description_width": ""
     }
    },
    "373d16750ab641c09f12e8d69b5bf9f7": {
     "model_module": "@jupyter-widgets/base",
     "model_name": "LayoutModel",
     "state": {
      "_model_module": "@jupyter-widgets/base",
      "_model_module_version": "1.2.0",
      "_model_name": "LayoutModel",
      "_view_count": null,
      "_view_module": "@jupyter-widgets/base",
      "_view_module_version": "1.2.0",
      "_view_name": "LayoutView",
      "align_content": null,
      "align_items": null,
      "align_self": null,
      "border": null,
      "bottom": null,
      "display": null,
      "flex": null,
      "flex_flow": null,
      "grid_area": null,
      "grid_auto_columns": null,
      "grid_auto_flow": null,
      "grid_auto_rows": null,
      "grid_column": null,
      "grid_gap": null,
      "grid_row": null,
      "grid_template_areas": null,
      "grid_template_columns": null,
      "grid_template_rows": null,
      "height": null,
      "justify_content": null,
      "justify_items": null,
      "left": null,
      "margin": null,
      "max_height": null,
      "max_width": null,
      "min_height": null,
      "min_width": null,
      "object_fit": null,
      "object_position": null,
      "order": null,
      "overflow": null,
      "overflow_x": null,
      "overflow_y": null,
      "padding": null,
      "right": null,
      "top": null,
      "visibility": null,
      "width": null
     }
    },
    "381edbc0145b4cd082715fde5abf9e81": {
     "model_module": "@jupyter-widgets/base",
     "model_name": "LayoutModel",
     "state": {
      "_model_module": "@jupyter-widgets/base",
      "_model_module_version": "1.2.0",
      "_model_name": "LayoutModel",
      "_view_count": null,
      "_view_module": "@jupyter-widgets/base",
      "_view_module_version": "1.2.0",
      "_view_name": "LayoutView",
      "align_content": null,
      "align_items": null,
      "align_self": null,
      "border": null,
      "bottom": null,
      "display": null,
      "flex": null,
      "flex_flow": null,
      "grid_area": null,
      "grid_auto_columns": null,
      "grid_auto_flow": null,
      "grid_auto_rows": null,
      "grid_column": null,
      "grid_gap": null,
      "grid_row": null,
      "grid_template_areas": null,
      "grid_template_columns": null,
      "grid_template_rows": null,
      "height": null,
      "justify_content": null,
      "justify_items": null,
      "left": null,
      "margin": null,
      "max_height": null,
      "max_width": null,
      "min_height": null,
      "min_width": null,
      "object_fit": null,
      "object_position": null,
      "order": null,
      "overflow": null,
      "overflow_x": null,
      "overflow_y": null,
      "padding": null,
      "right": null,
      "top": null,
      "visibility": null,
      "width": null
     }
    },
    "3eee50394fab48fbb587e9bd882342ba": {
     "model_module": "@jupyter-widgets/base",
     "model_name": "LayoutModel",
     "state": {
      "_model_module": "@jupyter-widgets/base",
      "_model_module_version": "1.2.0",
      "_model_name": "LayoutModel",
      "_view_count": null,
      "_view_module": "@jupyter-widgets/base",
      "_view_module_version": "1.2.0",
      "_view_name": "LayoutView",
      "align_content": null,
      "align_items": null,
      "align_self": null,
      "border": null,
      "bottom": null,
      "display": null,
      "flex": null,
      "flex_flow": null,
      "grid_area": null,
      "grid_auto_columns": null,
      "grid_auto_flow": null,
      "grid_auto_rows": null,
      "grid_column": null,
      "grid_gap": null,
      "grid_row": null,
      "grid_template_areas": null,
      "grid_template_columns": null,
      "grid_template_rows": null,
      "height": null,
      "justify_content": null,
      "justify_items": null,
      "left": null,
      "margin": null,
      "max_height": null,
      "max_width": null,
      "min_height": null,
      "min_width": null,
      "object_fit": null,
      "object_position": null,
      "order": null,
      "overflow": null,
      "overflow_x": null,
      "overflow_y": null,
      "padding": null,
      "right": null,
      "top": null,
      "visibility": null,
      "width": null
     }
    },
    "41d14a3eac7c454ea46b9092136ca015": {
     "model_module": "@jupyter-widgets/base",
     "model_name": "LayoutModel",
     "state": {
      "_model_module": "@jupyter-widgets/base",
      "_model_module_version": "1.2.0",
      "_model_name": "LayoutModel",
      "_view_count": null,
      "_view_module": "@jupyter-widgets/base",
      "_view_module_version": "1.2.0",
      "_view_name": "LayoutView",
      "align_content": null,
      "align_items": null,
      "align_self": null,
      "border": null,
      "bottom": null,
      "display": null,
      "flex": null,
      "flex_flow": null,
      "grid_area": null,
      "grid_auto_columns": null,
      "grid_auto_flow": null,
      "grid_auto_rows": null,
      "grid_column": null,
      "grid_gap": null,
      "grid_row": null,
      "grid_template_areas": null,
      "grid_template_columns": null,
      "grid_template_rows": null,
      "height": null,
      "justify_content": null,
      "justify_items": null,
      "left": null,
      "margin": null,
      "max_height": null,
      "max_width": null,
      "min_height": null,
      "min_width": null,
      "object_fit": null,
      "object_position": null,
      "order": null,
      "overflow": null,
      "overflow_x": null,
      "overflow_y": null,
      "padding": null,
      "right": null,
      "top": null,
      "visibility": null,
      "width": null
     }
    },
    "41e225a4d4274cb7a4b6d45e698f97be": {
     "model_module": "@jupyter-widgets/controls",
     "model_name": "HTMLModel",
     "state": {
      "_dom_classes": [],
      "_model_module": "@jupyter-widgets/controls",
      "_model_module_version": "1.5.0",
      "_model_name": "HTMLModel",
      "_view_count": null,
      "_view_module": "@jupyter-widgets/controls",
      "_view_module_version": "1.5.0",
      "_view_name": "HTMLView",
      "description": "",
      "description_tooltip": null,
      "layout": "IPY_MODEL_b884a827c58947ff953f2392a4fd4298",
      "placeholder": "​",
      "style": "IPY_MODEL_fb3ca83d29f347c7a76df4c6d512eeb9",
      "value": " 32768/? [00:16&lt;00:00, 111827.90it/s]"
     }
    },
    "4405a811ea7841f19a4585fc361bdbfe": {
     "model_module": "@jupyter-widgets/controls",
     "model_name": "DescriptionStyleModel",
     "state": {
      "_model_module": "@jupyter-widgets/controls",
      "_model_module_version": "1.5.0",
      "_model_name": "DescriptionStyleModel",
      "_view_count": null,
      "_view_module": "@jupyter-widgets/base",
      "_view_module_version": "1.2.0",
      "_view_name": "StyleView",
      "description_width": ""
     }
    },
    "51fc90114c4048c0a1ba5d81ab371f3c": {
     "model_module": "@jupyter-widgets/base",
     "model_name": "LayoutModel",
     "state": {
      "_model_module": "@jupyter-widgets/base",
      "_model_module_version": "1.2.0",
      "_model_name": "LayoutModel",
      "_view_count": null,
      "_view_module": "@jupyter-widgets/base",
      "_view_module_version": "1.2.0",
      "_view_name": "LayoutView",
      "align_content": null,
      "align_items": null,
      "align_self": null,
      "border": null,
      "bottom": null,
      "display": null,
      "flex": null,
      "flex_flow": null,
      "grid_area": null,
      "grid_auto_columns": null,
      "grid_auto_flow": null,
      "grid_auto_rows": null,
      "grid_column": null,
      "grid_gap": null,
      "grid_row": null,
      "grid_template_areas": null,
      "grid_template_columns": null,
      "grid_template_rows": null,
      "height": null,
      "justify_content": null,
      "justify_items": null,
      "left": null,
      "margin": null,
      "max_height": null,
      "max_width": null,
      "min_height": null,
      "min_width": null,
      "object_fit": null,
      "object_position": null,
      "order": null,
      "overflow": null,
      "overflow_x": null,
      "overflow_y": null,
      "padding": null,
      "right": null,
      "top": null,
      "visibility": null,
      "width": null
     }
    },
    "5e86b7aafa114689a6caed9339af8c95": {
     "model_module": "@jupyter-widgets/controls",
     "model_name": "HBoxModel",
     "state": {
      "_dom_classes": [],
      "_model_module": "@jupyter-widgets/controls",
      "_model_module_version": "1.5.0",
      "_model_name": "HBoxModel",
      "_view_count": null,
      "_view_module": "@jupyter-widgets/controls",
      "_view_module_version": "1.5.0",
      "_view_name": "HBoxView",
      "box_style": "",
      "children": [
       "IPY_MODEL_672288829831472ea39ef3910e908da3",
       "IPY_MODEL_0b33792c95dd4aaf9597523594ebbe30"
      ],
      "layout": "IPY_MODEL_0ec452a834834c478a6b2e48c2da6ce6"
     }
    },
    "672288829831472ea39ef3910e908da3": {
     "model_module": "@jupyter-widgets/controls",
     "model_name": "FloatProgressModel",
     "state": {
      "_dom_classes": [],
      "_model_module": "@jupyter-widgets/controls",
      "_model_module_version": "1.5.0",
      "_model_name": "FloatProgressModel",
      "_view_count": null,
      "_view_module": "@jupyter-widgets/controls",
      "_view_module_version": "1.5.0",
      "_view_name": "ProgressView",
      "bar_style": "info",
      "description": "",
      "description_tooltip": null,
      "layout": "IPY_MODEL_41d14a3eac7c454ea46b9092136ca015",
      "max": 1,
      "min": 0,
      "orientation": "horizontal",
      "style": "IPY_MODEL_856e88a25e614dfb82fcf46528e3e3a5",
      "value": 1
     }
    },
    "856e88a25e614dfb82fcf46528e3e3a5": {
     "model_module": "@jupyter-widgets/controls",
     "model_name": "ProgressStyleModel",
     "state": {
      "_model_module": "@jupyter-widgets/controls",
      "_model_module_version": "1.5.0",
      "_model_name": "ProgressStyleModel",
      "_view_count": null,
      "_view_module": "@jupyter-widgets/base",
      "_view_module_version": "1.2.0",
      "_view_name": "StyleView",
      "bar_color": null,
      "description_width": "initial"
     }
    },
    "95e153d7cd3f476abdea83dfb2b36a58": {
     "model_module": "@jupyter-widgets/controls",
     "model_name": "DescriptionStyleModel",
     "state": {
      "_model_module": "@jupyter-widgets/controls",
      "_model_module_version": "1.5.0",
      "_model_name": "DescriptionStyleModel",
      "_view_count": null,
      "_view_module": "@jupyter-widgets/base",
      "_view_module_version": "1.2.0",
      "_view_name": "StyleView",
      "description_width": ""
     }
    },
    "a2abcc2bac8840a086292ce8c08953ff": {
     "model_module": "@jupyter-widgets/controls",
     "model_name": "FloatProgressModel",
     "state": {
      "_dom_classes": [],
      "_model_module": "@jupyter-widgets/controls",
      "_model_module_version": "1.5.0",
      "_model_name": "FloatProgressModel",
      "_view_count": null,
      "_view_module": "@jupyter-widgets/controls",
      "_view_module_version": "1.5.0",
      "_view_name": "ProgressView",
      "bar_style": "success",
      "description": "",
      "description_tooltip": null,
      "layout": "IPY_MODEL_3eee50394fab48fbb587e9bd882342ba",
      "max": 1,
      "min": 0,
      "orientation": "horizontal",
      "style": "IPY_MODEL_e2c4fea149b345afa4a05801446f84e9",
      "value": 1
     }
    },
    "b2d93b8798404243862686e5f1594565": {
     "model_module": "@jupyter-widgets/base",
     "model_name": "LayoutModel",
     "state": {
      "_model_module": "@jupyter-widgets/base",
      "_model_module_version": "1.2.0",
      "_model_name": "LayoutModel",
      "_view_count": null,
      "_view_module": "@jupyter-widgets/base",
      "_view_module_version": "1.2.0",
      "_view_name": "LayoutView",
      "align_content": null,
      "align_items": null,
      "align_self": null,
      "border": null,
      "bottom": null,
      "display": null,
      "flex": null,
      "flex_flow": null,
      "grid_area": null,
      "grid_auto_columns": null,
      "grid_auto_flow": null,
      "grid_auto_rows": null,
      "grid_column": null,
      "grid_gap": null,
      "grid_row": null,
      "grid_template_areas": null,
      "grid_template_columns": null,
      "grid_template_rows": null,
      "height": null,
      "justify_content": null,
      "justify_items": null,
      "left": null,
      "margin": null,
      "max_height": null,
      "max_width": null,
      "min_height": null,
      "min_width": null,
      "object_fit": null,
      "object_position": null,
      "order": null,
      "overflow": null,
      "overflow_x": null,
      "overflow_y": null,
      "padding": null,
      "right": null,
      "top": null,
      "visibility": null,
      "width": null
     }
    },
    "b7433a149d2a43a6ab2924b73ab97387": {
     "model_module": "@jupyter-widgets/controls",
     "model_name": "ProgressStyleModel",
     "state": {
      "_model_module": "@jupyter-widgets/controls",
      "_model_module_version": "1.5.0",
      "_model_name": "ProgressStyleModel",
      "_view_count": null,
      "_view_module": "@jupyter-widgets/base",
      "_view_module_version": "1.2.0",
      "_view_name": "StyleView",
      "bar_color": null,
      "description_width": "initial"
     }
    },
    "b884a827c58947ff953f2392a4fd4298": {
     "model_module": "@jupyter-widgets/base",
     "model_name": "LayoutModel",
     "state": {
      "_model_module": "@jupyter-widgets/base",
      "_model_module_version": "1.2.0",
      "_model_name": "LayoutModel",
      "_view_count": null,
      "_view_module": "@jupyter-widgets/base",
      "_view_module_version": "1.2.0",
      "_view_name": "LayoutView",
      "align_content": null,
      "align_items": null,
      "align_self": null,
      "border": null,
      "bottom": null,
      "display": null,
      "flex": null,
      "flex_flow": null,
      "grid_area": null,
      "grid_auto_columns": null,
      "grid_auto_flow": null,
      "grid_auto_rows": null,
      "grid_column": null,
      "grid_gap": null,
      "grid_row": null,
      "grid_template_areas": null,
      "grid_template_columns": null,
      "grid_template_rows": null,
      "height": null,
      "justify_content": null,
      "justify_items": null,
      "left": null,
      "margin": null,
      "max_height": null,
      "max_width": null,
      "min_height": null,
      "min_width": null,
      "object_fit": null,
      "object_position": null,
      "order": null,
      "overflow": null,
      "overflow_x": null,
      "overflow_y": null,
      "padding": null,
      "right": null,
      "top": null,
      "visibility": null,
      "width": null
     }
    },
    "bea71cd748c8496397dfde08d633066f": {
     "model_module": "@jupyter-widgets/base",
     "model_name": "LayoutModel",
     "state": {
      "_model_module": "@jupyter-widgets/base",
      "_model_module_version": "1.2.0",
      "_model_name": "LayoutModel",
      "_view_count": null,
      "_view_module": "@jupyter-widgets/base",
      "_view_module_version": "1.2.0",
      "_view_name": "LayoutView",
      "align_content": null,
      "align_items": null,
      "align_self": null,
      "border": null,
      "bottom": null,
      "display": null,
      "flex": null,
      "flex_flow": null,
      "grid_area": null,
      "grid_auto_columns": null,
      "grid_auto_flow": null,
      "grid_auto_rows": null,
      "grid_column": null,
      "grid_gap": null,
      "grid_row": null,
      "grid_template_areas": null,
      "grid_template_columns": null,
      "grid_template_rows": null,
      "height": null,
      "justify_content": null,
      "justify_items": null,
      "left": null,
      "margin": null,
      "max_height": null,
      "max_width": null,
      "min_height": null,
      "min_width": null,
      "object_fit": null,
      "object_position": null,
      "order": null,
      "overflow": null,
      "overflow_x": null,
      "overflow_y": null,
      "padding": null,
      "right": null,
      "top": null,
      "visibility": null,
      "width": null
     }
    },
    "d264d5f99af540f386b186160e42abc3": {
     "model_module": "@jupyter-widgets/controls",
     "model_name": "ProgressStyleModel",
     "state": {
      "_model_module": "@jupyter-widgets/controls",
      "_model_module_version": "1.5.0",
      "_model_name": "ProgressStyleModel",
      "_view_count": null,
      "_view_module": "@jupyter-widgets/base",
      "_view_module_version": "1.2.0",
      "_view_name": "StyleView",
      "bar_color": null,
      "description_width": "initial"
     }
    },
    "e226848672e7404db6368663c448f8fe": {
     "model_module": "@jupyter-widgets/controls",
     "model_name": "HTMLModel",
     "state": {
      "_dom_classes": [],
      "_model_module": "@jupyter-widgets/controls",
      "_model_module_version": "1.5.0",
      "_model_name": "HTMLModel",
      "_view_count": null,
      "_view_module": "@jupyter-widgets/controls",
      "_view_module_version": "1.5.0",
      "_view_name": "HTMLView",
      "description": "",
      "description_tooltip": null,
      "layout": "IPY_MODEL_373d16750ab641c09f12e8d69b5bf9f7",
      "placeholder": "​",
      "style": "IPY_MODEL_2e857b624fc4474a8b2da990b2ff2b17",
      "value": " 4423680/? [00:04&lt;00:00, 923226.70it/s]"
     }
    },
    "e2c4fea149b345afa4a05801446f84e9": {
     "model_module": "@jupyter-widgets/controls",
     "model_name": "ProgressStyleModel",
     "state": {
      "_model_module": "@jupyter-widgets/controls",
      "_model_module_version": "1.5.0",
      "_model_name": "ProgressStyleModel",
      "_view_count": null,
      "_view_module": "@jupyter-widgets/base",
      "_view_module_version": "1.2.0",
      "_view_name": "StyleView",
      "bar_color": null,
      "description_width": "initial"
     }
    },
    "ea0daa500d094338a0af4ad2ed4d4155": {
     "model_module": "@jupyter-widgets/controls",
     "model_name": "HTMLModel",
     "state": {
      "_dom_classes": [],
      "_model_module": "@jupyter-widgets/controls",
      "_model_module_version": "1.5.0",
      "_model_name": "HTMLModel",
      "_view_count": null,
      "_view_module": "@jupyter-widgets/controls",
      "_view_module_version": "1.5.0",
      "_view_name": "HTMLView",
      "description": "",
      "description_tooltip": null,
      "layout": "IPY_MODEL_381edbc0145b4cd082715fde5abf9e81",
      "placeholder": "​",
      "style": "IPY_MODEL_95e153d7cd3f476abdea83dfb2b36a58",
      "value": " 8192/? [00:03&lt;00:00, 2562.51it/s]"
     }
    },
    "ebaca1051d0a47298d7c3dfbdd1e6be0": {
     "model_module": "@jupyter-widgets/controls",
     "model_name": "FloatProgressModel",
     "state": {
      "_dom_classes": [],
      "_model_module": "@jupyter-widgets/controls",
      "_model_module_version": "1.5.0",
      "_model_name": "FloatProgressModel",
      "_view_count": null,
      "_view_module": "@jupyter-widgets/controls",
      "_view_module_version": "1.5.0",
      "_view_name": "ProgressView",
      "bar_style": "success",
      "description": "",
      "description_tooltip": null,
      "layout": "IPY_MODEL_51fc90114c4048c0a1ba5d81ab371f3c",
      "max": 1,
      "min": 0,
      "orientation": "horizontal",
      "style": "IPY_MODEL_b7433a149d2a43a6ab2924b73ab97387",
      "value": 1
     }
    },
    "f57a4a2481e54547abe204b1b3555a79": {
     "model_module": "@jupyter-widgets/base",
     "model_name": "LayoutModel",
     "state": {
      "_model_module": "@jupyter-widgets/base",
      "_model_module_version": "1.2.0",
      "_model_name": "LayoutModel",
      "_view_count": null,
      "_view_module": "@jupyter-widgets/base",
      "_view_module_version": "1.2.0",
      "_view_name": "LayoutView",
      "align_content": null,
      "align_items": null,
      "align_self": null,
      "border": null,
      "bottom": null,
      "display": null,
      "flex": null,
      "flex_flow": null,
      "grid_area": null,
      "grid_auto_columns": null,
      "grid_auto_flow": null,
      "grid_auto_rows": null,
      "grid_column": null,
      "grid_gap": null,
      "grid_row": null,
      "grid_template_areas": null,
      "grid_template_columns": null,
      "grid_template_rows": null,
      "height": null,
      "justify_content": null,
      "justify_items": null,
      "left": null,
      "margin": null,
      "max_height": null,
      "max_width": null,
      "min_height": null,
      "min_width": null,
      "object_fit": null,
      "object_position": null,
      "order": null,
      "overflow": null,
      "overflow_x": null,
      "overflow_y": null,
      "padding": null,
      "right": null,
      "top": null,
      "visibility": null,
      "width": null
     }
    },
    "fb11d31444f147e6b7d0134dfe8a6f24": {
     "model_module": "@jupyter-widgets/base",
     "model_name": "LayoutModel",
     "state": {
      "_model_module": "@jupyter-widgets/base",
      "_model_module_version": "1.2.0",
      "_model_name": "LayoutModel",
      "_view_count": null,
      "_view_module": "@jupyter-widgets/base",
      "_view_module_version": "1.2.0",
      "_view_name": "LayoutView",
      "align_content": null,
      "align_items": null,
      "align_self": null,
      "border": null,
      "bottom": null,
      "display": null,
      "flex": null,
      "flex_flow": null,
      "grid_area": null,
      "grid_auto_columns": null,
      "grid_auto_flow": null,
      "grid_auto_rows": null,
      "grid_column": null,
      "grid_gap": null,
      "grid_row": null,
      "grid_template_areas": null,
      "grid_template_columns": null,
      "grid_template_rows": null,
      "height": null,
      "justify_content": null,
      "justify_items": null,
      "left": null,
      "margin": null,
      "max_height": null,
      "max_width": null,
      "min_height": null,
      "min_width": null,
      "object_fit": null,
      "object_position": null,
      "order": null,
      "overflow": null,
      "overflow_x": null,
      "overflow_y": null,
      "padding": null,
      "right": null,
      "top": null,
      "visibility": null,
      "width": null
     }
    },
    "fb3ca83d29f347c7a76df4c6d512eeb9": {
     "model_module": "@jupyter-widgets/controls",
     "model_name": "DescriptionStyleModel",
     "state": {
      "_model_module": "@jupyter-widgets/controls",
      "_model_module_version": "1.5.0",
      "_model_name": "DescriptionStyleModel",
      "_view_count": null,
      "_view_module": "@jupyter-widgets/base",
      "_view_module_version": "1.2.0",
      "_view_name": "StyleView",
      "description_width": ""
     }
    },
    "fdc1de6736a0436bbcf7101708180c3b": {
     "model_module": "@jupyter-widgets/controls",
     "model_name": "HBoxModel",
     "state": {
      "_dom_classes": [],
      "_model_module": "@jupyter-widgets/controls",
      "_model_module_version": "1.5.0",
      "_model_name": "HBoxModel",
      "_view_count": null,
      "_view_module": "@jupyter-widgets/controls",
      "_view_module_version": "1.5.0",
      "_view_name": "HBoxView",
      "box_style": "",
      "children": [
       "IPY_MODEL_a2abcc2bac8840a086292ce8c08953ff",
       "IPY_MODEL_e226848672e7404db6368663c448f8fe"
      ],
      "layout": "IPY_MODEL_b2d93b8798404243862686e5f1594565"
     }
    }
   }
  }
 },
 "nbformat": 4,
 "nbformat_minor": 1
}
