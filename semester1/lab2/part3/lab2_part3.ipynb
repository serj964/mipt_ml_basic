{
  "cells": [
    {
      "cell_type": "markdown",
      "metadata": {
        "id": "sbn-dVWtTETV"
      },
      "source": [
        "## **Lab 2**"
      ]
    },
    {
      "cell_type": "markdown",
      "metadata": {
        "id": "uTozRLuWTETW"
      },
      "source": [
        "### **Part 3. Poetry generation**\n",
        "\n",
        "Let's try to generate some poetry using RNNs. \n",
        "\n",
        "You have several choices here: \n",
        "\n",
        "* The Shakespeare sonnets, file `sonnets.txt` available in the notebook directory.\n",
        "\n",
        "* Роман в стихах \"Евгений Онегин\" Александра Сергеевича Пушкина. В предобработанном виде доступен по [ссылке](https://github.com/attatrol/data_sources/blob/master/onegin.txt).\n",
        "\n",
        "* Some other text source, if it will be approved by the course staff.\n",
        "\n",
        "Text generation can be designed in several steps:\n",
        "    \n",
        "1. Data loading.\n",
        "2. Dictionary generation.\n",
        "3. Data preprocessing.\n",
        "4. Model (neural network) training.\n",
        "5. Text generation (model evaluation).\n"
      ]
    },
    {
      "cell_type": "code",
      "execution_count": 1,
      "metadata": {
        "id": "068tYnEHTETX"
      },
      "outputs": [],
      "source": [
        "import string\n",
        "import os"
      ]
    },
    {
      "cell_type": "markdown",
      "source": [
        "заимпортим необходимые модули"
      ],
      "metadata": {
        "id": "ygz5osXDVzgC"
      }
    },
    {
      "cell_type": "code",
      "source": [
        "import numpy as np\n",
        "import torch\n",
        "import torch.nn as nn\n",
        "import torch.nn.functional as F\n",
        "\n",
        "from IPython.display import clear_output\n",
        "import matplotlib.pyplot as plt"
      ],
      "metadata": {
        "id": "ib7VAfzJVyqi"
      },
      "execution_count": 2,
      "outputs": []
    },
    {
      "cell_type": "code",
      "execution_count": 3,
      "metadata": {
        "id": "i7HK3EYgWJmP"
      },
      "outputs": [],
      "source": [
        "device = torch.device(\"cuda\") if torch.cuda.is_available() else torch.device(\"cpu\")"
      ]
    },
    {
      "cell_type": "markdown",
      "metadata": {
        "id": "WjY0xcM7TETX"
      },
      "source": [
        "### **Data loading: Shakespeare**"
      ]
    },
    {
      "cell_type": "markdown",
      "metadata": {
        "id": "h-nrk4oMTETX"
      },
      "source": [
        "Shakespeare sonnets are awailable at this [link](http://www.gutenberg.org/ebooks/1041?msg=welcome_stranger). In addition, they are stored in the same directory as this notebook (`sonnetes.txt`). Simple preprocessing is already done for you in the next cell: all technical info is dropped."
      ]
    },
    {
      "cell_type": "code",
      "execution_count": 4,
      "metadata": {
        "id": "01vcY020TETX"
      },
      "outputs": [],
      "source": [
        "if not os.path.exists('sonnets.txt'):\n",
        "    !wget https://raw.githubusercontent.com/girafe-ai/ml-mipt/master/homeworks_basic/Lab2_DL/sonnets.txt\n",
        "\n",
        "with open('sonnets.txt', 'r') as iofile:\n",
        "    text = iofile.readlines()\n",
        "    \n",
        "TEXT_START = 45\n",
        "TEXT_END = -368\n",
        "text = text[TEXT_START : TEXT_END]\n",
        "assert len(text) == 2616"
      ]
    },
    {
      "cell_type": "markdown",
      "metadata": {
        "id": "5RYRc6GYTETX"
      },
      "source": [
        "In opposite to the in-class practice, this time we want to predict complex text. Let's reduce the complexity of the task and lowercase all the symbols.\n",
        "\n",
        "Now variable `text` is a list of strings. Join all the strings into one and lowercase it."
      ]
    },
    {
      "cell_type": "code",
      "execution_count": 5,
      "metadata": {
        "colab": {
          "base_uri": "https://localhost:8080/"
        },
        "id": "7Zz3Ay0bTETY",
        "outputId": "4525fdf9-fe36-460c-9f32-596b0fb5e843"
      },
      "outputs": [
        {
          "output_type": "stream",
          "name": "stdout",
          "text": [
            "OK!\n"
          ]
        }
      ],
      "source": [
        "# Join all the strings into one and lowercase it\n",
        "# Put result into variable text.\n",
        "text = ''.join([x.lower() for x in text]).lower()\n",
        "\n",
        "assert len(text) == 100225, 'Are you sure you have concatenated all the strings?'\n",
        "assert not any([x in set(text) for x in string.ascii_uppercase]), 'Uppercase letters are present'\n",
        "print('OK!')"
      ]
    },
    {
      "cell_type": "markdown",
      "metadata": {
        "id": "gxaUTHwgTETY"
      },
      "source": [
        "### **Data loading: \"Евгений Онегин\"**\n"
      ]
    },
    {
      "cell_type": "code",
      "execution_count": 6,
      "metadata": {
        "colab": {
          "base_uri": "https://localhost:8080/"
        },
        "id": "ieuQgQuRTETY",
        "outputId": "3c1c5150-0d13-47cd-d920-129030a1f1b7"
      },
      "outputs": [
        {
          "output_type": "stream",
          "name": "stdout",
          "text": [
            "--2021-12-17 19:56:17--  https://raw.githubusercontent.com/attatrol/data_sources/master/onegin.txt\n",
            "Resolving raw.githubusercontent.com (raw.githubusercontent.com)... 185.199.108.133, 185.199.109.133, 185.199.110.133, ...\n",
            "Connecting to raw.githubusercontent.com (raw.githubusercontent.com)|185.199.108.133|:443... connected.\n",
            "HTTP request sent, awaiting response... 200 OK\n",
            "Length: 262521 (256K) [text/plain]\n",
            "Saving to: ‘onegin.txt.4’\n",
            "\n",
            "onegin.txt.4        100%[===================>] 256.37K  --.-KB/s    in 0.03s   \n",
            "\n",
            "2021-12-17 19:56:17 (8.24 MB/s) - ‘onegin.txt.4’ saved [262521/262521]\n",
            "\n"
          ]
        }
      ],
      "source": [
        "!wget https://raw.githubusercontent.com/attatrol/data_sources/master/onegin.txt\n",
        "    \n",
        "with open('onegin.txt', 'r') as iofile:\n",
        "    text_onegin = iofile.readlines()\n",
        "    \n",
        "text_onegin = [x.replace('\\t\\t', '') for x in text_onegin]"
      ]
    },
    {
      "cell_type": "markdown",
      "metadata": {
        "id": "sswoXqQvTETZ"
      },
      "source": [
        "In opposite to the in-class practice, this time we want to predict complex text. Let's reduce the complexity of the task and lowercase all the symbols.\n",
        "\n",
        "Now variable `text` is a list of strings. Join all the strings into one and lowercase it."
      ]
    },
    {
      "cell_type": "code",
      "execution_count": 7,
      "metadata": {
        "id": "7I1lF68HTETZ"
      },
      "outputs": [],
      "source": [
        "# Join all the strings into one and lowercase it\n",
        "# Put result into variable text.\n",
        "text_onegin = \"\".join([x.lower() for x in text_onegin])"
      ]
    },
    {
      "cell_type": "markdown",
      "metadata": {
        "id": "WtKcSaYCTETZ"
      },
      "source": [
        "Put all the characters, that you've seen in the text, into variable `tokens`, заодно и выясним длину множества"
      ]
    },
    {
      "cell_type": "code",
      "execution_count": 8,
      "metadata": {
        "colab": {
          "base_uri": "https://localhost:8080/"
        },
        "id": "yqC4a2g-TETZ",
        "outputId": "add626d4-99dd-42bc-ba8b-1127c0f7b1db"
      },
      "outputs": [
        {
          "output_type": "execute_result",
          "data": {
            "text/plain": [
              "38"
            ]
          },
          "metadata": {},
          "execution_count": 8
        }
      ],
      "source": [
        "tokens = sorted(set(text))\n",
        "len(tokens)"
      ]
    },
    {
      "cell_type": "markdown",
      "metadata": {
        "id": "Oy34E2cdTETZ"
      },
      "source": [
        "Create dictionary `token_to_idx = {<char>: <index>}` and dictionary `idx_to_token = {<index>: <char>}`"
      ]
    },
    {
      "cell_type": "code",
      "execution_count": 9,
      "metadata": {
        "id": "2y6moe5STETa"
      },
      "outputs": [],
      "source": [
        "# dict <index>:<char>\n",
        "idx_to_token = {i: token for i, token in enumerate(tokens)}\n",
        "\n",
        "# dict <char>:<index>\n",
        "token_to_idx = {token: i for i, token in enumerate(tokens)}"
      ]
    },
    {
      "cell_type": "markdown",
      "metadata": {
        "id": "iBr6C3L6TETa"
      },
      "source": [
        "*Comment: in this task we have only 38 different tokens, so let's use one-hot encoding.*"
      ]
    },
    {
      "cell_type": "code",
      "execution_count": 10,
      "metadata": {
        "id": "kVYei6u5YLRy"
      },
      "outputs": [],
      "source": [
        "sentences = [] \n",
        "next_tokens = []\n",
        "for i in range(0, len(text) - 64, 1):\n",
        "    sentences.append(text[i : i + 64])\n",
        "    next_tokens.append(text[i + 64])\n",
        "\n",
        "x = np.zeros((len(sentences), 64, len(tokens)))\n",
        "y = np.zeros((len(sentences), len(tokens)))\n",
        "\n",
        "for i, sentence in enumerate(sentences):\n",
        "    for t, token in enumerate(sentence):\n",
        "        x[i, t, token_to_idx[token]] = 1\n",
        "    y[i, token_to_idx[next_tokens[i]]] = 1  \n"
      ]
    },
    {
      "cell_type": "code",
      "execution_count": 11,
      "metadata": {
        "colab": {
          "base_uri": "https://localhost:8080/"
        },
        "id": "DQnLhGIylIK-",
        "outputId": "96af7135-0035-4f97-ae47-6b94ba0ae118"
      },
      "outputs": [
        {
          "output_type": "stream",
          "name": "stdout",
          "text": [
            "(100161, 64, 38)\n"
          ]
        }
      ],
      "source": [
        "print(x.shape)"
      ]
    },
    {
      "cell_type": "markdown",
      "metadata": {
        "id": "aIs2TOVPTETa"
      },
      "source": [
        "### **Building the model**"
      ]
    },
    {
      "cell_type": "markdown",
      "metadata": {
        "id": "3WFUlhc-TETa"
      },
      "source": [
        "Now we want to build and train recurrent neural net which would be able to something similar to Shakespeare's poetry.\n",
        "\n",
        "Let's use vanilla RNN, similar to the one created during the lesson."
      ]
    },
    {
      "cell_type": "code",
      "execution_count": 12,
      "metadata": {
        "id": "utzYMDIKTETa"
      },
      "outputs": [],
      "source": [
        "# Your code here\n",
        "class RNN(nn.Module):\n",
        "    def __init__(self, n_tokens = len(tokens), hidden_dim = 128, emb_dim = 128, n_layers = 1):\n",
        "        super(RNN, self).__init__()\n",
        "        self.hidden_dim = hidden_dim\n",
        "        self.emb_dim = emb_dim\n",
        "        self.n_layers = n_layers\n",
        "        self.n_tokens = n_tokens\n",
        "        \n",
        "        self.embed = nn.Embedding(n_tokens, self.emb_dim)\n",
        "        self.rnn = nn.RNN(self.emb_dim, self.hidden_dim, batch_first =  True)\n",
        "        self.dropout  = nn.Dropout(.35)\n",
        "        self.hid_to_logits = nn.Linear(self.hidden_dim, n_tokens)\n",
        "    \n",
        "    def forward(self, x, h_prev):\n",
        "        h_seq, h = self.rnn(self.embed(x), h_prev)\n",
        "        h_seq = self.dropout(h_seq)\n",
        "        next_logits = self.hid_to_logits(h_seq)\n",
        "        return next_logits, h\n",
        "    \n",
        "    def initial_state(self, batch_size):\n",
        "        weight = next(self.parameters()).data\n",
        "        return weight.new(self.n_layers, batch_size, self.hidden_dim).zero_().to(device)"
      ]
    },
    {
      "cell_type": "code",
      "execution_count": 13,
      "metadata": {
        "id": "xwCiAltqdkgV"
      },
      "outputs": [],
      "source": [
        "def get_batches(x, y, device, batch_size, batch_ind):\n",
        "    x_batch = torch.argmax(torch.Tensor(x[batch_ind - batch_size : batch_ind]), dim = -1).to(device)\n",
        "    y_batch = torch.argmax(torch.Tensor(y[batch_ind - batch_size : batch_ind]), dim = -1).to(device)\n",
        "\n",
        "    return x_batch, y_batch"
      ]
    },
    {
      "cell_type": "code",
      "execution_count": 14,
      "metadata": {
        "id": "twO_cPp1blIe"
      },
      "outputs": [],
      "source": [
        "def train_model(model, epochs=800):\n",
        "    torch.manual_seed(7)\n",
        "    batch_size = 512\n",
        "    optimizer = torch.optim.Adam(model.parameters(), lr=0.001)\n",
        "    criterion = nn.CrossEntropyLoss()\n",
        "    loss_history = []\n",
        "\n",
        "    model.train()\n",
        "\n",
        "    for epoch in range(1, epochs+1):\n",
        "        curr_loss = []\n",
        "        hidden_state = model.initial_state(batch_size)\n",
        "\n",
        "        for batch_ind in range(batch_size, x.shape[0], batch_size):         \n",
        "            optimizer.zero_grad()\n",
        "            x_batch, y_batch = get_batches(x, y, device, batch_size, batch_ind)\n",
        "\n",
        "            optimizer.zero_grad()\n",
        "            seq, hidden_state = model(x_batch, hidden_state)\n",
        "            loss = criterion(seq[:, -1].contiguous(), y_batch.contiguous())  \n",
        "            loss.backward()\n",
        "            optimizer.step()  \n",
        "            curr_loss.append(loss.item())\n",
        "            hidden_state = hidden_state.detach()\n",
        "\n",
        "        loss_history.append(np.mean(curr_loss))\n",
        "        if epoch % 5 == 0:\n",
        "            print(f'epoch {epoch}')\n",
        "            print(f'loss {loss_history[-1]}')\n",
        "            \n",
        "    #visualize\n",
        "    plt.figure(figsize=(18,7))\n",
        "    plt.plot(loss_history, label = 'loss')\n",
        "    plt.xlabel(\"epochs\")\n",
        "    plt.legend()\n",
        "    plt.show()"
      ]
    },
    {
      "cell_type": "markdown",
      "metadata": {
        "id": "XRV-5JiQTETb"
      },
      "source": [
        "Plot the loss function (axis X: number of epochs, axis Y: loss function)."
      ]
    },
    {
      "cell_type": "code",
      "execution_count": 15,
      "metadata": {
        "colab": {
          "base_uri": "https://localhost:8080/",
          "height": 995
        },
        "id": "StpnWGFNTETb",
        "outputId": "cdae92c6-d2f4-4a6b-8e91-84d93a521cb3"
      },
      "outputs": [
        {
          "output_type": "stream",
          "name": "stdout",
          "text": [
            "epoch 5\n",
            "current loss 1.8743894540346586\n",
            "epoch 10\n",
            "current loss 1.7874047554456272\n",
            "epoch 15\n",
            "current loss 1.7406635431142954\n",
            "epoch 20\n",
            "current loss 1.7136856317520142\n",
            "epoch 25\n",
            "current loss 1.6925207180854602\n",
            "epoch 30\n",
            "current loss 1.6745837015983387\n",
            "epoch 35\n",
            "current loss 1.662872716708061\n",
            "epoch 40\n",
            "current loss 1.6525868819310114\n",
            "epoch 45\n",
            "current loss 1.6398234459070058\n",
            "epoch 50\n",
            "current loss 1.6379779797333938\n",
            "epoch 55\n",
            "current loss 1.6258083942608956\n",
            "epoch 60\n",
            "current loss 1.620752812654544\n",
            "epoch 65\n",
            "current loss 1.6169992489692493\n",
            "epoch 70\n",
            "current loss 1.6141981314390133\n",
            "epoch 75\n",
            "current loss 1.6090634077023238\n"
          ]
        },
        {
          "output_type": "display_data",
          "data": {
            "image/png": "[encoded data removed]",
            "text/plain": [
              "<Figure size 1296x504 with 1 Axes>"
            ]
          },
          "metadata": {
            "needs_background": "light"
          }
        }
      ],
      "source": [
        "model_rnn = RNN()\n",
        "model_rnn.to(device)\n",
        "\n",
        "epochs = 75\n",
        "\n",
        "train_model(model_rnn, epochs)"
      ]
    },
    {
      "cell_type": "code",
      "execution_count": 16,
      "metadata": {
        "id": "sw_2qNJLTETb"
      },
      "outputs": [],
      "source": [
        "def generate_text(char_rnn, tokens = tokens, seed_phrase = 'darling, ', max_length = 100, temperature = 1., flag = False): \n",
        "    x_sequence = torch.Tensor([np.array([token_to_idx[token] for token in seed_phrase.lower()])]).to(device)\n",
        "    hid_state = char_rnn.initial_state(batch_size = 1)\n",
        "\n",
        "    if flag: hid_state = tuple([each.data for each in hid_state])\n",
        "    \n",
        "    #start generating\n",
        "    for _ in range(max_length - len(seed_phrase)):\n",
        "        out, hid_state = char_rnn(torch.stack([x_sequence[:, -1].long()]), hid_state)\n",
        "        preds =  F.softmax(out / temperature, dim = -1).cpu().data.numpy().squeeze()\n",
        "        next_ix_ = np.random.choice(len(tokens), p = preds)\n",
        "        next_ix = torch.LongTensor([[next_ix_]])\n",
        "\n",
        "        x_sequence = torch.cat([x_sequence, next_ix.to(device)], dim = 1)\n",
        "\n",
        "    return ''.join([tokens[int(ix)] for ix in x_sequence.cpu().data.numpy()[0]])"
      ]
    },
    {
      "cell_type": "code",
      "execution_count": 17,
      "metadata": {
        "colab": {
          "base_uri": "https://localhost:8080/"
        },
        "id": "4hrQyL9hTETb",
        "outputId": "2df4802a-b64c-48c7-b924-5ea5aa6625a8"
      },
      "outputs": [
        {
          "output_type": "stream",
          "name": "stderr",
          "text": [
            "/usr/local/lib/python3.7/dist-packages/ipykernel_launcher.py:2: UserWarning: Creating a tensor from a list of numpy.ndarrays is extremely slow. Please consider converting the list to a single numpy.ndarray with numpy.array() before converting to a tensor. (Triggered internally at  ../torch/csrc/utils/tensor_new.cpp:201.)\n",
            "  \n"
          ]
        },
        {
          "output_type": "stream",
          "name": "stdout",
          "text": [
            "darling, thisu arast say whingo the proud with tse cweal'd,\n",
            "  i hos ating this me faar their, ane gonings,\n",
            "  when his may, thou forselfo good, tofnen is my lades i lare, th me thet be thrance.\n",
            "  is woor my undired noth.\n",
            "\n",
            "  cxxxvi\n",
            "\n",
            "  th it men to mine frinese.\n",
            "  you.\n",
            "\n",
            "  cxxxiv\n",
            "\n",
            "  thy shalt my love,s nath,\n",
            "  whics her in ost,\n",
            "  out to laid me,\n",
            "  unkindd\n",
            "  and tumingss one,\n",
            "  y of iover hane, what tho, not and days me is way stumber deast,\n",
            "  and still,\n",
            "    fall\n",
            "  my lever on a false, it,\n",
            "  which an\n"
          ]
        }
      ],
      "source": [
        "model_rnn.eval()\n",
        "print(generate_text(char_rnn = model_rnn,  max_length = 500, temperature = 1.))"
      ]
    },
    {
      "cell_type": "markdown",
      "metadata": {
        "id": "o1ABZ4RwTETc"
      },
      "source": [
        "### **More poetic model**\n",
        "\n",
        "Let's use LSTM instead of vanilla RNN and compare the results."
      ]
    },
    {
      "cell_type": "markdown",
      "metadata": {
        "id": "VEVotTuCTETc"
      },
      "source": [
        "Plot the loss function of the number of epochs. Does the final loss become better?"
      ]
    },
    {
      "cell_type": "code",
      "execution_count": 25,
      "metadata": {
        "id": "e74cgNR4TETc"
      },
      "outputs": [],
      "source": [
        "class LSTM (nn.Module):\n",
        "    def __init__(self, n_tokens = len(tokens), hidden_dim = 256, emb_dim = 128, n_layers = 1):\n",
        "        super(LSTM, self).__init__()\n",
        "        self.hidden_dim = hidden_dim\n",
        "        self.emb_dim = emb_dim\n",
        "        self.n_layers = n_layers\n",
        "        self.n_tokens = emb_dim\n",
        "        self.embed = nn.Embedding(n_tokens, self.emb_dim)\n",
        "        self.lstm = nn.LSTM(self.emb_dim, self.hidden_dim, batch_first =  True)\n",
        "        self.hid_to_logits = nn.Linear(self.hidden_dim, n_tokens)\n",
        "    \n",
        "    def forward(self, x, hidden_state):\n",
        "        out, hidden_state = self.lstm(self.embed(x), hidden_state)\n",
        "        out = self.hid_to_logits(out)\n",
        "        return out, hidden_state\n",
        "    \n",
        "    def initial_state(self, batch_size):\n",
        "        weight = next(self.parameters()).data\n",
        "        hidden = (weight.new(self.n_layers, batch_size, self.hidden_dim).zero_().to(device),\n",
        "        weight.new(self.n_layers, batch_size, self.hidden_dim).zero_().to(device))\n",
        "        return hidden"
      ]
    },
    {
      "cell_type": "code",
      "execution_count": 26,
      "metadata": {
        "id": "p-4HlGOwl6F1"
      },
      "outputs": [],
      "source": [
        "def train_model_lstm(model, epochs=800):\n",
        "    torch.manual_seed(7)\n",
        "    batch_size = 512\n",
        "    optimizer = torch.optim.Adam(model.parameters(), lr=0.001)\n",
        "    criterion = nn.CrossEntropyLoss()\n",
        "    loss_history = []\n",
        "\n",
        "    model.train()\n",
        "\n",
        "    for epoch in range(1, epochs+1):\n",
        "        curr_loss = []\n",
        "        hidden_state = model.initial_state(batch_size)\n",
        "\n",
        "        for batch_ind in range(batch_size, x.shape[0], batch_size):\n",
        "            x_batch, y_batch = get_batches(x, y, device, batch_size, batch_ind)\n",
        "            hidden_state = tuple([each.data for each in hidden_state])\n",
        "\n",
        "            optimizer.zero_grad()\n",
        "            seq, hidden_state = model_lstm(x_batch, hidden_state)\n",
        "            loss = criterion(seq[:, -1].contiguous(), y_batch.contiguous())  \n",
        "            loss.backward()\n",
        "            optimizer.step()\n",
        "            curr_loss.append(loss.item())  \n",
        "\n",
        "        loss_history.append(np.mean(curr_loss))\n",
        "        if epoch % 5 == 0:\n",
        "            print(f'epoch {epoch}')\n",
        "            print(f'loss {loss_history[-1]}')\n",
        "            \n",
        "    #visualize\n",
        "    plt.figure(figsize=(18,7))\n",
        "    plt.plot(loss_history, label = 'loss')\n",
        "    plt.xlabel(\"epochs\")\n",
        "    plt.legend()\n",
        "    plt.show()"
      ]
    },
    {
      "cell_type": "code",
      "execution_count": 27,
      "metadata": {
        "colab": {
          "base_uri": "https://localhost:8080/",
          "height": 995
        },
        "id": "AyV20dWKpP7j",
        "outputId": "83dfe2fc-9e3e-4f69-db33-0bb40c905f63"
      },
      "outputs": [
        {
          "output_type": "stream",
          "name": "stdout",
          "text": [
            "epoch 5\n",
            "loss 1.5147328450129582\n",
            "epoch 10\n",
            "loss 1.3301257591981155\n",
            "epoch 15\n",
            "loss 1.2047754678970728\n",
            "epoch 20\n",
            "loss 1.0852965275446573\n",
            "epoch 25\n",
            "loss 0.9641323578663361\n",
            "epoch 30\n",
            "loss 0.8831740856170655\n",
            "epoch 35\n",
            "loss 0.8086255321135888\n",
            "epoch 40\n",
            "loss 0.7325671507762028\n",
            "epoch 45\n",
            "loss 0.6782505527520791\n",
            "epoch 50\n",
            "loss 0.6045076730923775\n",
            "epoch 55\n",
            "loss 0.5684018668455956\n",
            "epoch 60\n",
            "loss 0.5209186046551435\n",
            "epoch 65\n",
            "loss 0.47755273641684115\n",
            "epoch 70\n",
            "loss 0.4422441487128918\n",
            "epoch 75\n",
            "loss 0.4198530152822152\n"
          ]
        },
        {
          "output_type": "display_data",
          "data": {
            "image/png": "[encoded data removed]",
            "text/plain": [
              "<Figure size 1296x504 with 1 Axes>"
            ]
          },
          "metadata": {
            "needs_background": "light"
          }
        }
      ],
      "source": [
        "model_lstm = LSTM()\n",
        "model_lstm.to(device)\n",
        "\n",
        "epochs = 75\n",
        "\n",
        "train_model_lstm(model_lstm, epochs)"
      ]
    },
    {
      "cell_type": "markdown",
      "metadata": {
        "id": "YzOL8sQGTETc"
      },
      "source": [
        "Generate text using the trained net with different `temperature` parameter: `[0.1, 0.2, 0.5, 1.0, 2.0]`.\n",
        "\n",
        "Evaluate the results visually, try to interpret them."
      ]
    },
    {
      "cell_type": "code",
      "execution_count": 28,
      "metadata": {
        "colab": {
          "base_uri": "https://localhost:8080/"
        },
        "id": "1EUKTBSHTETc",
        "outputId": "12d8c8ca-3183-4173-a9be-e778c5379384"
      },
      "outputs": [
        {
          "output_type": "stream",
          "name": "stdout",
          "text": [
            "TEMPERATURE =  0.1\n",
            "\t darling, true sight\n",
            "  as thou being mine is thy song, self so strange?\n",
            "  why dost thou pleasure of death doth dwell\n",
            "  that love is my heart think that lovely knife,\n",
            "  and all my absence save whereon belied?\n",
            "    because her bad and in my mistress reeds.\n",
            "\n",
            "  xci\n",
            "\n",
            "  how like a sweetly hand the willing look,\n",
            "  pointing to heart to suffering to belov'd,\n",
            "    then better'd love to hear we proud fold,\n",
            "  th \n",
            "\n",
            "TEMPERATURE =  0.2\n",
            "\t darling, true sight\n",
            "  as thou being mine is thy song, self so strange?\n",
            "  why dost thou pleasure of decay'd with thee,\n",
            "  who leaves so long as you desire,\n",
            "  that heavy sake love, sick of the tender much trage\n",
            "  as he that cannot contented founds hate,\n",
            "  stain the rest, follow i am forsworn,\n",
            "  and see the tillers what we see doth lie:\n",
            "  the wastes of thy sweet self to die.\n",
            "\n",
            "  cxliv\n",
            "\n",
            "  when thou shal \n",
            "\n",
            "TEMPERATURE =  0.5\n",
            "\t darling, true short.\n",
            "  weeds not silent thou lov'st me blest,\n",
            "  making no lame with this poor state out on thee,\n",
            "  who wills not whom from you hast dote seem'd from thee.\n",
            "\n",
            "  cxxxii\n",
            "\n",
            "  thou wilt not, nor he will not evermore short\n",
            "  with taught is my dear virtue hath held behom's;\n",
            "  and, to lend another to this hand the wide?\n",
            "  o! let thou shalt thou should lie your sight.\n",
            "  nat doth thou they in t \n",
            "\n",
            "TEMPERATURE =  1.0\n",
            "\t darling, profan'd.\n",
            "  in not so prove you were bitter night?\n",
            "  but be happy to do it his find'd with his part\n",
            "  of my minders dovel-sweet self are forgst,\n",
            "  once might unletter'd then not be seen,\n",
            "  were in thine eyes, each preceiv'st,\n",
            "  which can live in my summer's dearest,\n",
            "  for they in thee in the wish in thee gift,\n",
            "  when achent in my sin you were;\n",
            "  from my since my silence gracious, still,\n",
            "  \n",
            "\n",
            "TEMPERATURE =  2.0\n",
            "\t darling, thee, wit:\n",
            "    ablebstes into injoy ne'er joy devernwice\n",
            "  mojeath use daidit hanging shamex: she is thy old true?\n",
            "    or new-founing tonce lest sive largf:;  ut you to compou'd with a botr think of they theye-\n",
            "  to 'ling to please hath i disgrace ol!\n",
            "    thy wound bose silent thou be'st,\n",
            "  mise of thou for or, and my rottun gave:-s gefect,\n",
            "  sweakenow's wo, no pase adul'ves titloove,\n",
            "  c \n",
            "\n"
          ]
        }
      ],
      "source": [
        "# Text generation with different temperature values here\n",
        "model_lstm.eval()\n",
        "\n",
        "for temperature in [0.1, 0.2, 0.5, 1.0, 2.0]:\n",
        "    print(\"TEMPERATURE = \", temperature)\n",
        "    poetry = generate_text(char_rnn = model_lstm, temperature = temperature, max_length = 400, seed_phrase = \"Darling, \")\n",
        "\n",
        "    print('\\t', poetry, '\\n')"
      ]
    },
    {
      "cell_type": "markdown",
      "metadata": {
        "id": "OHJMsdDW4X_C"
      },
      "source": [
        "При teperature = 0.2 - 0.5 тексты получились достаточно красивые и похожи на реальные\n",
        "\n",
        "При teperature > 0.5 увеличивается процент ошибок в орфографии"
      ]
    },
    {
      "cell_type": "markdown",
      "metadata": {
        "id": "F4GJlbNxTETc"
      },
      "source": [
        "### **Saving and loading models**"
      ]
    },
    {
      "cell_type": "markdown",
      "metadata": {
        "id": "8jhJdBDhTETd"
      },
      "source": [
        "Save the model to the disk, then load it and generate text. Examples are available [here](https://pytorch.org/tutorials/beginner/saving_loading_models.html])."
      ]
    },
    {
      "cell_type": "code",
      "execution_count": 29,
      "metadata": {
        "id": "U4XPJrNJTETd"
      },
      "outputs": [],
      "source": [
        "# Saving and loading code here\n",
        "def save_net(net, name: str, opt):\n",
        "    checkpoint = {'state_dict': net.state_dict(),\n",
        "                  'opt_state_dict': opt.state_dict()}\n",
        "\n",
        "    with open(name, 'wb') as f:\n",
        "        torch.save(checkpoint, f)"
      ]
    },
    {
      "cell_type": "code",
      "execution_count": 30,
      "metadata": {
        "colab": {
          "base_uri": "https://localhost:8080/"
        },
        "id": "yN5NGg-CqqBu",
        "outputId": "30f91644-91d0-4f17-c023-037b0c36d378"
      },
      "outputs": [
        {
          "output_type": "execute_result",
          "data": {
            "text/plain": [
              "LSTM(\n",
              "  (embed): Embedding(38, 128)\n",
              "  (lstm): LSTM(128, 256, batch_first=True)\n",
              "  (hid_to_logits): Linear(in_features=256, out_features=38, bias=True)\n",
              ")"
            ]
          },
          "metadata": {},
          "execution_count": 30
        }
      ],
      "source": [
        "optimizer = torch.optim.Adam(model_lstm.parameters(), lr=0.001)\n",
        "save_net(model_lstm, \"LSTM.net\", optimizer)\n",
        "\n",
        "checkpoint = torch.load(\"LSTM.net\")\n",
        "model_lstm.load_state_dict(checkpoint['state_dict'])\n",
        "optimizer.load_state_dict(checkpoint['opt_state_dict'])\n",
        "model_lstm.eval()"
      ]
    },
    {
      "cell_type": "code",
      "source": [
        "print(generate_text(char_rnn = model_lstm, temperature = 1., max_length = 450, seed_phrase = \"Darling! \"))"
      ],
      "metadata": {
        "colab": {
          "base_uri": "https://localhost:8080/"
        },
        "id": "s3Fbfrx7vOiT",
        "outputId": "2b369372-cd7c-419c-dda3-2b5d5a1613eb"
      },
      "execution_count": 31,
      "outputs": [
        {
          "output_type": "stream",
          "name": "stdout",
          "text": [
            "darling! alone,\n",
            "    when i but in happy to make the rest face,\n",
            "  wear it that my spirit pen call;\n",
            "  when others were blank render,\n",
            "  they all cheeks hath not sick and more ragh'd,\n",
            "  sick of receive that say they drivide;\n",
            "  look piect of wrom care, and i assay's eless wink,\n",
            "  when others wear the true comes rengars.\n",
            "\n",
            "  cxxxxii\n",
            "\n",
            "  thou mayst in thee and more will of tenceit,\n",
            "  and in that so errors normers hate,\n",
            "  all my name rehembers with his poe\n"
          ]
        }
      ]
    },
    {
      "cell_type": "markdown",
      "metadata": {
        "id": "D41F-bebTETd"
      },
      "source": [
        "### **References**\n",
        "1. <a href='http://karpathy.github.io/2015/05/21/rnn-effectiveness/'> Andrew Karpathy blog post about RNN. </a> \n",
        "There are several examples of genration: Shakespeare texts, Latex formulas, Linux Sourse Code and children names.\n",
        "2. <a href='https://github.com/karpathy/char-rnn'> Repo with char-rnn code </a>\n",
        "3. Cool repo with PyTorch examples: [link](https://github.com/spro/practical-pytorch`)"
      ]
    }
  ],
  "metadata": {
    "accelerator": "GPU",
    "anaconda-cloud": {},
    "colab": {
      "name": "Lab2_part3_poetry_final.ipynb",
      "provenance": []
    },
    "kernelspec": {
      "display_name": "Python 3 (ipykernel)",
      "language": "python",
      "name": "python3"
    },
    "language_info": {
      "codemirror_mode": {
        "name": "ipython",
        "version": 3
      },
      "file_extension": ".py",
      "mimetype": "text/x-python",
      "name": "python",
      "nbconvert_exporter": "python",
      "pygments_lexer": "ipython3",
      "version": "3.9.7"
    }
  },
  "nbformat": 4,
  "nbformat_minor": 0
}